{
 "cells": [
  {
   "cell_type": "markdown",
   "id": "5de1cf4e-81ed-45cd-bff4-6da75b8a9c65",
   "metadata": {},
   "source": [
    "# word2vec"
   ]
  },
  {
   "cell_type": "code",
   "execution_count": 30,
   "id": "954d2ea9-fadd-409f-b92b-597464c946fa",
   "metadata": {},
   "outputs": [],
   "source": [
    "import pandas as pd\n",
    "import matplotlib.pyplot as plt\n",
    "import numpy as np\n",
    "import nltk\n",
    "from nltk.tokenize import word_tokenize\n",
    "from nltk.corpus import stopwords\n",
    "from gensim.models import Word2Vec\n",
    "from sklearn.metrics import confusion_matrix, ConfusionMatrixDisplay\n",
    "from sklearn.model_selection import train_test_split"
   ]
  },
  {
   "cell_type": "code",
   "execution_count": 31,
   "id": "f3498460-80c7-4bc5-8367-f382c5a389de",
   "metadata": {},
   "outputs": [],
   "source": [
    "news = pd.read_csv('../Data/news_classification_Feb29_24.csv')\n",
    "test = pd.read_csv('../Data/test_set_Feb29_2024.csv')"
   ]
  },
  {
   "cell_type": "code",
   "execution_count": 32,
   "id": "44028116-9df8-48e2-9d61-bf1ff440a1ef",
   "metadata": {},
   "outputs": [],
   "source": [
    "stop_words = set(stopwords.words('english'))"
   ]
  },
  {
   "cell_type": "code",
   "execution_count": 38,
   "id": "e2a68f83-0d86-4e01-9213-a5a61f0c6e29",
   "metadata": {},
   "outputs": [],
   "source": [
    "X_train_text, X_val_text, y_train, y_val = train_test_split(news.text, news.label, test_size=0.1, random_state=42, stratify=news.label)\n",
    "X_test_text = test.text\n",
    "y_test = test.label"
   ]
  },
  {
   "cell_type": "code",
   "execution_count": 39,
   "id": "ece41266-788a-4cd5-a359-41df73045af4",
   "metadata": {},
   "outputs": [],
   "source": [
    "def preprocess_text(text):\n",
    "    tokens = word_tokenize(text)\n",
    "    tokens = [word.lower() for word in tokens if word.isalpha() and word.lower() not in stop_words]\n",
    "    return tokens"
   ]
  },
  {
   "cell_type": "code",
   "execution_count": 40,
   "id": "0ea77f30-ed47-4dd2-acef-5ac50c0cccad",
   "metadata": {},
   "outputs": [],
   "source": [
    "# Apply the preprocessing to your DataFrame\n",
    "X_train_preprocess_text = X_train_text.apply(preprocess_text)\n",
    "X_val_preprocess_text = X_val_text.apply(preprocess_text)\n",
    "X_test_preprocess_text = X_test_text.apply(preprocess_text)"
   ]
  },
  {
   "cell_type": "code",
   "execution_count": 42,
   "id": "c8103392-4ce2-4169-a36e-11e606115ebd",
   "metadata": {},
   "outputs": [
    {
     "data": {
      "text/plain": [
       "21148    [republican, senator, orrin, hatch, tried, jus...\n",
       "23363    [frauke, petry, alternative, germany, said, tu...\n",
       "19607    [month, ago, people, started, noticing, large,...\n",
       "6139     [australia, domestic, spy, chief, warned, univ...\n",
       "75       [news, cycle, filled, bad, news, lately, weari...\n",
       "Name: text, dtype: object"
      ]
     },
     "execution_count": 42,
     "metadata": {},
     "output_type": "execute_result"
    }
   ],
   "source": [
    "X_train_preprocess_text.head()"
   ]
  },
  {
   "cell_type": "markdown",
   "id": "e013c255-4c0b-48e2-a670-3a3aebe7051c",
   "metadata": {},
   "source": [
    "**processed_text is list of tokens for each row (each news).**"
   ]
  },
  {
   "cell_type": "code",
   "execution_count": 43,
   "id": "409cd1d8-bb66-4ecc-8347-53fdb2dd4c94",
   "metadata": {},
   "outputs": [],
   "source": [
    "sentences_train = X_train_preprocess_text.tolist()"
   ]
  },
  {
   "cell_type": "markdown",
   "id": "395c4612-fc45-48ba-88a6-cc32c08e580b",
   "metadata": {},
   "source": [
    "**sentences_train is list of lists, each list in it is a list of tokens for each row.**"
   ]
  },
  {
   "cell_type": "code",
   "execution_count": 44,
   "id": "cc0e5485-ca3e-448d-9277-c4c9d4f01aa7",
   "metadata": {},
   "outputs": [
    {
     "data": {
      "text/plain": [
       "33791"
      ]
     },
     "execution_count": 44,
     "metadata": {},
     "output_type": "execute_result"
    }
   ],
   "source": [
    "len(sentences_train) # totally 37546 news for train"
   ]
  },
  {
   "cell_type": "markdown",
   "id": "d7bfbecc-7bed-41c4-8d5f-bb9123fcc519",
   "metadata": {},
   "source": [
    "**train the model, just like fit**"
   ]
  },
  {
   "cell_type": "code",
   "execution_count": 45,
   "id": "f41bd530-13ad-43fe-962b-4ff46e6e4827",
   "metadata": {},
   "outputs": [],
   "source": [
    "model_wv = Word2Vec(sentences_train, vector_size=300, window=5, min_count=1, workers=4)"
   ]
  },
  {
   "cell_type": "code",
   "execution_count": 46,
   "id": "76929aa9-56b9-4e88-b669-1fd0ae5d6236",
   "metadata": {},
   "outputs": [
    {
     "data": {
      "text/plain": [
       "<gensim.models.keyedvectors.KeyedVectors at 0x7fefad0c4d90>"
      ]
     },
     "execution_count": 46,
     "metadata": {},
     "output_type": "execute_result"
    }
   ],
   "source": [
    "model_wv.wv"
   ]
  },
  {
   "cell_type": "markdown",
   "id": "0e34f960-51bc-49fd-ae06-283c22a31f92",
   "metadata": {},
   "source": [
    "**wordvec have no attribute dv, only have wv.**"
   ]
  },
  {
   "cell_type": "code",
   "execution_count": 47,
   "id": "d78e4f5c-62af-4029-bc42-7dffe6d851f1",
   "metadata": {},
   "outputs": [],
   "source": [
    "def vectorize_text(text, model):\n",
    "    vectorized_text = []\n",
    "    for word in text:\n",
    "        if word in model.wv:\n",
    "            vectorized_text.append(model.wv[word])\n",
    "    return vectorized_text"
   ]
  },
  {
   "cell_type": "markdown",
   "id": "8122b84f-1d0a-476c-9aeb-6b513ac746b4",
   "metadata": {},
   "source": [
    "**vectorize the text, this operation just like map, map each word to its vector in trained model, just like transform**"
   ]
  },
  {
   "cell_type": "code",
   "execution_count": 48,
   "id": "ffd1e201-3a73-4061-9d56-f55d68d50b15",
   "metadata": {},
   "outputs": [],
   "source": [
    "#transform the train set\n",
    "X_train_vectorize_text = X_train_preprocess_text.apply(lambda x: vectorize_text(x, model_wv))\n",
    "#transform the val set\n",
    "X_val_vectorize_text = X_val_preprocess_text.apply(lambda x: vectorize_text(x, model_wv))\n",
    "#transform the test set\n",
    "X_test_vectorize_text = X_test_preprocess_text.apply(lambda x: vectorize_text(x, model_wv))"
   ]
  },
  {
   "cell_type": "code",
   "execution_count": 50,
   "id": "b3edb83d-eaed-40ba-98b3-7847cbfe0d5b",
   "metadata": {},
   "outputs": [
    {
     "data": {
      "text/plain": [
       "21148    [[-0.38635126, -1.2738652, 2.4658675, 0.352586...\n",
       "23363    [[-0.051353797, 0.08663751, -0.032068484, -0.0...\n",
       "19607    [[-0.49374986, 1.5779487, 1.405822, -0.0528829...\n",
       "6139     [[0.6674008, 0.5672659, -0.023542183, -0.71905...\n",
       "75       [[-0.11028103, 0.36425164, 0.12133386, 0.45479...\n",
       "Name: text, dtype: object"
      ]
     },
     "execution_count": 50,
     "metadata": {},
     "output_type": "execute_result"
    }
   ],
   "source": [
    "X_train_vectorize_text.head()"
   ]
  },
  {
   "cell_type": "markdown",
   "id": "8a2d2049-a11b-443c-85ef-3fad8ce8c0b5",
   "metadata": {},
   "source": [
    "**vectorized_text is list of arrays, each array in it is a vector for each word with dimension 1000. each vectorized_text have different rows (# of words is different) but same columns 300.**"
   ]
  },
  {
   "cell_type": "code",
   "execution_count": 51,
   "id": "1a5f9d67-96d3-4524-b8a7-fe1fac8ea954",
   "metadata": {},
   "outputs": [],
   "source": [
    "X_train = X_train_vectorize_text.apply(lambda x: np.mean(x, axis=0) if x else np.zeros(model_wv.vector_size)).values    \n",
    "# there maybe empty list in vectorized_text\n",
    "X_val = X_val_vectorize_text.apply(lambda x: np.mean(x, axis=0) if x else np.zeros(model_wv.vector_size)).values\n",
    "# there maybe empty list in vectorized_text\n",
    "X_test = X_test_vectorize_text.apply(lambda x: np.mean(x, axis=0) if x else np.zeros(model_wv.vector_size)).values"
   ]
  },
  {
   "cell_type": "code",
   "execution_count": 52,
   "id": "38029993-165b-4e33-8ae0-1eafeb33405a",
   "metadata": {},
   "outputs": [],
   "source": [
    "X_train = np.vstack(X_train)\n",
    "X_val = np.vstack(X_val)\n",
    "X_test = np.vstack(X_test)"
   ]
  },
  {
   "cell_type": "code",
   "execution_count": 53,
   "id": "73d900a0-ef36-4c4b-a2f9-c3e8325a2f34",
   "metadata": {},
   "outputs": [],
   "source": [
    "from sklearn.model_selection import train_test_split\n",
    "from sklearn.linear_model import LogisticRegression\n",
    "from sklearn.metrics import accuracy_score\n",
    "\n",
    "# Initialize logistic regression model\n",
    "lr_model = LogisticRegression(max_iter=1000)\n",
    "\n",
    "# Train the model\n",
    "lr_model.fit(X_train, y_train)\n",
    "\n",
    "# Make predictions\n",
    "y_val_pred = lr_model.predict(X_val)\n",
    "\n",
    "# Evaluate the model\n",
    "accuracy_val = accuracy_score(y_val, y_val_pred)"
   ]
  },
  {
   "cell_type": "code",
   "execution_count": 54,
   "id": "d8ca4ab2-7b84-4889-ba1d-00005e019273",
   "metadata": {},
   "outputs": [
    {
     "data": {
      "text/plain": [
       "0.9496671105193076"
      ]
     },
     "execution_count": 54,
     "metadata": {},
     "output_type": "execute_result"
    }
   ],
   "source": [
    "accuracy_val"
   ]
  },
  {
   "cell_type": "code",
   "execution_count": 55,
   "id": "1e7c117c-e0b3-478e-b95f-71c79577f1a0",
   "metadata": {},
   "outputs": [
    {
     "data": {
      "image/png": "[encoded data removed]",
      "text/plain": [
       "<Figure size 640x480 with 2 Axes>"
      ]
     },
     "metadata": {},
     "output_type": "display_data"
    }
   ],
   "source": [
    "cm = confusion_matrix(y_val, y_val_pred, labels = lr_model.classes_)\n",
    "fig, ax = plt.subplots()\n",
    "display_cm = ConfusionMatrixDisplay(confusion_matrix = cm, \n",
    "                                    display_labels = ['Fake_news', 'Real_news'])\n",
    "\n",
    "ax.set_xticks([0, 1])\n",
    "ax.set_yticks([0, 1])\n",
    "ax.set_xticklabels(labels = ['Fake_news', 'Real_news'], fontsize = 12)\n",
    "ax.set_yticklabels(labels = ['Fake_news', 'Real_news'], fontsize = 12)\n",
    "\n",
    "display_cm.plot(ax = ax)\n",
    "plt.show()"
   ]
  },
  {
   "cell_type": "code",
   "execution_count": 56,
   "id": "86eff7a5-7913-4b94-9b18-733666ca119f",
   "metadata": {},
   "outputs": [],
   "source": [
    "# Make predictions\n",
    "y_test_pred = lr_model.predict(X_test)\n",
    "\n",
    "# Evaluate the model\n",
    "accuracy_test = accuracy_score(y_test, y_test_pred)"
   ]
  },
  {
   "cell_type": "code",
   "execution_count": 57,
   "id": "b6f930e7-e75d-423a-b9ea-b6d10586e4ee",
   "metadata": {},
   "outputs": [
    {
     "data": {
      "text/plain": [
       "0.88"
      ]
     },
     "execution_count": 57,
     "metadata": {},
     "output_type": "execute_result"
    }
   ],
   "source": [
    "accuracy_test"
   ]
  },
  {
   "cell_type": "code",
   "execution_count": 58,
   "id": "c4bcb5a3-0c25-4755-aace-a38e6ceebc6c",
   "metadata": {},
   "outputs": [
    {
     "data": {
      "image/png": "[encoded data removed]",
      "text/plain": [
       "<Figure size 640x480 with 2 Axes>"
      ]
     },
     "metadata": {},
     "output_type": "display_data"
    }
   ],
   "source": [
    "cm = confusion_matrix(y_test, y_test_pred, labels = lr_model.classes_)\n",
    "fig, ax = plt.subplots()\n",
    "display_cm = ConfusionMatrixDisplay(confusion_matrix = cm, \n",
    "                                    display_labels = ['Fake_news', 'Real_news'])\n",
    "\n",
    "ax.set_xticks([0, 1])\n",
    "ax.set_yticks([0, 1])\n",
    "ax.set_xticklabels(labels = ['Fake_news', 'Real_news'], fontsize = 12)\n",
    "ax.set_yticklabels(labels = ['Fake_news', 'Real_news'], fontsize = 12)\n",
    "\n",
    "display_cm.plot(ax = ax)\n",
    "plt.show()"
   ]
  },
  {
   "cell_type": "markdown",
   "id": "c9656142-4cdd-40c8-ac8c-a850a73aa8c1",
   "metadata": {},
   "source": [
    "# doc2vec"
   ]
  },
  {
   "cell_type": "markdown",
   "id": "a3a12bc7-60c7-4d2d-8a2d-9c4dafb993ec",
   "metadata": {},
   "source": [
    "Word2Vec and Doc2Vec are both popular models for learning vector representations of words and documents, but they serve different purposes and have distinct architectures.\n",
    "\n",
    "**Word2Vec:**\n",
    "\n",
    "Purpose: Word2Vec is designed to generate vector representations embeddings for individual words in a given corpus.\n",
    "\n",
    "<font color=red>Architecture: It uses a shallow neural network to learn distributed representations of words based on their contexts. Two popular architectures within Word2Vec are Skip-Gram and Continuous Bag of Words (CBOW).\n",
    "\n",
    "Training: The training process involves predicting the context words given a target word (Skip-Gram) or predicting a target word given its context (CBOW).\n",
    "\n",
    "Output: The output of Word2Vec is a set of vectors, each representing a word in the vocabulary. These vectors capture semantic relationships between words.    \n",
    "\n",
    "**Doc2Vec:**\n",
    "\n",
    "Purpose: Doc2Vec extends the idea of Word2Vec to generate vector representations for entire documents.\n",
    "\n",
    "<font color=red>Architecture: It also uses a neural network but incorporates an additional paragraph (document) vector. It learns to predict words in a similar manner to Word2Vec but includes a unique vector for each document.\n",
    "\n",
    "Training: In Doc2Vec, the model is trained to predict context words given a target word within a specific document. Each document is assigned a unique identifier, and a vector representation is learned for each document along with the word vectors.\n",
    "\n",
    "Output: The output of Doc2Vec is a set of vectors, each representing a document in the corpus, in addition to the word vectors. This allows capturing document-level semantics.\n",
    "\n",
    "In summary, while Word2Vec focuses on learning word embeddings, Doc2Vec extends this concept to learn embeddings for entire documents. Both models are trained to capture semantic relationships based on the contextual usage of words but operate at different levels of granularity—word level for Word2Vec and document level for Doc2Vec. The trained objects in both cases may involve lists of tokens, but their interpretations and applications differ. Word2Vec provides vectors for words, while Doc2Vec provides vectors for entire documents."
   ]
  },
  {
   "cell_type": "markdown",
   "id": "7f0a3de2-8979-487f-b8d8-a234c600ff43",
   "metadata": {},
   "source": [
    "## use doc2vec's doc vectors directly"
   ]
  },
  {
   "cell_type": "code",
   "execution_count": 59,
   "id": "865debbf-b092-419e-89f4-a374ed0f9895",
   "metadata": {},
   "outputs": [],
   "source": [
    "from gensim.models import Doc2Vec\n",
    "from gensim.models.doc2vec import TaggedDocument"
   ]
  },
  {
   "cell_type": "code",
   "execution_count": 60,
   "id": "e2e910c8-c0b9-4c27-bcab-79712e9b3b22",
   "metadata": {},
   "outputs": [],
   "source": [
    "tagged_data_train = [TaggedDocument(words=doc, tags=[f'train_{i}']) for i, doc in enumerate(X_train_preprocess_text)]"
   ]
  },
  {
   "cell_type": "markdown",
   "id": "395edd96-0a46-4f4e-b15c-38440eb9f86e",
   "metadata": {},
   "source": [
    "**tagged_data_train is almost same as sentence_train, also one list of tokens for one news, except have tag**"
   ]
  },
  {
   "cell_type": "code",
   "execution_count": 61,
   "id": "83aa34cf-90b3-488a-88be-c5c53655d7ec",
   "metadata": {},
   "outputs": [
    {
     "data": {
      "text/plain": [
       "33791"
      ]
     },
     "execution_count": 61,
     "metadata": {},
     "output_type": "execute_result"
    }
   ],
   "source": [
    "len(tagged_data_train)"
   ]
  },
  {
   "cell_type": "code",
   "execution_count": 62,
   "id": "ae6024bc-e8d2-4dc0-99b9-a01d52e5b46a",
   "metadata": {},
   "outputs": [],
   "source": [
    "model_dv = Doc2Vec(tagged_data_train, vector_size=300, window=5, min_count=1, workers=4)"
   ]
  },
  {
   "cell_type": "code",
   "execution_count": 63,
   "id": "619f43dc-6b50-47ef-99cf-d1b6176631c4",
   "metadata": {
    "scrolled": true
   },
   "outputs": [
    {
     "data": {
      "text/plain": [
       "<gensim.models.keyedvectors.KeyedVectors at 0x7fefad61ed40>"
      ]
     },
     "execution_count": 63,
     "metadata": {},
     "output_type": "execute_result"
    }
   ],
   "source": [
    "model_dv.dv"
   ]
  },
  {
   "cell_type": "code",
   "execution_count": 64,
   "id": "75d9bba4-9f08-4194-a1f1-ac173d95974d",
   "metadata": {},
   "outputs": [
    {
     "data": {
      "text/plain": [
       "<gensim.models.keyedvectors.KeyedVectors at 0x7fefad61dc00>"
      ]
     },
     "execution_count": 64,
     "metadata": {},
     "output_type": "execute_result"
    }
   ],
   "source": [
    "model_dv.wv"
   ]
  },
  {
   "cell_type": "code",
   "execution_count": 65,
   "id": "ca5a7e16-ebb0-4f90-8113-55a446e9184e",
   "metadata": {},
   "outputs": [],
   "source": [
    "tagged_data_val = [TaggedDocument(words=doc, tags=[f'val_{i}']) for i, doc in enumerate(X_val_preprocess_text)]\n",
    "tagged_data_test = [TaggedDocument(words=doc, tags=[f'test_{i}']) for i, doc in enumerate(X_test_preprocess_text)]"
   ]
  },
  {
   "cell_type": "code",
   "execution_count": 66,
   "id": "8d62b758-c880-4265-8461-dfd07442ff0e",
   "metadata": {},
   "outputs": [],
   "source": [
    "doc_vectors_train = [model_dv.dv[f'train_{i}'] for i in range(len(tagged_data_train))]\n",
    "doc_vectors_val = [model_dv.infer_vector(tagged_data.words) for tagged_data in tagged_data_val]\n",
    "doc_vectors_test = [model_dv.infer_vector(tagged_data.words) for tagged_data in tagged_data_test]"
   ]
  },
  {
   "cell_type": "markdown",
   "id": "1863725e-e223-488e-a04e-3ef74b0c29d2",
   "metadata": {},
   "source": [
    "**doc_vectors_train is list of arrays**    \n",
    "**doc_vectors_val is list of arrays**         \n",
    "**doc_vectors_test is list of arrays** "
   ]
  },
  {
   "cell_type": "code",
   "execution_count": 67,
   "id": "0c882003-7ca3-4ca2-b035-9195e31c29ae",
   "metadata": {},
   "outputs": [],
   "source": [
    "X_train = np.vstack(doc_vectors_train)\n",
    "X_val = np.vstack(doc_vectors_val)\n",
    "X_test = np.vstack(doc_vectors_test)"
   ]
  },
  {
   "cell_type": "code",
   "execution_count": 68,
   "id": "a4d0232b-2b8a-4cbd-8afd-cafe44736b56",
   "metadata": {},
   "outputs": [
    {
     "data": {
      "text/plain": [
       "((33791, 300), (3755, 300), (25, 300))"
      ]
     },
     "execution_count": 68,
     "metadata": {},
     "output_type": "execute_result"
    }
   ],
   "source": [
    "X_train.shape, X_val.shape, X_test.shape"
   ]
  },
  {
   "cell_type": "code",
   "execution_count": 72,
   "id": "791ef3cf-eb26-42fb-9f0f-3e5080633c0f",
   "metadata": {},
   "outputs": [],
   "source": [
    "from sklearn.model_selection import train_test_split\n",
    "from sklearn.linear_model import LogisticRegression\n",
    "from sklearn.metrics import accuracy_score\n",
    "\n",
    "# Initialize logistic regression model\n",
    "lr_model_2 = LogisticRegression(max_iter=1000)\n",
    "\n",
    "# Train the model\n",
    "lr_model_2.fit(X_train, y_train)\n",
    "\n",
    "# Make predictions\n",
    "y_val_pred = lr_model_2.predict(X_val)\n",
    "\n",
    "# Evaluate the model\n",
    "accuracy_val = accuracy_score(y_val, y_val_pred)"
   ]
  },
  {
   "cell_type": "code",
   "execution_count": 73,
   "id": "753e03f9-55c2-45b8-9a4d-b0ea49156add",
   "metadata": {},
   "outputs": [
    {
     "data": {
      "text/plain": [
       "0.9131824234354194"
      ]
     },
     "execution_count": 73,
     "metadata": {},
     "output_type": "execute_result"
    }
   ],
   "source": [
    "accuracy_val"
   ]
  },
  {
   "cell_type": "code",
   "execution_count": 74,
   "id": "cd7f9431-8291-4e9f-80df-ebe789d97b9f",
   "metadata": {},
   "outputs": [
    {
     "data": {
      "image/png": "[encoded data removed]",
      "text/plain": [
       "<Figure size 640x480 with 2 Axes>"
      ]
     },
     "metadata": {},
     "output_type": "display_data"
    }
   ],
   "source": [
    "cm = confusion_matrix(y_val, y_val_pred, labels = lr_model_2.classes_)\n",
    "fig, ax = plt.subplots()\n",
    "display_cm = ConfusionMatrixDisplay(confusion_matrix = cm, \n",
    "                                    display_labels = ['Fake_news', 'Real_news'])\n",
    "\n",
    "ax.set_xticks([0, 1])\n",
    "ax.set_yticks([0, 1])\n",
    "ax.set_xticklabels(labels = ['Fake_news', 'Real_news'], fontsize = 12)\n",
    "ax.set_yticklabels(labels = ['Fake_news', 'Real_news'], fontsize = 12)\n",
    "\n",
    "display_cm.plot(ax = ax)\n",
    "plt.show()"
   ]
  },
  {
   "cell_type": "code",
   "execution_count": 75,
   "id": "583a1221-ab72-4ed0-aeca-61e234be8341",
   "metadata": {},
   "outputs": [],
   "source": [
    "# Make predictions\n",
    "y_test_pred = lr_model_2.predict(X_test)\n",
    "\n",
    "# Evaluate the model\n",
    "accuracy_test = accuracy_score(y_test, y_test_pred)"
   ]
  },
  {
   "cell_type": "code",
   "execution_count": 76,
   "id": "97a8c86e-e29f-4cef-af02-a37dd943582e",
   "metadata": {},
   "outputs": [
    {
     "data": {
      "text/plain": [
       "0.96"
      ]
     },
     "execution_count": 76,
     "metadata": {},
     "output_type": "execute_result"
    }
   ],
   "source": [
    "accuracy_test"
   ]
  },
  {
   "cell_type": "code",
   "execution_count": 77,
   "id": "9db2d861-555b-40af-b8cb-e50d12422776",
   "metadata": {},
   "outputs": [
    {
     "data": {
      "image/png": "[encoded data removed]",
      "text/plain": [
       "<Figure size 640x480 with 2 Axes>"
      ]
     },
     "metadata": {},
     "output_type": "display_data"
    }
   ],
   "source": [
    "cm = confusion_matrix(y_test, y_test_pred, labels = lr_model_2.classes_)\n",
    "fig, ax = plt.subplots()\n",
    "display_cm = ConfusionMatrixDisplay(confusion_matrix = cm, \n",
    "                                    display_labels = ['Fake_news', 'Real_news'])\n",
    "\n",
    "ax.set_xticks([0, 1])\n",
    "ax.set_yticks([0, 1])\n",
    "ax.set_xticklabels(labels = ['Fake_news', 'Real_news'], fontsize = 12)\n",
    "ax.set_yticklabels(labels = ['Fake_news', 'Real_news'], fontsize = 12)\n",
    "\n",
    "display_cm.plot(ax = ax)\n",
    "plt.show()"
   ]
  },
  {
   "cell_type": "markdown",
   "id": "40c0045d-fe54-431f-aabe-f1ceccf390e8",
   "metadata": {},
   "source": [
    "## use doc2vec's word vector"
   ]
  },
  {
   "cell_type": "code",
   "execution_count": 78,
   "id": "8796dcea-c062-412a-a5c8-28928354d654",
   "metadata": {},
   "outputs": [],
   "source": [
    "X_train_vectorize_text_2 = X_train_preprocess_text.apply(lambda x: vectorize_text(x, model_dv))\n",
    "X_val_vectorize_text_2 = X_val_preprocess_text.apply(lambda x: vectorize_text(x, model_dv))\n",
    "X_test_vectorize_text_2 = X_test_preprocess_text.apply(lambda x: vectorize_text(x, model_dv))"
   ]
  },
  {
   "cell_type": "code",
   "execution_count": 79,
   "id": "336c16ff-10b1-4c4b-98f4-b2e89b531c16",
   "metadata": {},
   "outputs": [],
   "source": [
    "X_train = X_train_vectorize_text_2.apply(lambda x: np.mean(x, axis=0) if x else np.zeros(model_dv.vector_size)).values    \n",
    "# there maybe empty list in vectorized_text\n",
    "X_val = X_val_vectorize_text_2.apply(lambda x: np.mean(x, axis=0) if x else np.zeros(model_dv.vector_size)).values    \n",
    "# there maybe empty list in vectorized_text\n",
    "X_test = X_test_vectorize_text_2.apply(lambda x: np.mean(x, axis=0) if x else np.zeros(model_dv.vector_size)).values\n",
    "# there maybe empty list in vectorized_text"
   ]
  },
  {
   "cell_type": "code",
   "execution_count": 80,
   "id": "d3cb5787-1de9-4e46-a7bb-6971887ee8cc",
   "metadata": {},
   "outputs": [],
   "source": [
    "X_train = np.vstack(X_train)\n",
    "X_val = np.vstack(X_val)\n",
    "X_test = np.vstack(X_test)"
   ]
  },
  {
   "cell_type": "code",
   "execution_count": 81,
   "id": "86c4d917-1591-4438-963e-f7798dc035b6",
   "metadata": {},
   "outputs": [],
   "source": [
    "from sklearn.model_selection import train_test_split\n",
    "from sklearn.linear_model import LogisticRegression\n",
    "from sklearn.metrics import accuracy_score\n",
    "\n",
    "# Initialize logistic regression model\n",
    "lr_model_3 = LogisticRegression(max_iter=1000)\n",
    "\n",
    "# Train the model\n",
    "lr_model_3.fit(X_train, y_train)\n",
    "\n",
    "# Make predictions\n",
    "y_val_pred = lr_model_3.predict(X_val)\n",
    "\n",
    "# Evaluate the model\n",
    "accuracy_val = accuracy_score(y_val, y_val_pred)"
   ]
  },
  {
   "cell_type": "code",
   "execution_count": 82,
   "id": "7a85c119-20f8-4d10-be09-7cf68a7ef6f4",
   "metadata": {},
   "outputs": [
    {
     "data": {
      "text/plain": [
       "0.9573901464713716"
      ]
     },
     "execution_count": 82,
     "metadata": {},
     "output_type": "execute_result"
    }
   ],
   "source": [
    "accuracy_val"
   ]
  },
  {
   "cell_type": "code",
   "execution_count": 83,
   "id": "c8d4b685-b012-4d70-992f-8296654ebf3f",
   "metadata": {},
   "outputs": [
    {
     "data": {
      "image/png": "[encoded data removed]",
      "text/plain": [
       "<Figure size 640x480 with 2 Axes>"
      ]
     },
     "metadata": {},
     "output_type": "display_data"
    }
   ],
   "source": [
    "cm = confusion_matrix(y_val, y_val_pred, labels = lr_model_3.classes_)\n",
    "fig, ax = plt.subplots()\n",
    "display_cm = ConfusionMatrixDisplay(confusion_matrix = cm, \n",
    "                                    display_labels = ['Fake_news', 'Real_news'])\n",
    "\n",
    "ax.set_xticks([0, 1])\n",
    "ax.set_yticks([0, 1])\n",
    "ax.set_xticklabels(labels = ['Fake_news', 'Real_news'], fontsize = 12)\n",
    "ax.set_yticklabels(labels = ['Fake_news', 'Real_news'], fontsize = 12)\n",
    "\n",
    "display_cm.plot(ax = ax)\n",
    "plt.show()"
   ]
  },
  {
   "cell_type": "code",
   "execution_count": 84,
   "id": "6ce486c9-6acd-497f-88d0-e021c07163d7",
   "metadata": {},
   "outputs": [],
   "source": [
    "# Make predictions\n",
    "y_test_pred = lr_model_3.predict(X_test)\n",
    "\n",
    "# Evaluate the model\n",
    "accuracy_test = accuracy_score(y_test, y_test_pred)"
   ]
  },
  {
   "cell_type": "code",
   "execution_count": 85,
   "id": "5c120667-7878-49c5-8984-00c3a41f608b",
   "metadata": {},
   "outputs": [
    {
     "data": {
      "text/plain": [
       "0.96"
      ]
     },
     "execution_count": 85,
     "metadata": {},
     "output_type": "execute_result"
    }
   ],
   "source": [
    "accuracy_test"
   ]
  },
  {
   "cell_type": "code",
   "execution_count": 86,
   "id": "1085e613-8b87-4baf-a7d7-e0a74b1ae8ff",
   "metadata": {},
   "outputs": [
    {
     "data": {
      "image/png": "[encoded data removed]",
      "text/plain": [
       "<Figure size 640x480 with 2 Axes>"
      ]
     },
     "metadata": {},
     "output_type": "display_data"
    }
   ],
   "source": [
    "cm = confusion_matrix(y_test, y_test_pred, labels = lr_model_3.classes_)\n",
    "fig, ax = plt.subplots()\n",
    "display_cm = ConfusionMatrixDisplay(confusion_matrix = cm, \n",
    "                                    display_labels = ['Fake_news', 'Real_news'])\n",
    "\n",
    "ax.set_xticks([0, 1])\n",
    "ax.set_yticks([0, 1])\n",
    "ax.set_xticklabels(labels = ['Fake_news', 'Real_news'], fontsize = 12)\n",
    "ax.set_yticklabels(labels = ['Fake_news', 'Real_news'], fontsize = 12)\n",
    "\n",
    "display_cm.plot(ax = ax)\n",
    "plt.show()"
   ]
  },
  {
   "cell_type": "code",
   "execution_count": null,
   "id": "4d3864c7-1c5a-4f82-bca7-df68e3461823",
   "metadata": {},
   "outputs": [],
   "source": []
  },
  {
   "cell_type": "code",
   "execution_count": null,
   "id": "e00fa846-e0dc-4c93-8c02-b66c97d4ff85",
   "metadata": {},
   "outputs": [],
   "source": []
  }
 ],
 "metadata": {
  "kernelspec": {
   "display_name": "Python 3 (ipykernel)",
   "language": "python",
   "name": "python3"
  },
  "language_info": {
   "codemirror_mode": {
    "name": "ipython",
    "version": 3
   },
   "file_extension": ".py",
   "mimetype": "text/x-python",
   "name": "python",
   "nbconvert_exporter": "python",
   "pygments_lexer": "ipython3",
   "version": "3.10.13"
  }
 },
 "nbformat": 4,
 "nbformat_minor": 5
}
