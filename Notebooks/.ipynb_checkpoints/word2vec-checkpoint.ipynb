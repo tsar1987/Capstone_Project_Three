{
 "cells": [
  {
   "cell_type": "code",
   "execution_count": 22,
   "id": "954d2ea9-fadd-409f-b92b-597464c946fa",
   "metadata": {},
   "outputs": [],
   "source": [
    "import pandas as pd\n",
    "import matplotlib.pyplot as plt\n",
    "import numpy as np\n",
    "import nltk\n",
    "from nltk.tokenize import word_tokenize\n",
    "from nltk.corpus import stopwords\n",
    "from gensim.models import Word2Vec\n",
    "from sklearn.metrics import confusion_matrix, ConfusionMatrixDisplay"
   ]
  },
  {
   "cell_type": "code",
   "execution_count": 23,
   "id": "f3498460-80c7-4bc5-8367-f382c5a389de",
   "metadata": {},
   "outputs": [],
   "source": [
    "news = pd.read_csv('../Data/news_classification_Feb29_24.csv')\n",
    "test = pd.read_csv('../Data/test_set_Feb29_2024.csv')"
   ]
  },
  {
   "cell_type": "code",
   "execution_count": 24,
   "id": "44028116-9df8-48e2-9d61-bf1ff440a1ef",
   "metadata": {},
   "outputs": [],
   "source": [
    "stop_words = set(stopwords.words('english'))"
   ]
  },
  {
   "cell_type": "code",
   "execution_count": 25,
   "id": "ece41266-788a-4cd5-a359-41df73045af4",
   "metadata": {},
   "outputs": [],
   "source": [
    "def preprocess_text(text):\n",
    "    tokens = word_tokenize(text)\n",
    "    tokens = [word.lower() for word in tokens if word.isalpha() and word.lower() not in stop_words]\n",
    "    return tokens\n",
    "\n",
    "# Apply the preprocessing to your DataFrame\n",
    "news['processed_text'] = news['text'].apply(preprocess_text)\n",
    "test['processed_text'] = test['text'].apply(preprocess_text)"
   ]
  },
  {
   "cell_type": "code",
   "execution_count": 26,
   "id": "409cd1d8-bb66-4ecc-8347-53fdb2dd4c94",
   "metadata": {},
   "outputs": [],
   "source": [
    "sentences_train = news['processed_text'].tolist()"
   ]
  },
  {
   "cell_type": "code",
   "execution_count": 27,
   "id": "f41bd530-13ad-43fe-962b-4ff46e6e4827",
   "metadata": {},
   "outputs": [],
   "source": [
    "model = Word2Vec(sentences_train, vector_size=1000, window=5, min_count=1, workers=4)"
   ]
  },
  {
   "cell_type": "code",
   "execution_count": 28,
   "id": "d78e4f5c-62af-4029-bc42-7dffe6d851f1",
   "metadata": {},
   "outputs": [],
   "source": [
    "def vectorize_text(text, model):\n",
    "    vectorized_text = []\n",
    "    for word in text:\n",
    "        if word in model.wv:\n",
    "            vectorized_text.append(model.wv[word])\n",
    "    return vectorized_text"
   ]
  },
  {
   "cell_type": "code",
   "execution_count": 29,
   "id": "ffd1e201-3a73-4061-9d56-f55d68d50b15",
   "metadata": {},
   "outputs": [],
   "source": [
    "news['vectorized_text'] = news['processed_text'].apply(lambda x: vectorize_text(x, model))\n",
    "test['vectorized_text'] = test['processed_text'].apply(lambda x: vectorize_text(x, model))"
   ]
  },
  {
   "cell_type": "code",
   "execution_count": 30,
   "id": "1a5f9d67-96d3-4524-b8a7-fe1fac8ea954",
   "metadata": {},
   "outputs": [],
   "source": [
    "X_train = news['vectorized_text'].apply(lambda x: np.mean(x, axis=0) if x else np.zeros(model.vector_size)).values\n",
    "y_train = news.label\n",
    "X_test = test['vectorized_text'].apply(lambda x: np.mean(x, axis=0) if x else np.zeros(model.vector_size)).values"
   ]
  },
  {
   "cell_type": "code",
   "execution_count": 31,
   "id": "28e7a522-c453-470f-b57b-b23658fc352b",
   "metadata": {},
   "outputs": [],
   "source": [
    "y_test = test.label"
   ]
  },
  {
   "cell_type": "code",
   "execution_count": 32,
   "id": "38029993-165b-4e33-8ae0-1eafeb33405a",
   "metadata": {},
   "outputs": [],
   "source": [
    "X_train = np.vstack(X_train)\n",
    "X_test = np.vstack(X_test)"
   ]
  },
  {
   "cell_type": "code",
   "execution_count": 38,
   "id": "73d900a0-ef36-4c4b-a2f9-c3e8325a2f34",
   "metadata": {},
   "outputs": [],
   "source": [
    "from sklearn.model_selection import train_test_split\n",
    "from sklearn.linear_model import LogisticRegression\n",
    "from sklearn.metrics import accuracy_score\n",
    "\n",
    "# Initialize logistic regression model\n",
    "lr_model = LogisticRegression(max_iter=1000)\n",
    "\n",
    "# Train the model\n",
    "lr_model.fit(X_train, y_train)\n",
    "\n",
    "# Make predictions\n",
    "y_test_pred = lr_model.predict(X_test)\n",
    "\n",
    "# Evaluate the model\n",
    "accuracy = accuracy_score(y_test, y_test_pred)"
   ]
  },
  {
   "cell_type": "code",
   "execution_count": 39,
   "id": "d8ca4ab2-7b84-4889-ba1d-00005e019273",
   "metadata": {},
   "outputs": [
    {
     "data": {
      "text/plain": [
       "0.92"
      ]
     },
     "execution_count": 39,
     "metadata": {},
     "output_type": "execute_result"
    }
   ],
   "source": [
    "accuracy"
   ]
  },
  {
   "cell_type": "code",
   "execution_count": 40,
   "id": "9625ca12-d99f-491e-9310-b797cb93d02e",
   "metadata": {},
   "outputs": [
    {
     "data": {
      "text/plain": [
       "(25,)"
      ]
     },
     "execution_count": 40,
     "metadata": {},
     "output_type": "execute_result"
    }
   ],
   "source": [
    "y_test_pred.shape"
   ]
  },
  {
   "cell_type": "code",
   "execution_count": 41,
   "id": "637df5b0-28a3-49fc-8f92-f806da411730",
   "metadata": {},
   "outputs": [
    {
     "data": {
      "text/plain": [
       "(25,)"
      ]
     },
     "execution_count": 41,
     "metadata": {},
     "output_type": "execute_result"
    }
   ],
   "source": [
    "y_test.shape"
   ]
  },
  {
   "cell_type": "code",
   "execution_count": 42,
   "id": "1e7c117c-e0b3-478e-b95f-71c79577f1a0",
   "metadata": {},
   "outputs": [
    {
     "data": {
      "image/png": "[encoded data removed]",
      "text/plain": [
       "<Figure size 640x480 with 2 Axes>"
      ]
     },
     "metadata": {},
     "output_type": "display_data"
    }
   ],
   "source": [
    "cm = confusion_matrix(y_test, y_test_pred, labels = lr_model.classes_)\n",
    "fig, ax = plt.subplots()\n",
    "display_cm = ConfusionMatrixDisplay(confusion_matrix = cm, \n",
    "                                    display_labels = ['Fake_news', 'Real_news'])\n",
    "\n",
    "ax.set_xticks([0, 1])\n",
    "ax.set_yticks([0, 1])\n",
    "ax.set_xticklabels(labels = ['Fake_news', 'Real_news'], fontsize = 12)\n",
    "ax.set_yticklabels(labels = ['Fake_news', 'Real_news'], fontsize = 12)\n",
    "\n",
    "display_cm.plot(ax = ax)\n",
    "plt.show()"
   ]
  },
  {
   "cell_type": "code",
   "execution_count": null,
   "id": "fdaefb6c-fc75-4701-a607-b762c0ef8498",
   "metadata": {},
   "outputs": [],
   "source": []
  }
 ],
 "metadata": {
  "kernelspec": {
   "display_name": "Python 3 (ipykernel)",
   "language": "python",
   "name": "python3"
  },
  "language_info": {
   "codemirror_mode": {
    "name": "ipython",
    "version": 3
   },
   "file_extension": ".py",
   "mimetype": "text/x-python",
   "name": "python",
   "nbconvert_exporter": "python",
   "pygments_lexer": "ipython3",
   "version": "3.10.13"
  }
 },
 "nbformat": 4,
 "nbformat_minor": 5
}
