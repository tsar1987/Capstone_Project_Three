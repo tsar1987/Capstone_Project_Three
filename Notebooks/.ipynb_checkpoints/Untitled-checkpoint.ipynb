{
 "cells": [
  {
   "cell_type": "code",
   "execution_count": 1,
   "id": "77750d56-5855-46b2-85d0-ca80b30fe8cd",
   "metadata": {},
   "outputs": [],
   "source": [
    "def create_staircase(nums):\n",
    "  while len(nums) != 0:\n",
    "    step = 1\n",
    "    subsets = []\n",
    "    if len(nums) >= step:\n",
    "      subsets.append(nums[0:step])\n",
    "      nums = nums[step:]\n",
    "      step += 1\n",
    "    else:\n",
    "      return False\n",
    "\n",
    "  return subsets"
   ]
  },
  {
   "cell_type": "code",
   "execution_count": 5,
   "id": "d37ceebe-db7a-481a-807f-93422e1485e4",
   "metadata": {},
   "outputs": [
    {
     "data": {
      "text/plain": [
       "[[6]]"
      ]
     },
     "execution_count": 5,
     "metadata": {},
     "output_type": "execute_result"
    }
   ],
   "source": [
    "create_staircase([1, 2, 3, 4, 5, 6])"
   ]
  },
  {
   "cell_type": "code",
   "execution_count": 39,
   "id": "5a909c2f-baf3-4c6f-9e4b-f80c727a8c17",
   "metadata": {},
   "outputs": [],
   "source": []
  },
  {
   "cell_type": "code",
   "execution_count": 40,
   "id": "46cb0313-5c93-4631-ae81-94e101dfaa88",
   "metadata": {},
   "outputs": [
    {
     "data": {
      "text/plain": [
       "<function __main__.create_staircase_2(nums)>"
      ]
     },
     "execution_count": 40,
     "metadata": {},
     "output_type": "execute_result"
    }
   ],
   "source": [
    "create_staircase_2"
   ]
  },
  {
   "cell_type": "code",
   "execution_count": 52,
   "id": "4cc90cdf-3cb5-445f-b47c-253942b5082f",
   "metadata": {},
   "outputs": [],
   "source": [
    "def create_staircase(nums):\n",
    "    step = 1\n",
    "    subsets = []\n",
    "    nums.sort()\n",
    "    while len(nums) != 0:\n",
    "        if len(nums) >= step:\n",
    "          subsets.append(nums[0:step])\n",
    "          nums = nums[step:]\n",
    "          step += 1\n",
    "        else:\n",
    "          return False\n",
    "    return subsets\n",
    "def decode(message_file):\n",
    "    # read the contents of the file\n",
    "    with open(message_file, 'r') as file:\n",
    "        lines = file.readlines()\n",
    "    # initialize a list to store the message words\n",
    "    d = {}\n",
    "\n",
    "    # iterate through each line in the pyramid\n",
    "    for line in lines:\n",
    "        # Split the line into numbers\n",
    "        numbers = line.strip().split()\n",
    "        # put into dictionary\n",
    "        d[numbers[0]] = numbers[1]\n",
    "    # create a list for keys\n",
    "    nums = [int(num) for num in d.keys()]\n",
    "    # use staircase to get pyramid\n",
    "    subs = create_staircase(nums)\n",
    "    # get last element for each row\n",
    "    index = [i[-1] for i in subs]\n",
    "    # get words\n",
    "    message_words = [d[str(ind)] for ind in index]\n",
    "    # join the message words into a single string\n",
    "    decoded_message = ' '.join(message_words)\n",
    "    return decoded_message\n"
   ]
  },
  {
   "cell_type": "code",
   "execution_count": 53,
   "id": "7394a4f1-6c55-4a4b-ae1e-ee36785e1f8e",
   "metadata": {},
   "outputs": [
    {
     "name": "stdout",
     "output_type": "stream",
     "text": [
      "[1, 3, 6, 10, 15, 21, 28, 36, 45, 55, 66, 78, 91, 105, 120, 136, 153, 171, 190, 210, 231, 253, 276, 300]\n"
     ]
    },
    {
     "data": {
      "text/plain": [
       "'design all skill whole check deal wish visit now moment offer planet people electric lot huge system card current man way our parent wait'"
      ]
     },
     "execution_count": 53,
     "metadata": {},
     "output_type": "execute_result"
    }
   ],
   "source": [
    "decode('coding_qual_input.txt')"
   ]
  },
  {
   "cell_type": "code",
   "execution_count": null,
   "id": "38245496-2589-4e42-b491-0d666a573ae5",
   "metadata": {},
   "outputs": [],
   "source": []
  }
 ],
 "metadata": {
  "kernelspec": {
   "display_name": "Python 3 (ipykernel)",
   "language": "python",
   "name": "python3"
  },
  "language_info": {
   "codemirror_mode": {
    "name": "ipython",
    "version": 3
   },
   "file_extension": ".py",
   "mimetype": "text/x-python",
   "name": "python",
   "nbconvert_exporter": "python",
   "pygments_lexer": "ipython3",
   "version": "3.10.13"
  }
 },
 "nbformat": 4,
 "nbformat_minor": 5
}
