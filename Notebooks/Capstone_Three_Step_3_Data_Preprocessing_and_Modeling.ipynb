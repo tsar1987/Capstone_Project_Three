{
 "cells": [
  {
   "cell_type": "markdown",
   "metadata": {},
   "source": [
    "# 1. Import Packages"
   ]
  },
  {
   "cell_type": "code",
   "execution_count": null,
   "metadata": {},
   "outputs": [],
   "source": [
    "import pandas as pd\n",
    "import matplotlib.pyplot as plt\n",
    "import numpy as np\n",
    "import nltk"
   ]
  },
  {
   "cell_type": "code",
   "execution_count": null,
   "metadata": {},
   "outputs": [],
   "source": [
    "import re\n",
    "import string"
   ]
  },
  {
   "cell_type": "code",
   "execution_count": null,
   "metadata": {},
   "outputs": [],
   "source": [
    "pd.set_option('display.max_columns', None)\n",
    "pd.set_option('display.max_rows', None)"
   ]
  },
  {
   "cell_type": "code",
   "execution_count": null,
   "metadata": {},
   "outputs": [],
   "source": [
    "from sklearn.model_selection import train_test_split\n",
    "from sklearn.feature_extraction.text import CountVectorizer, TfidfVectorizer\n",
    "from sklearn.preprocessing import StandardScaler\n",
    "from sklearn import metrics\n",
    "from sklearn.linear_model import LogisticRegression\n",
    "from sklearn.ensemble import RandomForestClassifier, GradientBoostingClassifier\n",
    "from sklearn.model_selection import cross_val_score"
   ]
  },
  {
   "cell_type": "code",
   "execution_count": null,
   "metadata": {},
   "outputs": [],
   "source": [
    "from nltk.corpus import stopwords\n",
    "from nltk.tokenize import word_tokenize\n",
    "from nltk.stem import WordNetLemmatizer"
   ]
  },
  {
   "cell_type": "code",
   "execution_count": null,
   "metadata": {},
   "outputs": [],
   "source": [
    "import warnings\n",
    "warnings.filterwarnings('ignore')"
   ]
  },
  {
   "cell_type": "code",
   "execution_count": null,
   "metadata": {},
   "outputs": [],
   "source": [
    "import xgboost\n",
    "from xgboost import XGBClassifier"
   ]
  },
  {
   "cell_type": "code",
   "execution_count": null,
   "metadata": {},
   "outputs": [],
   "source": [
    "# create empty list at beginning of every jupyter notebook\n",
    "hyperparameter_table  = []"
   ]
  },
  {
   "cell_type": "markdown",
   "metadata": {},
   "source": [
    "# 2. Load Datasets"
   ]
  },
  {
   "cell_type": "code",
   "execution_count": null,
   "metadata": {},
   "outputs": [],
   "source": [
    "# load dataset\n",
    "news = pd.read_csv('../Data/news_classification_Feb06_24.csv', index_col=0, parse_dates=['date', 'election_day'])\n",
    "news.head()"
   ]
  },
  {
   "cell_type": "code",
   "execution_count": null,
   "metadata": {},
   "outputs": [],
   "source": [
    "# check shape, rows and columns\n",
    "news.shape"
   ]
  },
  {
   "cell_type": "code",
   "execution_count": null,
   "metadata": {},
   "outputs": [],
   "source": [
    "# check column names\n",
    "news.columns"
   ]
  },
  {
   "cell_type": "code",
   "execution_count": null,
   "metadata": {},
   "outputs": [],
   "source": [
    "news.info()"
   ]
  },
  {
   "cell_type": "code",
   "execution_count": null,
   "metadata": {},
   "outputs": [],
   "source": [
    "news['month'] = news['month'].map({1:'Jan', 2:'Feb', 3:'Mar', 4:'Apr', 5:'May', 6:'Jun',\\\n",
    "                                  7:'Jul', 8:'Aug', 9:'Sept', 10:'Oct', 11:'Nov', 12:'Dec'})\n",
    "news['day_of_week'] = news['day_of_week'].map({0:'Monday', 1:'Tuesday', 2:'Wednesday', 3:'Thursday', 4:'Friday',\\\n",
    "                                               5:'Saturday', 6:'Sunday'})"
   ]
  },
  {
   "cell_type": "code",
   "execution_count": null,
   "metadata": {},
   "outputs": [],
   "source": [
    "news.info()"
   ]
  },
  {
   "attachments": {},
   "cell_type": "markdown",
   "metadata": {},
   "source": [
    "# 3. Data Preprocessing and Modeling\n",
    "**Two methods will be used for modeling:**\n",
    "\n",
    "**The method 1 use features new created including character count, word count, average word length in title and text, year, month, day, day of week and days to election.**\n",
    "\n",
    "**The method 2 use only the text column and vectorize with CountVectorizer() or TfidfVectorizer() with different parameters like ngram_range, max_df and min_df.**"
   ]
  },
  {
   "cell_type": "markdown",
   "metadata": {},
   "source": [
    "## 3.1 Data Preparation"
   ]
  },
  {
   "cell_type": "code",
   "execution_count": null,
   "metadata": {},
   "outputs": [],
   "source": [
    "X = news[['char_count_text', 'word_count_text', 'avg_word_length_text', 'char_count_title',\n",
    "       'word_count_title', 'avg_word_length_title', 'year', 'month', 'day', 'day_of_week', 'days_to_election']]\n",
    "y = news.label\n",
    "# get dummy of categorical variables\n",
    "X = pd.get_dummies(X)"
   ]
  },
  {
   "cell_type": "code",
   "execution_count": null,
   "metadata": {},
   "outputs": [],
   "source": [
    "X.info()"
   ]
  },
  {
   "cell_type": "code",
   "execution_count": null,
   "metadata": {},
   "outputs": [],
   "source": [
    "# Create training and test sets\n",
    "X_train, X_test, y_train, y_test = train_test_split(X, y, test_size=0.1, random_state=42, stratify=y)"
   ]
  },
  {
   "cell_type": "code",
   "execution_count": null,
   "metadata": {},
   "outputs": [],
   "source": [
    "# check shapes\n",
    "X_train.shape, X_test.shape"
   ]
  },
  {
   "cell_type": "markdown",
   "metadata": {},
   "source": [
    "## 3.2 Modeling"
   ]
  },
  {
   "cell_type": "markdown",
   "metadata": {},
   "source": [
    "### 3.2.1 Method_1 Exp_1 Logistic Regression"
   ]
  },
  {
   "cell_type": "code",
   "execution_count": null,
   "metadata": {},
   "outputs": [],
   "source": [
    "# create empty dict at start of every experiment. \n",
    "hyperparameters = {}\n",
    "hyperparameter_table.append(hyperparameters)"
   ]
  },
  {
   "cell_type": "code",
   "execution_count": null,
   "metadata": {},
   "outputs": [],
   "source": [
    "# initiate the model\n",
    "lr_classifier_1 = LogisticRegression(max_iter=1000)\n",
    "# fit model\n",
    "lr_classifier_1.fit(X_train, y_train)"
   ]
  },
  {
   "cell_type": "code",
   "execution_count": null,
   "metadata": {},
   "outputs": [],
   "source": [
    "# get train_score using cross validation in 5 folds\n",
    "train_accuracy = np.mean(cross_val_score(lr_classifier_1, X_train, y_train, cv=5))"
   ]
  },
  {
   "cell_type": "code",
   "execution_count": null,
   "metadata": {},
   "outputs": [],
   "source": [
    "y_test_pred = lr_classifier_1.predict(X_test)\n",
    "test_accuracy = metrics.accuracy_score(y_test, y_test_pred)\n",
    "test_recall = metrics.recall_score(y_test, y_test_pred, pos_label='real_news')\n",
    "test_precision = metrics.precision_score(y_test, y_test_pred, pos_label='real_news')"
   ]
  },
  {
   "cell_type": "code",
   "execution_count": null,
   "metadata": {},
   "outputs": [],
   "source": [
    "parameters = dict(Exp=1, Model_Name='Logistic Regression', n_Num=9,\\\n",
    "                  n_Cat=2, Cat_Encode='pd.get_dimmies()', Test_P=0.1, Scale='No',\\\n",
    "                  Cross_Val='Yes', CV=5, Train_Accuracy=round(train_accuracy,2), Val_Accuracy=round(test_accuracy,3),\\\n",
    "                  Val_Recall=round(test_recall,3), Val_Precision=round(test_precision,3))\n",
    "\n",
    "hyperparameter_table[-1].update(parameters)"
   ]
  },
  {
   "cell_type": "code",
   "execution_count": null,
   "metadata": {},
   "outputs": [],
   "source": [
    "cm = metrics.confusion_matrix(y_test, y_test_pred, labels = lr_classifier_1.classes_)\n",
    "fig, ax = plt.subplots()\n",
    "display_cm = metrics.ConfusionMatrixDisplay(confusion_matrix = cm, \n",
    "                                    display_labels = ['Fake_news', 'Real_news'])\n",
    "\n",
    "ax.set_xticks([0, 1])\n",
    "ax.set_yticks([0, 1])\n",
    "ax.set_xticklabels(labels = ['Fake_news', 'Real_news'], fontsize = 12)\n",
    "ax.set_yticklabels(labels = ['Fake_news', 'Real_news'], fontsize = 12)\n",
    "\n",
    "display_cm.plot(ax = ax)\n",
    "plt.show()"
   ]
  },
  {
   "cell_type": "markdown",
   "metadata": {},
   "source": [
    "### 3.2.2 Method_1 Exp_2 Random Forest Classifier"
   ]
  },
  {
   "cell_type": "code",
   "execution_count": null,
   "metadata": {},
   "outputs": [],
   "source": [
    "# create empty dict at start of every experiment. \n",
    "hyperparameters = {}\n",
    "hyperparameter_table.append(hyperparameters)"
   ]
  },
  {
   "cell_type": "code",
   "execution_count": null,
   "metadata": {},
   "outputs": [],
   "source": [
    "# initiate the model\n",
    "rf_classifier_1 = RandomForestClassifier()\n",
    "# fit model\n",
    "rf_classifier_1.fit(X_train, y_train)"
   ]
  },
  {
   "cell_type": "code",
   "execution_count": null,
   "metadata": {},
   "outputs": [],
   "source": [
    "# get train_score using cross validation in 5 folds\n",
    "train_accuracy = np.mean(cross_val_score(rf_classifier_1, X_train, y_train, cv=5))"
   ]
  },
  {
   "cell_type": "code",
   "execution_count": null,
   "metadata": {},
   "outputs": [],
   "source": [
    "y_test_pred = rf_classifier_1.predict(X_test)\n",
    "test_accuracy = metrics.accuracy_score(y_test, y_test_pred)\n",
    "test_recall = metrics.recall_score(y_test, y_test_pred, pos_label='real_news')\n",
    "test_precision = metrics.precision_score(y_test, y_test_pred, pos_label='real_news')"
   ]
  },
  {
   "cell_type": "code",
   "execution_count": null,
   "metadata": {},
   "outputs": [],
   "source": [
    "parameters = dict(Exp=2, Model_Name='RandomForest Classifier', n_Num=9,\\\n",
    "                  n_Cat=2, Cat_Encode='pd.get_dimmies()', Test_P=0.1, Scale='No',\\\n",
    "                  Cross_Val='Yes', CV=5,\tTrain_Accuracy=round(train_accuracy,3), Val_Accuracy=round(test_accuracy,3),\\\n",
    "                  Val_Recall=round(test_recall,3), Val_Precision=round(test_precision,3))\n",
    "\n",
    "hyperparameter_table[-1].update(parameters)"
   ]
  },
  {
   "cell_type": "code",
   "execution_count": null,
   "metadata": {},
   "outputs": [],
   "source": [
    "cm = metrics.confusion_matrix(y_test, y_test_pred, labels = rf_classifier_1.classes_)\n",
    "fig, ax = plt.subplots()\n",
    "display_cm = metrics.ConfusionMatrixDisplay(confusion_matrix = cm, \n",
    "                                    display_labels = ['Fake_news', 'Real_news'])\n",
    "\n",
    "ax.set_xticks([0, 1])\n",
    "ax.set_yticks([0, 1])\n",
    "ax.set_xticklabels(labels = ['Fake_news', 'Real_news'], fontsize = 12)\n",
    "ax.set_yticklabels(labels = ['Fake_news', 'Real_news'], fontsize = 12)\n",
    "\n",
    "display_cm.plot(ax = ax)\n",
    "plt.show()"
   ]
  },
  {
   "cell_type": "markdown",
   "metadata": {},
   "source": [
    "### 3.2.3 Method_1 Exp_3 Gradient Boost Classifier"
   ]
  },
  {
   "cell_type": "code",
   "execution_count": null,
   "metadata": {},
   "outputs": [],
   "source": [
    "# create empty dict at start of every experiment. \n",
    "hyperparameters = {}\n",
    "hyperparameter_table.append(hyperparameters)"
   ]
  },
  {
   "cell_type": "code",
   "execution_count": null,
   "metadata": {},
   "outputs": [],
   "source": [
    "# initiate the model\n",
    "gb_classifier_1 = GradientBoostingClassifier()\n",
    "# fit model\n",
    "gb_classifier_1.fit(X_train, y_train)"
   ]
  },
  {
   "cell_type": "code",
   "execution_count": null,
   "metadata": {},
   "outputs": [],
   "source": [
    "# get train_score using cross validation in 5 folds\n",
    "train_accuracy = np.mean(cross_val_score(gb_classifier_1, X_train, y_train, cv=5))"
   ]
  },
  {
   "cell_type": "code",
   "execution_count": null,
   "metadata": {},
   "outputs": [],
   "source": [
    "y_test_pred = gb_classifier_1.predict(X_test)\n",
    "test_accuracy = metrics.accuracy_score(y_test, y_test_pred)\n",
    "test_recall = metrics.recall_score(y_test, y_test_pred, pos_label='real_news')\n",
    "test_precision = metrics.precision_score(y_test, y_test_pred, pos_label='real_news')"
   ]
  },
  {
   "cell_type": "code",
   "execution_count": null,
   "metadata": {},
   "outputs": [],
   "source": [
    "parameters = dict(Exp=3, Model_Name='GradientBoost Classifier', n_Num=9,\\\n",
    "                  n_Cat=2, Cat_Encode='pd.get_dimmies()', Test_P=0.1, Scale='No',\\\n",
    "                  Cross_Val='Yes', CV=5,\tTrain_Accuracy=round(train_accuracy,3), Val_Accuracy=round(test_accuracy,3),\\\n",
    "                  Val_Recall=round(test_recall,3), Val_Precision=round(test_precision,3))\n",
    "\n",
    "hyperparameter_table[-1].update(parameters)"
   ]
  },
  {
   "cell_type": "code",
   "execution_count": null,
   "metadata": {},
   "outputs": [],
   "source": [
    "cm = metrics.confusion_matrix(y_test, y_test_pred, labels = gb_classifier_1.classes_)\n",
    "fig, ax = plt.subplots()\n",
    "display_cm = metrics.ConfusionMatrixDisplay(confusion_matrix = cm, \n",
    "                                    display_labels = ['Fake_news', 'Real_news'])\n",
    "\n",
    "ax.set_xticks([0, 1])\n",
    "ax.set_yticks([0, 1])\n",
    "ax.set_xticklabels(labels = ['Fake_news', 'Real_news'], fontsize = 12)\n",
    "ax.set_yticklabels(labels = ['Fake_news', 'Real_news'], fontsize = 12)\n",
    "\n",
    "display_cm.plot(ax = ax)\n",
    "plt.show()"
   ]
  },
  {
   "cell_type": "markdown",
   "metadata": {},
   "source": [
    "### 3.2.4 Method_1 Exp_4 XGBoost Classifier"
   ]
  },
  {
   "cell_type": "code",
   "execution_count": null,
   "metadata": {},
   "outputs": [],
   "source": [
    "# create empty dict at start of every experiment. \n",
    "hyperparameters = {}\n",
    "hyperparameter_table.append(hyperparameters)"
   ]
  },
  {
   "cell_type": "code",
   "execution_count": null,
   "metadata": {},
   "outputs": [],
   "source": [
    "y_train_xgb = y_train.map({'fake_news':0, 'real_news':1})\n",
    "y_test_xgb = y_test.map({'fake_news':0, 'real_news':1})"
   ]
  },
  {
   "cell_type": "code",
   "execution_count": null,
   "metadata": {},
   "outputs": [],
   "source": [
    "# initiate the model\n",
    "xgb_classifier_1 = XGBClassifier()\n",
    "# fit model\n",
    "xgb_classifier_1.fit(X_train, y_train_xgb)"
   ]
  },
  {
   "cell_type": "code",
   "execution_count": null,
   "metadata": {},
   "outputs": [],
   "source": [
    "# get train_score using cross validation in 5 folds\n",
    "train_accuracy = np.mean(cross_val_score(xgb_classifier_1, X_train, y_train_xgb, cv=5))"
   ]
  },
  {
   "cell_type": "code",
   "execution_count": null,
   "metadata": {},
   "outputs": [],
   "source": [
    "y_test_pred = xgb_classifier_1.predict(X_test)\n",
    "test_accuracy = metrics.accuracy_score(y_test_xgb, y_test_pred)\n",
    "test_recall = metrics.recall_score(y_test_xgb, y_test_pred)\n",
    "test_precision = metrics.precision_score(y_test_xgb, y_test_pred)"
   ]
  },
  {
   "cell_type": "code",
   "execution_count": null,
   "metadata": {},
   "outputs": [],
   "source": [
    "parameters = dict(Exp=4, Model_Name='XGBoost Classifier', n_Num=9,\\\n",
    "                  n_Cat=2, Cat_Encode='pd.get_dimmies()', Test_P=0.1, Scale='No',\\\n",
    "                  Cross_Val='Yes', CV=5,\tTrain_Accuracy=round(train_accuracy,3), Val_Accuracy=round(test_accuracy,3),\\\n",
    "                  Val_Recall=round(test_recall,3), Val_Precision=round(test_precision,3))\n",
    "\n",
    "hyperparameter_table[-1].update(parameters)"
   ]
  },
  {
   "cell_type": "code",
   "execution_count": null,
   "metadata": {},
   "outputs": [],
   "source": [
    "cm = metrics.confusion_matrix(y_test_xgb, y_test_pred, labels = xgb_classifier_1.classes_)\n",
    "fig, ax = plt.subplots()\n",
    "display_cm = metrics.ConfusionMatrixDisplay(confusion_matrix = cm, \n",
    "                                    display_labels = ['Fake_news', 'Real_news'])\n",
    "\n",
    "ax.set_xticks([0, 1])\n",
    "ax.set_yticks([0, 1])\n",
    "ax.set_xticklabels(labels = ['Fake_news', 'Real_news'], fontsize = 12)\n",
    "ax.set_yticklabels(labels = ['Fake_news', 'Real_news'], fontsize = 12)\n",
    "\n",
    "display_cm.plot(ax = ax)\n",
    "plt.show()"
   ]
  },
  {
   "cell_type": "markdown",
   "metadata": {},
   "source": [
    "## 3.2.5 Method_2 Exp_5 Logistic Regression with CountVectorizer"
   ]
  },
  {
   "cell_type": "code",
   "execution_count": 44,
   "metadata": {},
   "outputs": [],
   "source": [
    "# create empty dict at start of every experiment. \n",
    "hyperparameters = {}\n",
    "hyperparameter_table.append(hyperparameters)"
   ]
  },
  {
   "cell_type": "code",
   "execution_count": 45,
   "metadata": {},
   "outputs": [],
   "source": [
    "# assign X and y\n",
    "X = news.text\n",
    "y = news.label"
   ]
  },
  {
   "cell_type": "code",
   "execution_count": 46,
   "metadata": {},
   "outputs": [],
   "source": [
    "# Create training and test sets\n",
    "X_train, X_test, y_train, y_test = train_test_split(X, y, test_size=0.1, random_state=42, stratify=y)\n",
    "\n",
    "# Initialize a CountVectorizer object: count_vectorizer\n",
    "cv_kwargs = dict(ngram_range=(1,1))\n",
    "count_vectorizer_1 = CountVectorizer(**cv_kwargs)"
   ]
  },
  {
   "cell_type": "code",
   "execution_count": 47,
   "metadata": {},
   "outputs": [],
   "source": [
    "# Transform the training data using only the 'text' column values: count_train \n",
    "count_X_train = count_vectorizer_1.fit_transform(X_train)\n",
    "\n",
    "# Transform the test data using only the 'text' column values: count_test \n",
    "count_X_test = count_vectorizer_1.transform(X_test)"
   ]
  },
  {
   "cell_type": "code",
   "execution_count": 48,
   "metadata": {},
   "outputs": [
    {
     "data": {
      "text/plain": [
       "((34131, 115418), (3793, 115418))"
      ]
     },
     "execution_count": 48,
     "metadata": {},
     "output_type": "execute_result"
    }
   ],
   "source": [
    "count_X_train.shape, count_X_test.shape"
   ]
  },
  {
   "cell_type": "code",
   "execution_count": 49,
   "metadata": {},
   "outputs": [
    {
     "data": {
      "text/html": [
       "<style>#sk-container-id-5 {color: black;background-color: white;}#sk-container-id-5 pre{padding: 0;}#sk-container-id-5 div.sk-toggleable {background-color: white;}#sk-container-id-5 label.sk-toggleable__label {cursor: pointer;display: block;width: 100%;margin-bottom: 0;padding: 0.3em;box-sizing: border-box;text-align: center;}#sk-container-id-5 label.sk-toggleable__label-arrow:before {content: \"▸\";float: left;margin-right: 0.25em;color: #696969;}#sk-container-id-5 label.sk-toggleable__label-arrow:hover:before {color: black;}#sk-container-id-5 div.sk-estimator:hover label.sk-toggleable__label-arrow:before {color: black;}#sk-container-id-5 div.sk-toggleable__content {max-height: 0;max-width: 0;overflow: hidden;text-align: left;background-color: #f0f8ff;}#sk-container-id-5 div.sk-toggleable__content pre {margin: 0.2em;color: black;border-radius: 0.25em;background-color: #f0f8ff;}#sk-container-id-5 input.sk-toggleable__control:checked~div.sk-toggleable__content {max-height: 200px;max-width: 100%;overflow: auto;}#sk-container-id-5 input.sk-toggleable__control:checked~label.sk-toggleable__label-arrow:before {content: \"▾\";}#sk-container-id-5 div.sk-estimator input.sk-toggleable__control:checked~label.sk-toggleable__label {background-color: #d4ebff;}#sk-container-id-5 div.sk-label input.sk-toggleable__control:checked~label.sk-toggleable__label {background-color: #d4ebff;}#sk-container-id-5 input.sk-hidden--visually {border: 0;clip: rect(1px 1px 1px 1px);clip: rect(1px, 1px, 1px, 1px);height: 1px;margin: -1px;overflow: hidden;padding: 0;position: absolute;width: 1px;}#sk-container-id-5 div.sk-estimator {font-family: monospace;background-color: #f0f8ff;border: 1px dotted black;border-radius: 0.25em;box-sizing: border-box;margin-bottom: 0.5em;}#sk-container-id-5 div.sk-estimator:hover {background-color: #d4ebff;}#sk-container-id-5 div.sk-parallel-item::after {content: \"\";width: 100%;border-bottom: 1px solid gray;flex-grow: 1;}#sk-container-id-5 div.sk-label:hover label.sk-toggleable__label {background-color: #d4ebff;}#sk-container-id-5 div.sk-serial::before {content: \"\";position: absolute;border-left: 1px solid gray;box-sizing: border-box;top: 0;bottom: 0;left: 50%;z-index: 0;}#sk-container-id-5 div.sk-serial {display: flex;flex-direction: column;align-items: center;background-color: white;padding-right: 0.2em;padding-left: 0.2em;position: relative;}#sk-container-id-5 div.sk-item {position: relative;z-index: 1;}#sk-container-id-5 div.sk-parallel {display: flex;align-items: stretch;justify-content: center;background-color: white;position: relative;}#sk-container-id-5 div.sk-item::before, #sk-container-id-5 div.sk-parallel-item::before {content: \"\";position: absolute;border-left: 1px solid gray;box-sizing: border-box;top: 0;bottom: 0;left: 50%;z-index: -1;}#sk-container-id-5 div.sk-parallel-item {display: flex;flex-direction: column;z-index: 1;position: relative;background-color: white;}#sk-container-id-5 div.sk-parallel-item:first-child::after {align-self: flex-end;width: 50%;}#sk-container-id-5 div.sk-parallel-item:last-child::after {align-self: flex-start;width: 50%;}#sk-container-id-5 div.sk-parallel-item:only-child::after {width: 0;}#sk-container-id-5 div.sk-dashed-wrapped {border: 1px dashed gray;margin: 0 0.4em 0.5em 0.4em;box-sizing: border-box;padding-bottom: 0.4em;background-color: white;}#sk-container-id-5 div.sk-label label {font-family: monospace;font-weight: bold;display: inline-block;line-height: 1.2em;}#sk-container-id-5 div.sk-label-container {text-align: center;}#sk-container-id-5 div.sk-container {/* jupyter's `normalize.less` sets `[hidden] { display: none; }` but bootstrap.min.css set `[hidden] { display: none !important; }` so we also need the `!important` here to be able to override the default hidden behavior on the sphinx rendered scikit-learn.org. See: https://github.com/scikit-learn/scikit-learn/issues/21755 */display: inline-block !important;position: relative;}#sk-container-id-5 div.sk-text-repr-fallback {display: none;}</style><div id=\"sk-container-id-5\" class=\"sk-top-container\"><div class=\"sk-text-repr-fallback\"><pre>LogisticRegression(max_iter=1000)</pre><b>In a Jupyter environment, please rerun this cell to show the HTML representation or trust the notebook. <br />On GitHub, the HTML representation is unable to render, please try loading this page with nbviewer.org.</b></div><div class=\"sk-container\" hidden><div class=\"sk-item\"><div class=\"sk-estimator sk-toggleable\"><input class=\"sk-toggleable__control sk-hidden--visually\" id=\"sk-estimator-id-5\" type=\"checkbox\" checked><label for=\"sk-estimator-id-5\" class=\"sk-toggleable__label sk-toggleable__label-arrow\">LogisticRegression</label><div class=\"sk-toggleable__content\"><pre>LogisticRegression(max_iter=1000)</pre></div></div></div></div></div>"
      ],
      "text/plain": [
       "LogisticRegression(max_iter=1000)"
      ]
     },
     "execution_count": 49,
     "metadata": {},
     "output_type": "execute_result"
    }
   ],
   "source": [
    "# initiate the model\n",
    "lr_classifier_2 = LogisticRegression(max_iter=1000)\n",
    "# fit the model\n",
    "lr_classifier_2.fit(count_X_train, y_train)"
   ]
  },
  {
   "cell_type": "code",
   "execution_count": 50,
   "metadata": {},
   "outputs": [],
   "source": [
    "train_accuracy = np.mean(cross_val_score(lr_classifier_2, count_X_train, y_train, cv=5))"
   ]
  },
  {
   "cell_type": "code",
   "execution_count": 51,
   "metadata": {},
   "outputs": [],
   "source": [
    "y_test_pred = lr_classifier_2.predict(count_X_test)\n",
    "test_accuracy = metrics.accuracy_score(y_test, y_test_pred)\n",
    "test_recall = metrics.recall_score(y_test, y_test_pred, pos_label='real_news')\n",
    "test_precision = metrics.precision_score(y_test, y_test_pred, pos_label='real_news')"
   ]
  },
  {
   "cell_type": "code",
   "execution_count": 52,
   "metadata": {},
   "outputs": [],
   "source": [
    "parameters = dict(Exp=5, Model_Name='Logistic Regression', n_Num=0,\\\n",
    "                  n_Cat=1, Nlp_Encode='CountVectorizer()', n_Vector=count_X_train.shape[1], Test_P=0.1, Scale='No',\\\n",
    "                  Cross_Val='Yes', CV=5,\tTrain_Accuracy=round(train_accuracy,3), Val_Accuracy=round(test_accuracy,3),\\\n",
    "                  Val_Recall=round(test_recall,3), Val_Precision=round(test_precision,3))\n",
    "\n",
    "hyperparameter_table[-1].update(parameters)\n",
    "hyperparameter_table[-1].update(cv_kwargs)"
   ]
  },
  {
   "cell_type": "code",
   "execution_count": 53,
   "metadata": {},
   "outputs": [],
   "source": [
    "coef = pd.Series(lr_classifier_2.coef_[0], index=count_vectorizer_1.get_feature_names_out())"
   ]
  },
  {
   "cell_type": "code",
   "execution_count": 54,
   "metadata": {},
   "outputs": [
    {
     "data": {
      "text/plain": [
       "wednesday     0.538115\n",
       "saying        0.541865\n",
       "said          0.622867\n",
       "washington    0.777792\n",
       "reuters       6.930722\n",
       "dtype: float64"
      ]
     },
     "execution_count": 54,
     "metadata": {},
     "output_type": "execute_result"
    }
   ],
   "source": [
    "coef.sort_values().tail()"
   ]
  },
  {
   "cell_type": "code",
   "execution_count": 55,
   "metadata": {},
   "outputs": [
    {
     "data": {
      "text/plain": [
       "via        -2.490443\n",
       "read       -1.340915\n",
       "com        -0.854957\n",
       "featured   -0.812674\n",
       "image      -0.805392\n",
       "dtype: float64"
      ]
     },
     "execution_count": 55,
     "metadata": {},
     "output_type": "execute_result"
    }
   ],
   "source": [
    "coef.sort_values().head()"
   ]
  },
  {
   "cell_type": "markdown",
   "metadata": {},
   "source": [
    "## 3.2.6 Method_2 Exp_6 Logistic Regression with CountVectorizer"
   ]
  },
  {
   "cell_type": "code",
   "execution_count": 56,
   "metadata": {},
   "outputs": [],
   "source": [
    "# create empty dict at start of every experiment. \n",
    "hyperparameters = {}\n",
    "hyperparameter_table.append(hyperparameters)"
   ]
  },
  {
   "cell_type": "code",
   "execution_count": 57,
   "metadata": {},
   "outputs": [],
   "source": [
    "# remove news sources, especially locations and reuters\n",
    "news['text'] = news['text'].apply(lambda x: x.split('-', 1)[1].strip()\\\n",
    "                                        if 'Reuters' in x and '-' in x and len(x.split('-')) > 1 else x)\n",
    "# remove all reuters\n",
    "news['text'] = news['text'].str.replace(r'Reuters|reuters|REUTERS', '', regex=True)"
   ]
  },
  {
   "cell_type": "code",
   "execution_count": 58,
   "metadata": {},
   "outputs": [],
   "source": [
    "def remove_last_sentence(text):\n",
    "        sentences = nltk.sent_tokenize(text)\n",
    "        sentence = sentences[:-1] if sentences else \"\"\n",
    "        return ''.join(sentence)\n",
    "\n",
    "# remove news note, which is always last sentence.\n",
    "news['text'] = news['text'].apply(remove_last_sentence)"
   ]
  },
  {
   "cell_type": "code",
   "execution_count": 59,
   "metadata": {},
   "outputs": [],
   "source": [
    "# remove empty text rows\n",
    "news = news[news['text']!='']"
   ]
  },
  {
   "cell_type": "code",
   "execution_count": 60,
   "metadata": {},
   "outputs": [],
   "source": [
    "# assign X and y\n",
    "X = news.text\n",
    "y = news.label"
   ]
  },
  {
   "cell_type": "code",
   "execution_count": 61,
   "metadata": {},
   "outputs": [],
   "source": [
    "# Create training and test sets\n",
    "X_train, X_test, y_train, y_test = train_test_split(X, y, test_size=0.1, random_state=42, stratify=y)\n",
    "\n",
    "# Initialize a CountVectorizer object: count_vectorizer\n",
    "cv_kwargs = dict(ngram_range=(1,1))\n",
    "count_vectorizer_2 = CountVectorizer(**cv_kwargs)"
   ]
  },
  {
   "cell_type": "code",
   "execution_count": 62,
   "metadata": {},
   "outputs": [],
   "source": [
    "# Transform the training data using only the 'text' column values: count_train \n",
    "count_X_train = count_vectorizer_2.fit_transform(X_train)\n",
    "\n",
    "# Transform the test data using only the 'text' column values: count_test \n",
    "count_X_test = count_vectorizer_2.transform(X_test)"
   ]
  },
  {
   "cell_type": "code",
   "execution_count": 63,
   "metadata": {},
   "outputs": [
    {
     "data": {
      "text/plain": [
       "((33791, 109545), (3755, 109545))"
      ]
     },
     "execution_count": 63,
     "metadata": {},
     "output_type": "execute_result"
    }
   ],
   "source": [
    "count_X_train.shape, count_X_test.shape"
   ]
  },
  {
   "cell_type": "code",
   "execution_count": 64,
   "metadata": {},
   "outputs": [
    {
     "data": {
      "text/html": [
       "<style>#sk-container-id-6 {color: black;background-color: white;}#sk-container-id-6 pre{padding: 0;}#sk-container-id-6 div.sk-toggleable {background-color: white;}#sk-container-id-6 label.sk-toggleable__label {cursor: pointer;display: block;width: 100%;margin-bottom: 0;padding: 0.3em;box-sizing: border-box;text-align: center;}#sk-container-id-6 label.sk-toggleable__label-arrow:before {content: \"▸\";float: left;margin-right: 0.25em;color: #696969;}#sk-container-id-6 label.sk-toggleable__label-arrow:hover:before {color: black;}#sk-container-id-6 div.sk-estimator:hover label.sk-toggleable__label-arrow:before {color: black;}#sk-container-id-6 div.sk-toggleable__content {max-height: 0;max-width: 0;overflow: hidden;text-align: left;background-color: #f0f8ff;}#sk-container-id-6 div.sk-toggleable__content pre {margin: 0.2em;color: black;border-radius: 0.25em;background-color: #f0f8ff;}#sk-container-id-6 input.sk-toggleable__control:checked~div.sk-toggleable__content {max-height: 200px;max-width: 100%;overflow: auto;}#sk-container-id-6 input.sk-toggleable__control:checked~label.sk-toggleable__label-arrow:before {content: \"▾\";}#sk-container-id-6 div.sk-estimator input.sk-toggleable__control:checked~label.sk-toggleable__label {background-color: #d4ebff;}#sk-container-id-6 div.sk-label input.sk-toggleable__control:checked~label.sk-toggleable__label {background-color: #d4ebff;}#sk-container-id-6 input.sk-hidden--visually {border: 0;clip: rect(1px 1px 1px 1px);clip: rect(1px, 1px, 1px, 1px);height: 1px;margin: -1px;overflow: hidden;padding: 0;position: absolute;width: 1px;}#sk-container-id-6 div.sk-estimator {font-family: monospace;background-color: #f0f8ff;border: 1px dotted black;border-radius: 0.25em;box-sizing: border-box;margin-bottom: 0.5em;}#sk-container-id-6 div.sk-estimator:hover {background-color: #d4ebff;}#sk-container-id-6 div.sk-parallel-item::after {content: \"\";width: 100%;border-bottom: 1px solid gray;flex-grow: 1;}#sk-container-id-6 div.sk-label:hover label.sk-toggleable__label {background-color: #d4ebff;}#sk-container-id-6 div.sk-serial::before {content: \"\";position: absolute;border-left: 1px solid gray;box-sizing: border-box;top: 0;bottom: 0;left: 50%;z-index: 0;}#sk-container-id-6 div.sk-serial {display: flex;flex-direction: column;align-items: center;background-color: white;padding-right: 0.2em;padding-left: 0.2em;position: relative;}#sk-container-id-6 div.sk-item {position: relative;z-index: 1;}#sk-container-id-6 div.sk-parallel {display: flex;align-items: stretch;justify-content: center;background-color: white;position: relative;}#sk-container-id-6 div.sk-item::before, #sk-container-id-6 div.sk-parallel-item::before {content: \"\";position: absolute;border-left: 1px solid gray;box-sizing: border-box;top: 0;bottom: 0;left: 50%;z-index: -1;}#sk-container-id-6 div.sk-parallel-item {display: flex;flex-direction: column;z-index: 1;position: relative;background-color: white;}#sk-container-id-6 div.sk-parallel-item:first-child::after {align-self: flex-end;width: 50%;}#sk-container-id-6 div.sk-parallel-item:last-child::after {align-self: flex-start;width: 50%;}#sk-container-id-6 div.sk-parallel-item:only-child::after {width: 0;}#sk-container-id-6 div.sk-dashed-wrapped {border: 1px dashed gray;margin: 0 0.4em 0.5em 0.4em;box-sizing: border-box;padding-bottom: 0.4em;background-color: white;}#sk-container-id-6 div.sk-label label {font-family: monospace;font-weight: bold;display: inline-block;line-height: 1.2em;}#sk-container-id-6 div.sk-label-container {text-align: center;}#sk-container-id-6 div.sk-container {/* jupyter's `normalize.less` sets `[hidden] { display: none; }` but bootstrap.min.css set `[hidden] { display: none !important; }` so we also need the `!important` here to be able to override the default hidden behavior on the sphinx rendered scikit-learn.org. See: https://github.com/scikit-learn/scikit-learn/issues/21755 */display: inline-block !important;position: relative;}#sk-container-id-6 div.sk-text-repr-fallback {display: none;}</style><div id=\"sk-container-id-6\" class=\"sk-top-container\"><div class=\"sk-text-repr-fallback\"><pre>LogisticRegression(max_iter=1000)</pre><b>In a Jupyter environment, please rerun this cell to show the HTML representation or trust the notebook. <br />On GitHub, the HTML representation is unable to render, please try loading this page with nbviewer.org.</b></div><div class=\"sk-container\" hidden><div class=\"sk-item\"><div class=\"sk-estimator sk-toggleable\"><input class=\"sk-toggleable__control sk-hidden--visually\" id=\"sk-estimator-id-6\" type=\"checkbox\" checked><label for=\"sk-estimator-id-6\" class=\"sk-toggleable__label sk-toggleable__label-arrow\">LogisticRegression</label><div class=\"sk-toggleable__content\"><pre>LogisticRegression(max_iter=1000)</pre></div></div></div></div></div>"
      ],
      "text/plain": [
       "LogisticRegression(max_iter=1000)"
      ]
     },
     "execution_count": 64,
     "metadata": {},
     "output_type": "execute_result"
    }
   ],
   "source": [
    "# initiate the model\n",
    "lr_classifier_3 = LogisticRegression(max_iter=1000)\n",
    "# fit the model\n",
    "lr_classifier_3.fit(count_X_train, y_train)"
   ]
  },
  {
   "cell_type": "code",
   "execution_count": 65,
   "metadata": {},
   "outputs": [],
   "source": [
    "train_accuracy = np.mean(cross_val_score(lr_classifier_3, count_X_train, y_train, cv=5))"
   ]
  },
  {
   "cell_type": "code",
   "execution_count": 66,
   "metadata": {},
   "outputs": [],
   "source": [
    "y_test_pred = lr_classifier_3.predict(count_X_test)\n",
    "test_accuracy = metrics.accuracy_score(y_test, y_test_pred)\n",
    "test_recall = metrics.recall_score(y_test, y_test_pred, pos_label='real_news')\n",
    "test_precision = metrics.precision_score(y_test, y_test_pred, pos_label='real_news')"
   ]
  },
  {
   "cell_type": "code",
   "execution_count": 67,
   "metadata": {},
   "outputs": [],
   "source": [
    "parameters = dict(Exp=6, Model_Name='Logistic Regression', n_Num=0,\\\n",
    "                  n_Cat=1, Nlp_Encode='CountVectorizer()', n_Vector=count_X_train.shape[1], Test_P=0.1, Scale='No',\\\n",
    "                  Cross_Val='Yes', CV=5,\tTrain_Accuracy=round(train_accuracy,3), Val_Accuracy=round(test_accuracy,3),\\\n",
    "                  Val_Recall=round(test_recall,3), Val_Precision=round(test_precision,3), Del_HCoff='Yes')\n",
    "\n",
    "hyperparameter_table[-1].update(parameters)\n",
    "hyperparameter_table[-1].update(cv_kwargs)"
   ]
  },
  {
   "cell_type": "code",
   "execution_count": 68,
   "metadata": {},
   "outputs": [],
   "source": [
    "coef = pd.Series(lr_classifier_3.coef_[0], index=count_vectorizer_2.get_feature_names_out())"
   ]
  },
  {
   "cell_type": "code",
   "execution_count": 69,
   "metadata": {},
   "outputs": [
    {
     "data": {
      "text/plain": [
       "friday       1.664633\n",
       "thursday     1.775789\n",
       "wednesday    1.840260\n",
       "est          2.120306\n",
       "edt          2.264357\n",
       "dtype: float64"
      ]
     },
     "execution_count": 69,
     "metadata": {},
     "output_type": "execute_result"
    }
   ],
   "source": [
    "coef.sort_values().tail()"
   ]
  },
  {
   "cell_type": "code",
   "execution_count": 70,
   "metadata": {},
   "outputs": [
    {
     "data": {
      "text/plain": [
       "gop   -1.833129\n",
       "sen   -1.772492\n",
       "rep   -1.677059\n",
       "com   -1.640825\n",
       "mr    -1.406056\n",
       "dtype: float64"
      ]
     },
     "execution_count": 70,
     "metadata": {},
     "output_type": "execute_result"
    }
   ],
   "source": [
    "coef.sort_values().head()"
   ]
  },
  {
   "cell_type": "markdown",
   "metadata": {},
   "source": [
    "## 3.2.7 Method_2 Exp_7 Logistic Regression with CountVectorizer"
   ]
  },
  {
   "cell_type": "code",
   "execution_count": 71,
   "metadata": {},
   "outputs": [],
   "source": [
    "# create empty dict at start of every experiment. \n",
    "hyperparameters = {}\n",
    "hyperparameter_table.append(hyperparameters)"
   ]
  },
  {
   "cell_type": "code",
   "execution_count": 72,
   "metadata": {},
   "outputs": [],
   "source": [
    "# assign X and y\n",
    "X = news.text\n",
    "y = news.label"
   ]
  },
  {
   "cell_type": "code",
   "execution_count": 73,
   "metadata": {},
   "outputs": [],
   "source": [
    "# Create training and test sets\n",
    "X_train, X_test, y_train, y_test = train_test_split(X, y, test_size=0.1, random_state=42, stratify=y)\n",
    "\n",
    "# Initialize a CountVectorizer object: count_vectorizer\n",
    "cv_kwargs = dict(ngram_range=(1,1), max_df=0.8)\n",
    "count_vectorizer_3 = CountVectorizer(**cv_kwargs)"
   ]
  },
  {
   "cell_type": "code",
   "execution_count": 74,
   "metadata": {},
   "outputs": [],
   "source": [
    "# Transform the training data using only the 'text' column values: count_train \n",
    "count_X_train = count_vectorizer_3.fit_transform(X_train)\n",
    "\n",
    "# Transform the test data using only the 'text' column values: count_test \n",
    "count_X_test = count_vectorizer_3.transform(X_test)"
   ]
  },
  {
   "cell_type": "code",
   "execution_count": 75,
   "metadata": {},
   "outputs": [
    {
     "data": {
      "text/plain": [
       "((33791, 109537), (3755, 109537))"
      ]
     },
     "execution_count": 75,
     "metadata": {},
     "output_type": "execute_result"
    }
   ],
   "source": [
    "count_X_train.shape, count_X_test.shape"
   ]
  },
  {
   "cell_type": "code",
   "execution_count": 76,
   "metadata": {},
   "outputs": [
    {
     "data": {
      "text/html": [
       "<style>#sk-container-id-7 {color: black;background-color: white;}#sk-container-id-7 pre{padding: 0;}#sk-container-id-7 div.sk-toggleable {background-color: white;}#sk-container-id-7 label.sk-toggleable__label {cursor: pointer;display: block;width: 100%;margin-bottom: 0;padding: 0.3em;box-sizing: border-box;text-align: center;}#sk-container-id-7 label.sk-toggleable__label-arrow:before {content: \"▸\";float: left;margin-right: 0.25em;color: #696969;}#sk-container-id-7 label.sk-toggleable__label-arrow:hover:before {color: black;}#sk-container-id-7 div.sk-estimator:hover label.sk-toggleable__label-arrow:before {color: black;}#sk-container-id-7 div.sk-toggleable__content {max-height: 0;max-width: 0;overflow: hidden;text-align: left;background-color: #f0f8ff;}#sk-container-id-7 div.sk-toggleable__content pre {margin: 0.2em;color: black;border-radius: 0.25em;background-color: #f0f8ff;}#sk-container-id-7 input.sk-toggleable__control:checked~div.sk-toggleable__content {max-height: 200px;max-width: 100%;overflow: auto;}#sk-container-id-7 input.sk-toggleable__control:checked~label.sk-toggleable__label-arrow:before {content: \"▾\";}#sk-container-id-7 div.sk-estimator input.sk-toggleable__control:checked~label.sk-toggleable__label {background-color: #d4ebff;}#sk-container-id-7 div.sk-label input.sk-toggleable__control:checked~label.sk-toggleable__label {background-color: #d4ebff;}#sk-container-id-7 input.sk-hidden--visually {border: 0;clip: rect(1px 1px 1px 1px);clip: rect(1px, 1px, 1px, 1px);height: 1px;margin: -1px;overflow: hidden;padding: 0;position: absolute;width: 1px;}#sk-container-id-7 div.sk-estimator {font-family: monospace;background-color: #f0f8ff;border: 1px dotted black;border-radius: 0.25em;box-sizing: border-box;margin-bottom: 0.5em;}#sk-container-id-7 div.sk-estimator:hover {background-color: #d4ebff;}#sk-container-id-7 div.sk-parallel-item::after {content: \"\";width: 100%;border-bottom: 1px solid gray;flex-grow: 1;}#sk-container-id-7 div.sk-label:hover label.sk-toggleable__label {background-color: #d4ebff;}#sk-container-id-7 div.sk-serial::before {content: \"\";position: absolute;border-left: 1px solid gray;box-sizing: border-box;top: 0;bottom: 0;left: 50%;z-index: 0;}#sk-container-id-7 div.sk-serial {display: flex;flex-direction: column;align-items: center;background-color: white;padding-right: 0.2em;padding-left: 0.2em;position: relative;}#sk-container-id-7 div.sk-item {position: relative;z-index: 1;}#sk-container-id-7 div.sk-parallel {display: flex;align-items: stretch;justify-content: center;background-color: white;position: relative;}#sk-container-id-7 div.sk-item::before, #sk-container-id-7 div.sk-parallel-item::before {content: \"\";position: absolute;border-left: 1px solid gray;box-sizing: border-box;top: 0;bottom: 0;left: 50%;z-index: -1;}#sk-container-id-7 div.sk-parallel-item {display: flex;flex-direction: column;z-index: 1;position: relative;background-color: white;}#sk-container-id-7 div.sk-parallel-item:first-child::after {align-self: flex-end;width: 50%;}#sk-container-id-7 div.sk-parallel-item:last-child::after {align-self: flex-start;width: 50%;}#sk-container-id-7 div.sk-parallel-item:only-child::after {width: 0;}#sk-container-id-7 div.sk-dashed-wrapped {border: 1px dashed gray;margin: 0 0.4em 0.5em 0.4em;box-sizing: border-box;padding-bottom: 0.4em;background-color: white;}#sk-container-id-7 div.sk-label label {font-family: monospace;font-weight: bold;display: inline-block;line-height: 1.2em;}#sk-container-id-7 div.sk-label-container {text-align: center;}#sk-container-id-7 div.sk-container {/* jupyter's `normalize.less` sets `[hidden] { display: none; }` but bootstrap.min.css set `[hidden] { display: none !important; }` so we also need the `!important` here to be able to override the default hidden behavior on the sphinx rendered scikit-learn.org. See: https://github.com/scikit-learn/scikit-learn/issues/21755 */display: inline-block !important;position: relative;}#sk-container-id-7 div.sk-text-repr-fallback {display: none;}</style><div id=\"sk-container-id-7\" class=\"sk-top-container\"><div class=\"sk-text-repr-fallback\"><pre>LogisticRegression(max_iter=1000)</pre><b>In a Jupyter environment, please rerun this cell to show the HTML representation or trust the notebook. <br />On GitHub, the HTML representation is unable to render, please try loading this page with nbviewer.org.</b></div><div class=\"sk-container\" hidden><div class=\"sk-item\"><div class=\"sk-estimator sk-toggleable\"><input class=\"sk-toggleable__control sk-hidden--visually\" id=\"sk-estimator-id-7\" type=\"checkbox\" checked><label for=\"sk-estimator-id-7\" class=\"sk-toggleable__label sk-toggleable__label-arrow\">LogisticRegression</label><div class=\"sk-toggleable__content\"><pre>LogisticRegression(max_iter=1000)</pre></div></div></div></div></div>"
      ],
      "text/plain": [
       "LogisticRegression(max_iter=1000)"
      ]
     },
     "execution_count": 76,
     "metadata": {},
     "output_type": "execute_result"
    }
   ],
   "source": [
    "# initiate the model\n",
    "lr_classifier_4 = LogisticRegression(max_iter=1000)\n",
    "# fit the model\n",
    "lr_classifier_4.fit(count_X_train, y_train)"
   ]
  },
  {
   "cell_type": "code",
   "execution_count": 77,
   "metadata": {},
   "outputs": [],
   "source": [
    "train_accuracy = np.mean(cross_val_score(lr_classifier_4, count_X_train, y_train, cv=5))"
   ]
  },
  {
   "cell_type": "code",
   "execution_count": 78,
   "metadata": {},
   "outputs": [],
   "source": [
    "y_test_pred = lr_classifier_4.predict(count_X_test)\n",
    "test_accuracy = metrics.accuracy_score(y_test, y_test_pred)\n",
    "test_recall = metrics.recall_score(y_test, y_test_pred, pos_label='real_news')\n",
    "test_precision = metrics.precision_score(y_test, y_test_pred, pos_label='real_news')"
   ]
  },
  {
   "cell_type": "code",
   "execution_count": 79,
   "metadata": {},
   "outputs": [],
   "source": [
    "parameters = dict(Exp=7, Model_Name='Logistic Regression', n_Num=0,\\\n",
    "                  n_Cat=1, Nlp_Encode='CountVectorizer()',  n_Vector=count_X_train.shape[1], Test_P=0.1, Scale='No',\\\n",
    "                  Cross_Val='Yes', CV=5, Train_Accuracy=round(train_accuracy,3), Val_Accuracy=round(test_accuracy,3),\\\n",
    "                  Val_Recall=round(test_recall,3), Val_Precision=round(test_precision,3), Del_HCoff='Yes')\n",
    "\n",
    "hyperparameter_table[-1].update(parameters)\n",
    "hyperparameter_table[-1].update(cv_kwargs)"
   ]
  },
  {
   "cell_type": "code",
   "execution_count": 80,
   "metadata": {},
   "outputs": [],
   "source": [
    "coef = pd.Series(lr_classifier_4.coef_[0], index=count_vectorizer_3.get_feature_names_out())"
   ]
  },
  {
   "cell_type": "code",
   "execution_count": 81,
   "metadata": {},
   "outputs": [
    {
     "data": {
      "text/plain": [
       "friday       2.123941\n",
       "thursday     2.211849\n",
       "wednesday    2.257906\n",
       "est          2.282498\n",
       "edt          2.299041\n",
       "dtype: float64"
      ]
     },
     "execution_count": 81,
     "metadata": {},
     "output_type": "execute_result"
    }
   ],
   "source": [
    "coef.sort_values().tail()"
   ]
  },
  {
   "cell_type": "code",
   "execution_count": 82,
   "metadata": {},
   "outputs": [
    {
     "data": {
      "text/plain": [
       "gop   -1.930291\n",
       "sen   -1.900337\n",
       "rep   -1.738846\n",
       "com   -1.668871\n",
       "mr    -1.481752\n",
       "dtype: float64"
      ]
     },
     "execution_count": 82,
     "metadata": {},
     "output_type": "execute_result"
    }
   ],
   "source": [
    "coef.sort_values().head()"
   ]
  },
  {
   "cell_type": "markdown",
   "metadata": {},
   "source": [
    "## 3.2.8 Method_2 Exp_8 Logistic Regression with CountVectorizer"
   ]
  },
  {
   "cell_type": "code",
   "execution_count": 83,
   "metadata": {},
   "outputs": [],
   "source": [
    "# create empty dict at start of every experiment. \n",
    "hyperparameters = {}\n",
    "hyperparameter_table.append(hyperparameters)"
   ]
  },
  {
   "cell_type": "code",
   "execution_count": 84,
   "metadata": {},
   "outputs": [],
   "source": [
    "# assign X and y\n",
    "X = news.text\n",
    "y = news.label"
   ]
  },
  {
   "cell_type": "code",
   "execution_count": 85,
   "metadata": {},
   "outputs": [],
   "source": [
    "# Create training and test sets\n",
    "X_train, X_test, y_train, y_test = train_test_split(X, y, test_size=0.1, random_state=42, stratify=y)\n",
    "\n",
    "# Initialize a CountVectorizer object: count_vectorizer\n",
    "cv_kwargs = dict(ngram_range=(1,1), min_df=0.1)\n",
    "count_vectorizer_4 = CountVectorizer(**cv_kwargs)"
   ]
  },
  {
   "cell_type": "code",
   "execution_count": 86,
   "metadata": {},
   "outputs": [],
   "source": [
    "# Transform the training data using only the 'text' column values: count_train \n",
    "count_X_train = count_vectorizer_4.fit_transform(X_train)\n",
    "\n",
    "# Transform the test data using only the 'text' column values: count_test \n",
    "count_X_test = count_vectorizer_4.transform(X_test)"
   ]
  },
  {
   "cell_type": "code",
   "execution_count": 87,
   "metadata": {},
   "outputs": [
    {
     "data": {
      "text/plain": [
       "((33791, 300), (3755, 300))"
      ]
     },
     "execution_count": 87,
     "metadata": {},
     "output_type": "execute_result"
    }
   ],
   "source": [
    "count_X_train.shape, count_X_test.shape"
   ]
  },
  {
   "cell_type": "code",
   "execution_count": 88,
   "metadata": {},
   "outputs": [
    {
     "data": {
      "text/html": [
       "<style>#sk-container-id-8 {color: black;background-color: white;}#sk-container-id-8 pre{padding: 0;}#sk-container-id-8 div.sk-toggleable {background-color: white;}#sk-container-id-8 label.sk-toggleable__label {cursor: pointer;display: block;width: 100%;margin-bottom: 0;padding: 0.3em;box-sizing: border-box;text-align: center;}#sk-container-id-8 label.sk-toggleable__label-arrow:before {content: \"▸\";float: left;margin-right: 0.25em;color: #696969;}#sk-container-id-8 label.sk-toggleable__label-arrow:hover:before {color: black;}#sk-container-id-8 div.sk-estimator:hover label.sk-toggleable__label-arrow:before {color: black;}#sk-container-id-8 div.sk-toggleable__content {max-height: 0;max-width: 0;overflow: hidden;text-align: left;background-color: #f0f8ff;}#sk-container-id-8 div.sk-toggleable__content pre {margin: 0.2em;color: black;border-radius: 0.25em;background-color: #f0f8ff;}#sk-container-id-8 input.sk-toggleable__control:checked~div.sk-toggleable__content {max-height: 200px;max-width: 100%;overflow: auto;}#sk-container-id-8 input.sk-toggleable__control:checked~label.sk-toggleable__label-arrow:before {content: \"▾\";}#sk-container-id-8 div.sk-estimator input.sk-toggleable__control:checked~label.sk-toggleable__label {background-color: #d4ebff;}#sk-container-id-8 div.sk-label input.sk-toggleable__control:checked~label.sk-toggleable__label {background-color: #d4ebff;}#sk-container-id-8 input.sk-hidden--visually {border: 0;clip: rect(1px 1px 1px 1px);clip: rect(1px, 1px, 1px, 1px);height: 1px;margin: -1px;overflow: hidden;padding: 0;position: absolute;width: 1px;}#sk-container-id-8 div.sk-estimator {font-family: monospace;background-color: #f0f8ff;border: 1px dotted black;border-radius: 0.25em;box-sizing: border-box;margin-bottom: 0.5em;}#sk-container-id-8 div.sk-estimator:hover {background-color: #d4ebff;}#sk-container-id-8 div.sk-parallel-item::after {content: \"\";width: 100%;border-bottom: 1px solid gray;flex-grow: 1;}#sk-container-id-8 div.sk-label:hover label.sk-toggleable__label {background-color: #d4ebff;}#sk-container-id-8 div.sk-serial::before {content: \"\";position: absolute;border-left: 1px solid gray;box-sizing: border-box;top: 0;bottom: 0;left: 50%;z-index: 0;}#sk-container-id-8 div.sk-serial {display: flex;flex-direction: column;align-items: center;background-color: white;padding-right: 0.2em;padding-left: 0.2em;position: relative;}#sk-container-id-8 div.sk-item {position: relative;z-index: 1;}#sk-container-id-8 div.sk-parallel {display: flex;align-items: stretch;justify-content: center;background-color: white;position: relative;}#sk-container-id-8 div.sk-item::before, #sk-container-id-8 div.sk-parallel-item::before {content: \"\";position: absolute;border-left: 1px solid gray;box-sizing: border-box;top: 0;bottom: 0;left: 50%;z-index: -1;}#sk-container-id-8 div.sk-parallel-item {display: flex;flex-direction: column;z-index: 1;position: relative;background-color: white;}#sk-container-id-8 div.sk-parallel-item:first-child::after {align-self: flex-end;width: 50%;}#sk-container-id-8 div.sk-parallel-item:last-child::after {align-self: flex-start;width: 50%;}#sk-container-id-8 div.sk-parallel-item:only-child::after {width: 0;}#sk-container-id-8 div.sk-dashed-wrapped {border: 1px dashed gray;margin: 0 0.4em 0.5em 0.4em;box-sizing: border-box;padding-bottom: 0.4em;background-color: white;}#sk-container-id-8 div.sk-label label {font-family: monospace;font-weight: bold;display: inline-block;line-height: 1.2em;}#sk-container-id-8 div.sk-label-container {text-align: center;}#sk-container-id-8 div.sk-container {/* jupyter's `normalize.less` sets `[hidden] { display: none; }` but bootstrap.min.css set `[hidden] { display: none !important; }` so we also need the `!important` here to be able to override the default hidden behavior on the sphinx rendered scikit-learn.org. See: https://github.com/scikit-learn/scikit-learn/issues/21755 */display: inline-block !important;position: relative;}#sk-container-id-8 div.sk-text-repr-fallback {display: none;}</style><div id=\"sk-container-id-8\" class=\"sk-top-container\"><div class=\"sk-text-repr-fallback\"><pre>LogisticRegression(max_iter=1000)</pre><b>In a Jupyter environment, please rerun this cell to show the HTML representation or trust the notebook. <br />On GitHub, the HTML representation is unable to render, please try loading this page with nbviewer.org.</b></div><div class=\"sk-container\" hidden><div class=\"sk-item\"><div class=\"sk-estimator sk-toggleable\"><input class=\"sk-toggleable__control sk-hidden--visually\" id=\"sk-estimator-id-8\" type=\"checkbox\" checked><label for=\"sk-estimator-id-8\" class=\"sk-toggleable__label sk-toggleable__label-arrow\">LogisticRegression</label><div class=\"sk-toggleable__content\"><pre>LogisticRegression(max_iter=1000)</pre></div></div></div></div></div>"
      ],
      "text/plain": [
       "LogisticRegression(max_iter=1000)"
      ]
     },
     "execution_count": 88,
     "metadata": {},
     "output_type": "execute_result"
    }
   ],
   "source": [
    "# initiate the model\n",
    "lr_classifier_5 = LogisticRegression(max_iter=1000)\n",
    "# fit the model\n",
    "lr_classifier_5.fit(count_X_train, y_train)"
   ]
  },
  {
   "cell_type": "code",
   "execution_count": 89,
   "metadata": {},
   "outputs": [],
   "source": [
    "train_accuracy = np.mean(cross_val_score(lr_classifier_5, count_X_train, y_train, cv=5))"
   ]
  },
  {
   "cell_type": "code",
   "execution_count": 90,
   "metadata": {},
   "outputs": [],
   "source": [
    "y_test_pred = lr_classifier_5.predict(count_X_test)\n",
    "test_accuracy = metrics.accuracy_score(y_test, y_test_pred)\n",
    "test_recall = metrics.recall_score(y_test, y_test_pred, pos_label='real_news')\n",
    "test_precision = metrics.precision_score(y_test, y_test_pred, pos_label='real_news')"
   ]
  },
  {
   "cell_type": "code",
   "execution_count": 91,
   "metadata": {},
   "outputs": [],
   "source": [
    "parameters = dict(Exp=8, Model_Name='Logistic Regression', n_Num=0,\\\n",
    "                  n_Cat=1, Nlp_Encode='CountVectorizer()',  n_Vector=count_X_train.shape[1], Test_P=0.1, Scale='No',\\\n",
    "                  Cross_Val='Yes', CV=5,\tTrain_Accuracy=round(train_accuracy,3), Val_Accuracy=round(test_accuracy,3),\\\n",
    "                  Val_Recall=round(test_recall,3), Val_Precision=round(test_precision,3), Del_HCoff='Yes')\n",
    "\n",
    "hyperparameter_table[-1].update(parameters)\n",
    "hyperparameter_table[-1].update(cv_kwargs)"
   ]
  },
  {
   "cell_type": "code",
   "execution_count": 92,
   "metadata": {},
   "outputs": [],
   "source": [
    "coef = pd.Series(lr_classifier_5.coef_[0], index=count_vectorizer_4.get_feature_names_out())"
   ]
  },
  {
   "cell_type": "code",
   "execution_count": 93,
   "metadata": {},
   "outputs": [
    {
     "data": {
      "text/plain": [
       "reporters    0.671094\n",
       "thursday     0.671818\n",
       "said         0.689389\n",
       "barack       0.855289\n",
       "minister     0.866710\n",
       "dtype: float64"
      ]
     },
     "execution_count": 93,
     "metadata": {},
     "output_type": "execute_result"
    }
   ],
   "source": [
    "coef.sort_values().tail()"
   ]
  },
  {
   "cell_type": "code",
   "execution_count": 94,
   "metadata": {},
   "outputs": [
    {
     "data": {
      "text/plain": [
       "didn      -1.053701\n",
       "us        -0.848016\n",
       "hillary   -0.845595\n",
       "just      -0.731134\n",
       "fact      -0.662902\n",
       "dtype: float64"
      ]
     },
     "execution_count": 94,
     "metadata": {},
     "output_type": "execute_result"
    }
   ],
   "source": [
    "coef.sort_values().head()"
   ]
  },
  {
   "cell_type": "markdown",
   "metadata": {},
   "source": [
    "## 3.2.9 Method_2 Exp_9 Logistic Regression with CountVectorizer"
   ]
  },
  {
   "cell_type": "code",
   "execution_count": 95,
   "metadata": {},
   "outputs": [],
   "source": [
    "# create empty dict at start of every experiment. \n",
    "hyperparameters = {}\n",
    "hyperparameter_table.append(hyperparameters)"
   ]
  },
  {
   "cell_type": "code",
   "execution_count": 96,
   "metadata": {},
   "outputs": [],
   "source": [
    "# assign X and y\n",
    "X = news.text\n",
    "y = news.label"
   ]
  },
  {
   "cell_type": "code",
   "execution_count": 97,
   "metadata": {},
   "outputs": [],
   "source": [
    "# Create training and test sets\n",
    "X_train, X_test, y_train, y_test = train_test_split(X, y, test_size=0.1, random_state=42, stratify=y)\n",
    "\n",
    "# Initialize a CountVectorizer object: count_vectorizer\n",
    "cv_kwargs = dict(ngram_range=(1,1), max_df=0.8, min_df=0.1)\n",
    "count_vectorizer_5 = CountVectorizer(**cv_kwargs)"
   ]
  },
  {
   "cell_type": "code",
   "execution_count": 98,
   "metadata": {},
   "outputs": [],
   "source": [
    "# Transform the training data using only the 'text' column values: count_train \n",
    "count_X_train = count_vectorizer_5.fit_transform(X_train)\n",
    "\n",
    "# Transform the test data using only the 'text' column values: count_test \n",
    "count_X_test = count_vectorizer_5.transform(X_test)"
   ]
  },
  {
   "cell_type": "code",
   "execution_count": 99,
   "metadata": {},
   "outputs": [
    {
     "data": {
      "text/plain": [
       "((33791, 292), (3755, 292))"
      ]
     },
     "execution_count": 99,
     "metadata": {},
     "output_type": "execute_result"
    }
   ],
   "source": [
    "count_X_train.shape, count_X_test.shape"
   ]
  },
  {
   "cell_type": "code",
   "execution_count": 100,
   "metadata": {},
   "outputs": [
    {
     "data": {
      "text/html": [
       "<style>#sk-container-id-9 {color: black;background-color: white;}#sk-container-id-9 pre{padding: 0;}#sk-container-id-9 div.sk-toggleable {background-color: white;}#sk-container-id-9 label.sk-toggleable__label {cursor: pointer;display: block;width: 100%;margin-bottom: 0;padding: 0.3em;box-sizing: border-box;text-align: center;}#sk-container-id-9 label.sk-toggleable__label-arrow:before {content: \"▸\";float: left;margin-right: 0.25em;color: #696969;}#sk-container-id-9 label.sk-toggleable__label-arrow:hover:before {color: black;}#sk-container-id-9 div.sk-estimator:hover label.sk-toggleable__label-arrow:before {color: black;}#sk-container-id-9 div.sk-toggleable__content {max-height: 0;max-width: 0;overflow: hidden;text-align: left;background-color: #f0f8ff;}#sk-container-id-9 div.sk-toggleable__content pre {margin: 0.2em;color: black;border-radius: 0.25em;background-color: #f0f8ff;}#sk-container-id-9 input.sk-toggleable__control:checked~div.sk-toggleable__content {max-height: 200px;max-width: 100%;overflow: auto;}#sk-container-id-9 input.sk-toggleable__control:checked~label.sk-toggleable__label-arrow:before {content: \"▾\";}#sk-container-id-9 div.sk-estimator input.sk-toggleable__control:checked~label.sk-toggleable__label {background-color: #d4ebff;}#sk-container-id-9 div.sk-label input.sk-toggleable__control:checked~label.sk-toggleable__label {background-color: #d4ebff;}#sk-container-id-9 input.sk-hidden--visually {border: 0;clip: rect(1px 1px 1px 1px);clip: rect(1px, 1px, 1px, 1px);height: 1px;margin: -1px;overflow: hidden;padding: 0;position: absolute;width: 1px;}#sk-container-id-9 div.sk-estimator {font-family: monospace;background-color: #f0f8ff;border: 1px dotted black;border-radius: 0.25em;box-sizing: border-box;margin-bottom: 0.5em;}#sk-container-id-9 div.sk-estimator:hover {background-color: #d4ebff;}#sk-container-id-9 div.sk-parallel-item::after {content: \"\";width: 100%;border-bottom: 1px solid gray;flex-grow: 1;}#sk-container-id-9 div.sk-label:hover label.sk-toggleable__label {background-color: #d4ebff;}#sk-container-id-9 div.sk-serial::before {content: \"\";position: absolute;border-left: 1px solid gray;box-sizing: border-box;top: 0;bottom: 0;left: 50%;z-index: 0;}#sk-container-id-9 div.sk-serial {display: flex;flex-direction: column;align-items: center;background-color: white;padding-right: 0.2em;padding-left: 0.2em;position: relative;}#sk-container-id-9 div.sk-item {position: relative;z-index: 1;}#sk-container-id-9 div.sk-parallel {display: flex;align-items: stretch;justify-content: center;background-color: white;position: relative;}#sk-container-id-9 div.sk-item::before, #sk-container-id-9 div.sk-parallel-item::before {content: \"\";position: absolute;border-left: 1px solid gray;box-sizing: border-box;top: 0;bottom: 0;left: 50%;z-index: -1;}#sk-container-id-9 div.sk-parallel-item {display: flex;flex-direction: column;z-index: 1;position: relative;background-color: white;}#sk-container-id-9 div.sk-parallel-item:first-child::after {align-self: flex-end;width: 50%;}#sk-container-id-9 div.sk-parallel-item:last-child::after {align-self: flex-start;width: 50%;}#sk-container-id-9 div.sk-parallel-item:only-child::after {width: 0;}#sk-container-id-9 div.sk-dashed-wrapped {border: 1px dashed gray;margin: 0 0.4em 0.5em 0.4em;box-sizing: border-box;padding-bottom: 0.4em;background-color: white;}#sk-container-id-9 div.sk-label label {font-family: monospace;font-weight: bold;display: inline-block;line-height: 1.2em;}#sk-container-id-9 div.sk-label-container {text-align: center;}#sk-container-id-9 div.sk-container {/* jupyter's `normalize.less` sets `[hidden] { display: none; }` but bootstrap.min.css set `[hidden] { display: none !important; }` so we also need the `!important` here to be able to override the default hidden behavior on the sphinx rendered scikit-learn.org. See: https://github.com/scikit-learn/scikit-learn/issues/21755 */display: inline-block !important;position: relative;}#sk-container-id-9 div.sk-text-repr-fallback {display: none;}</style><div id=\"sk-container-id-9\" class=\"sk-top-container\"><div class=\"sk-text-repr-fallback\"><pre>LogisticRegression(max_iter=1000)</pre><b>In a Jupyter environment, please rerun this cell to show the HTML representation or trust the notebook. <br />On GitHub, the HTML representation is unable to render, please try loading this page with nbviewer.org.</b></div><div class=\"sk-container\" hidden><div class=\"sk-item\"><div class=\"sk-estimator sk-toggleable\"><input class=\"sk-toggleable__control sk-hidden--visually\" id=\"sk-estimator-id-9\" type=\"checkbox\" checked><label for=\"sk-estimator-id-9\" class=\"sk-toggleable__label sk-toggleable__label-arrow\">LogisticRegression</label><div class=\"sk-toggleable__content\"><pre>LogisticRegression(max_iter=1000)</pre></div></div></div></div></div>"
      ],
      "text/plain": [
       "LogisticRegression(max_iter=1000)"
      ]
     },
     "execution_count": 100,
     "metadata": {},
     "output_type": "execute_result"
    }
   ],
   "source": [
    "# initiate the model\n",
    "lr_classifier_6 = LogisticRegression(max_iter=1000)\n",
    "# fit the model\n",
    "lr_classifier_6.fit(count_X_train, y_train)"
   ]
  },
  {
   "cell_type": "code",
   "execution_count": 101,
   "metadata": {},
   "outputs": [],
   "source": [
    "train_accuracy = np.mean(cross_val_score(lr_classifier_6, count_X_train, y_train, cv=5))"
   ]
  },
  {
   "cell_type": "code",
   "execution_count": 102,
   "metadata": {},
   "outputs": [],
   "source": [
    "y_test_pred = lr_classifier_6.predict(count_X_test)\n",
    "test_accuracy = metrics.accuracy_score(y_test, y_test_pred)\n",
    "test_recall = metrics.recall_score(y_test, y_test_pred, pos_label='real_news')\n",
    "test_precision = metrics.precision_score(y_test, y_test_pred, pos_label='real_news')"
   ]
  },
  {
   "cell_type": "code",
   "execution_count": 103,
   "metadata": {},
   "outputs": [],
   "source": [
    "parameters = dict(Exp=9, Model_Name='Logistic Regression', n_Num=0,\\\n",
    "                  n_Cat=1, Nlp_Encode='CountVectorizer()',  n_Vector=count_X_train.shape[1], Test_P=0.1, Scale='No',\\\n",
    "                  Cross_Val='Yes', CV=5,\tTrain_Accuracy=round(train_accuracy,3), Val_Accuracy=round(test_accuracy,3),\\\n",
    "                  Val_Recall=round(test_recall,3), Val_Precision=round(test_precision,3), Del_HCoff='Yes')\n",
    "\n",
    "hyperparameter_table[-1].update(parameters)\n",
    "hyperparameter_table[-1].update(cv_kwargs)"
   ]
  },
  {
   "cell_type": "code",
   "execution_count": 104,
   "metadata": {},
   "outputs": [],
   "source": [
    "coef = pd.Series(lr_classifier_6.coef_[0], index=count_vectorizer_5.get_feature_names_out())"
   ]
  },
  {
   "cell_type": "code",
   "execution_count": 105,
   "metadata": {},
   "outputs": [
    {
     "data": {
      "text/plain": [
       "tuesday      0.721846\n",
       "thursday     0.777521\n",
       "wednesday    0.787688\n",
       "barack       0.902468\n",
       "minister     0.913954\n",
       "dtype: float64"
      ]
     },
     "execution_count": 105,
     "metadata": {},
     "output_type": "execute_result"
    }
   ],
   "source": [
    "coef.sort_values().tail()"
   ]
  },
  {
   "cell_type": "code",
   "execution_count": 106,
   "metadata": {},
   "outputs": [
    {
     "data": {
      "text/plain": [
       "didn      -1.093927\n",
       "hillary   -0.889147\n",
       "us        -0.832861\n",
       "just      -0.738331\n",
       "fact      -0.733946\n",
       "dtype: float64"
      ]
     },
     "execution_count": 106,
     "metadata": {},
     "output_type": "execute_result"
    }
   ],
   "source": [
    "coef.sort_values().head()"
   ]
  },
  {
   "cell_type": "markdown",
   "metadata": {},
   "source": [
    "## 3.2.10 Method_2 Exp_10 Logistic Regression with CountVectorizer"
   ]
  },
  {
   "cell_type": "code",
   "execution_count": 107,
   "metadata": {},
   "outputs": [],
   "source": [
    "# create empty dict at start of every experiment. \n",
    "hyperparameters = {}\n",
    "hyperparameter_table.append(hyperparameters)"
   ]
  },
  {
   "cell_type": "code",
   "execution_count": 108,
   "metadata": {},
   "outputs": [],
   "source": [
    "# assign X and y\n",
    "X = news.text\n",
    "y = news.label"
   ]
  },
  {
   "cell_type": "code",
   "execution_count": 109,
   "metadata": {},
   "outputs": [],
   "source": [
    "# Create training and test sets\n",
    "X_train, X_test, y_train, y_test = train_test_split(X, y, test_size=0.1, random_state=42, stratify=y)\n",
    "\n",
    "# Initialize a CountVectorizer object: count_vectorizer\n",
    "cv_kwargs = dict(ngram_range=(2,2), max_df=0.8, min_df=0.1)\n",
    "count_vectorizer_6 = CountVectorizer(**cv_kwargs)"
   ]
  },
  {
   "cell_type": "code",
   "execution_count": 110,
   "metadata": {},
   "outputs": [],
   "source": [
    "# Transform the training data using only the 'text' column values: count_train \n",
    "count_X_train = count_vectorizer_6.fit_transform(X_train)\n",
    "\n",
    "# Transform the test data using only the 'text' column values: count_test \n",
    "count_X_test = count_vectorizer_6.transform(X_test)"
   ]
  },
  {
   "cell_type": "code",
   "execution_count": 111,
   "metadata": {},
   "outputs": [
    {
     "data": {
      "text/plain": [
       "((33791, 91), (3755, 91))"
      ]
     },
     "execution_count": 111,
     "metadata": {},
     "output_type": "execute_result"
    }
   ],
   "source": [
    "count_X_train.shape, count_X_test.shape"
   ]
  },
  {
   "cell_type": "code",
   "execution_count": 112,
   "metadata": {},
   "outputs": [
    {
     "data": {
      "text/html": [
       "<style>#sk-container-id-10 {color: black;background-color: white;}#sk-container-id-10 pre{padding: 0;}#sk-container-id-10 div.sk-toggleable {background-color: white;}#sk-container-id-10 label.sk-toggleable__label {cursor: pointer;display: block;width: 100%;margin-bottom: 0;padding: 0.3em;box-sizing: border-box;text-align: center;}#sk-container-id-10 label.sk-toggleable__label-arrow:before {content: \"▸\";float: left;margin-right: 0.25em;color: #696969;}#sk-container-id-10 label.sk-toggleable__label-arrow:hover:before {color: black;}#sk-container-id-10 div.sk-estimator:hover label.sk-toggleable__label-arrow:before {color: black;}#sk-container-id-10 div.sk-toggleable__content {max-height: 0;max-width: 0;overflow: hidden;text-align: left;background-color: #f0f8ff;}#sk-container-id-10 div.sk-toggleable__content pre {margin: 0.2em;color: black;border-radius: 0.25em;background-color: #f0f8ff;}#sk-container-id-10 input.sk-toggleable__control:checked~div.sk-toggleable__content {max-height: 200px;max-width: 100%;overflow: auto;}#sk-container-id-10 input.sk-toggleable__control:checked~label.sk-toggleable__label-arrow:before {content: \"▾\";}#sk-container-id-10 div.sk-estimator input.sk-toggleable__control:checked~label.sk-toggleable__label {background-color: #d4ebff;}#sk-container-id-10 div.sk-label input.sk-toggleable__control:checked~label.sk-toggleable__label {background-color: #d4ebff;}#sk-container-id-10 input.sk-hidden--visually {border: 0;clip: rect(1px 1px 1px 1px);clip: rect(1px, 1px, 1px, 1px);height: 1px;margin: -1px;overflow: hidden;padding: 0;position: absolute;width: 1px;}#sk-container-id-10 div.sk-estimator {font-family: monospace;background-color: #f0f8ff;border: 1px dotted black;border-radius: 0.25em;box-sizing: border-box;margin-bottom: 0.5em;}#sk-container-id-10 div.sk-estimator:hover {background-color: #d4ebff;}#sk-container-id-10 div.sk-parallel-item::after {content: \"\";width: 100%;border-bottom: 1px solid gray;flex-grow: 1;}#sk-container-id-10 div.sk-label:hover label.sk-toggleable__label {background-color: #d4ebff;}#sk-container-id-10 div.sk-serial::before {content: \"\";position: absolute;border-left: 1px solid gray;box-sizing: border-box;top: 0;bottom: 0;left: 50%;z-index: 0;}#sk-container-id-10 div.sk-serial {display: flex;flex-direction: column;align-items: center;background-color: white;padding-right: 0.2em;padding-left: 0.2em;position: relative;}#sk-container-id-10 div.sk-item {position: relative;z-index: 1;}#sk-container-id-10 div.sk-parallel {display: flex;align-items: stretch;justify-content: center;background-color: white;position: relative;}#sk-container-id-10 div.sk-item::before, #sk-container-id-10 div.sk-parallel-item::before {content: \"\";position: absolute;border-left: 1px solid gray;box-sizing: border-box;top: 0;bottom: 0;left: 50%;z-index: -1;}#sk-container-id-10 div.sk-parallel-item {display: flex;flex-direction: column;z-index: 1;position: relative;background-color: white;}#sk-container-id-10 div.sk-parallel-item:first-child::after {align-self: flex-end;width: 50%;}#sk-container-id-10 div.sk-parallel-item:last-child::after {align-self: flex-start;width: 50%;}#sk-container-id-10 div.sk-parallel-item:only-child::after {width: 0;}#sk-container-id-10 div.sk-dashed-wrapped {border: 1px dashed gray;margin: 0 0.4em 0.5em 0.4em;box-sizing: border-box;padding-bottom: 0.4em;background-color: white;}#sk-container-id-10 div.sk-label label {font-family: monospace;font-weight: bold;display: inline-block;line-height: 1.2em;}#sk-container-id-10 div.sk-label-container {text-align: center;}#sk-container-id-10 div.sk-container {/* jupyter's `normalize.less` sets `[hidden] { display: none; }` but bootstrap.min.css set `[hidden] { display: none !important; }` so we also need the `!important` here to be able to override the default hidden behavior on the sphinx rendered scikit-learn.org. See: https://github.com/scikit-learn/scikit-learn/issues/21755 */display: inline-block !important;position: relative;}#sk-container-id-10 div.sk-text-repr-fallback {display: none;}</style><div id=\"sk-container-id-10\" class=\"sk-top-container\"><div class=\"sk-text-repr-fallback\"><pre>LogisticRegression(max_iter=1000)</pre><b>In a Jupyter environment, please rerun this cell to show the HTML representation or trust the notebook. <br />On GitHub, the HTML representation is unable to render, please try loading this page with nbviewer.org.</b></div><div class=\"sk-container\" hidden><div class=\"sk-item\"><div class=\"sk-estimator sk-toggleable\"><input class=\"sk-toggleable__control sk-hidden--visually\" id=\"sk-estimator-id-10\" type=\"checkbox\" checked><label for=\"sk-estimator-id-10\" class=\"sk-toggleable__label sk-toggleable__label-arrow\">LogisticRegression</label><div class=\"sk-toggleable__content\"><pre>LogisticRegression(max_iter=1000)</pre></div></div></div></div></div>"
      ],
      "text/plain": [
       "LogisticRegression(max_iter=1000)"
      ]
     },
     "execution_count": 112,
     "metadata": {},
     "output_type": "execute_result"
    }
   ],
   "source": [
    "# initiate the model\n",
    "lr_classifier_7 = LogisticRegression(max_iter=1000)\n",
    "# fit the model\n",
    "lr_classifier_7.fit(count_X_train, y_train)"
   ]
  },
  {
   "cell_type": "code",
   "execution_count": 113,
   "metadata": {},
   "outputs": [],
   "source": [
    "train_accuracy = np.mean(cross_val_score(lr_classifier_7, count_X_train, y_train, cv=5))"
   ]
  },
  {
   "cell_type": "code",
   "execution_count": 114,
   "metadata": {},
   "outputs": [],
   "source": [
    "y_test_pred = lr_classifier_7.predict(count_X_test)\n",
    "test_accuracy = metrics.accuracy_score(y_test, y_test_pred)\n",
    "test_recall = metrics.recall_score(y_test, y_test_pred, pos_label='real_news')\n",
    "test_precision = metrics.precision_score(y_test, y_test_pred, pos_label='real_news')"
   ]
  },
  {
   "cell_type": "code",
   "execution_count": 115,
   "metadata": {},
   "outputs": [],
   "source": [
    "parameters = dict(Exp=10, Model_Name='Logistic Regression', n_Num=0,\\\n",
    "                  n_Cat=1, Nlp_Encode='CountVectorizer()',  n_Vector=count_X_train.shape[1], Test_P=0.1, Scale='No',\\\n",
    "                  Cross_Val='Yes', CV=5,\tTrain_Accuracy=round(train_accuracy,3), Val_Accuracy=round(test_accuracy,3),\\\n",
    "                  Val_Recall=round(test_recall,3), Val_Precision=round(test_precision,3), Del_HCoff='Yes')\n",
    "\n",
    "\n",
    "hyperparameter_table[-1].update(parameters)\n",
    "hyperparameter_table[-1].update(cv_kwargs)"
   ]
  },
  {
   "cell_type": "code",
   "execution_count": 116,
   "metadata": {},
   "outputs": [],
   "source": [
    "coef = pd.Series(lr_classifier_7.coef_[0], index=count_vectorizer_6.get_feature_names_out())"
   ]
  },
  {
   "cell_type": "code",
   "execution_count": 117,
   "metadata": {},
   "outputs": [
    {
     "data": {
      "text/plain": [
       "on thursday         1.751809\n",
       "on tuesday          1.792064\n",
       "on wednesday        1.869980\n",
       "president donald    2.220432\n",
       "said on             2.475959\n",
       "dtype: float64"
      ]
     },
     "execution_count": 117,
     "metadata": {},
     "output_type": "execute_result"
    }
   ],
   "source": [
    "coef.sort_values().tail()"
   ]
  },
  {
   "cell_type": "code",
   "execution_count": 118,
   "metadata": {},
   "outputs": [
    {
     "data": {
      "text/plain": [
       "this is        -1.040846\n",
       "that they      -0.775880\n",
       "donald trump   -0.716154\n",
       "that he        -0.599134\n",
       "that the       -0.538694\n",
       "dtype: float64"
      ]
     },
     "execution_count": 118,
     "metadata": {},
     "output_type": "execute_result"
    }
   ],
   "source": [
    "coef.sort_values().head()"
   ]
  },
  {
   "cell_type": "markdown",
   "metadata": {},
   "source": [
    "## 3.2.11 Method_2 Exp_11 Logistic Regression with CountVectorizer"
   ]
  },
  {
   "cell_type": "code",
   "execution_count": 119,
   "metadata": {},
   "outputs": [],
   "source": [
    "# create empty dict at start of every experiment. \n",
    "hyperparameters = {}\n",
    "hyperparameter_table.append(hyperparameters)"
   ]
  },
  {
   "cell_type": "code",
   "execution_count": 120,
   "metadata": {},
   "outputs": [],
   "source": [
    "# assign X and y\n",
    "X = news.text\n",
    "y = news.label"
   ]
  },
  {
   "cell_type": "code",
   "execution_count": 121,
   "metadata": {},
   "outputs": [],
   "source": [
    "# Create training and test sets\n",
    "X_train, X_test, y_train, y_test = train_test_split(X, y, test_size=0.1, random_state=42, stratify=y)\n",
    "\n",
    "# Initialize a CountVectorizer object: count_vectorizer\n",
    "cv_kwargs = dict(ngram_range=(1,2), max_df=0.8, min_df=0.1)\n",
    "count_vectorizer_7 = CountVectorizer(**cv_kwargs)"
   ]
  },
  {
   "cell_type": "code",
   "execution_count": 122,
   "metadata": {},
   "outputs": [],
   "source": [
    "# Transform the training data using only the 'text' column values: count_train \n",
    "count_X_train = count_vectorizer_7.fit_transform(X_train)\n",
    "\n",
    "# Transform the test data using only the 'text' column values: count_test \n",
    "count_X_test = count_vectorizer_7.transform(X_test)"
   ]
  },
  {
   "cell_type": "code",
   "execution_count": 123,
   "metadata": {},
   "outputs": [
    {
     "data": {
      "text/plain": [
       "((33791, 383), (3755, 383))"
      ]
     },
     "execution_count": 123,
     "metadata": {},
     "output_type": "execute_result"
    }
   ],
   "source": [
    "count_X_train.shape, count_X_test.shape"
   ]
  },
  {
   "cell_type": "code",
   "execution_count": 124,
   "metadata": {},
   "outputs": [
    {
     "data": {
      "text/html": [
       "<style>#sk-container-id-11 {color: black;background-color: white;}#sk-container-id-11 pre{padding: 0;}#sk-container-id-11 div.sk-toggleable {background-color: white;}#sk-container-id-11 label.sk-toggleable__label {cursor: pointer;display: block;width: 100%;margin-bottom: 0;padding: 0.3em;box-sizing: border-box;text-align: center;}#sk-container-id-11 label.sk-toggleable__label-arrow:before {content: \"▸\";float: left;margin-right: 0.25em;color: #696969;}#sk-container-id-11 label.sk-toggleable__label-arrow:hover:before {color: black;}#sk-container-id-11 div.sk-estimator:hover label.sk-toggleable__label-arrow:before {color: black;}#sk-container-id-11 div.sk-toggleable__content {max-height: 0;max-width: 0;overflow: hidden;text-align: left;background-color: #f0f8ff;}#sk-container-id-11 div.sk-toggleable__content pre {margin: 0.2em;color: black;border-radius: 0.25em;background-color: #f0f8ff;}#sk-container-id-11 input.sk-toggleable__control:checked~div.sk-toggleable__content {max-height: 200px;max-width: 100%;overflow: auto;}#sk-container-id-11 input.sk-toggleable__control:checked~label.sk-toggleable__label-arrow:before {content: \"▾\";}#sk-container-id-11 div.sk-estimator input.sk-toggleable__control:checked~label.sk-toggleable__label {background-color: #d4ebff;}#sk-container-id-11 div.sk-label input.sk-toggleable__control:checked~label.sk-toggleable__label {background-color: #d4ebff;}#sk-container-id-11 input.sk-hidden--visually {border: 0;clip: rect(1px 1px 1px 1px);clip: rect(1px, 1px, 1px, 1px);height: 1px;margin: -1px;overflow: hidden;padding: 0;position: absolute;width: 1px;}#sk-container-id-11 div.sk-estimator {font-family: monospace;background-color: #f0f8ff;border: 1px dotted black;border-radius: 0.25em;box-sizing: border-box;margin-bottom: 0.5em;}#sk-container-id-11 div.sk-estimator:hover {background-color: #d4ebff;}#sk-container-id-11 div.sk-parallel-item::after {content: \"\";width: 100%;border-bottom: 1px solid gray;flex-grow: 1;}#sk-container-id-11 div.sk-label:hover label.sk-toggleable__label {background-color: #d4ebff;}#sk-container-id-11 div.sk-serial::before {content: \"\";position: absolute;border-left: 1px solid gray;box-sizing: border-box;top: 0;bottom: 0;left: 50%;z-index: 0;}#sk-container-id-11 div.sk-serial {display: flex;flex-direction: column;align-items: center;background-color: white;padding-right: 0.2em;padding-left: 0.2em;position: relative;}#sk-container-id-11 div.sk-item {position: relative;z-index: 1;}#sk-container-id-11 div.sk-parallel {display: flex;align-items: stretch;justify-content: center;background-color: white;position: relative;}#sk-container-id-11 div.sk-item::before, #sk-container-id-11 div.sk-parallel-item::before {content: \"\";position: absolute;border-left: 1px solid gray;box-sizing: border-box;top: 0;bottom: 0;left: 50%;z-index: -1;}#sk-container-id-11 div.sk-parallel-item {display: flex;flex-direction: column;z-index: 1;position: relative;background-color: white;}#sk-container-id-11 div.sk-parallel-item:first-child::after {align-self: flex-end;width: 50%;}#sk-container-id-11 div.sk-parallel-item:last-child::after {align-self: flex-start;width: 50%;}#sk-container-id-11 div.sk-parallel-item:only-child::after {width: 0;}#sk-container-id-11 div.sk-dashed-wrapped {border: 1px dashed gray;margin: 0 0.4em 0.5em 0.4em;box-sizing: border-box;padding-bottom: 0.4em;background-color: white;}#sk-container-id-11 div.sk-label label {font-family: monospace;font-weight: bold;display: inline-block;line-height: 1.2em;}#sk-container-id-11 div.sk-label-container {text-align: center;}#sk-container-id-11 div.sk-container {/* jupyter's `normalize.less` sets `[hidden] { display: none; }` but bootstrap.min.css set `[hidden] { display: none !important; }` so we also need the `!important` here to be able to override the default hidden behavior on the sphinx rendered scikit-learn.org. See: https://github.com/scikit-learn/scikit-learn/issues/21755 */display: inline-block !important;position: relative;}#sk-container-id-11 div.sk-text-repr-fallback {display: none;}</style><div id=\"sk-container-id-11\" class=\"sk-top-container\"><div class=\"sk-text-repr-fallback\"><pre>LogisticRegression(max_iter=1000)</pre><b>In a Jupyter environment, please rerun this cell to show the HTML representation or trust the notebook. <br />On GitHub, the HTML representation is unable to render, please try loading this page with nbviewer.org.</b></div><div class=\"sk-container\" hidden><div class=\"sk-item\"><div class=\"sk-estimator sk-toggleable\"><input class=\"sk-toggleable__control sk-hidden--visually\" id=\"sk-estimator-id-11\" type=\"checkbox\" checked><label for=\"sk-estimator-id-11\" class=\"sk-toggleable__label sk-toggleable__label-arrow\">LogisticRegression</label><div class=\"sk-toggleable__content\"><pre>LogisticRegression(max_iter=1000)</pre></div></div></div></div></div>"
      ],
      "text/plain": [
       "LogisticRegression(max_iter=1000)"
      ]
     },
     "execution_count": 124,
     "metadata": {},
     "output_type": "execute_result"
    }
   ],
   "source": [
    "# initiate the model\n",
    "lr_classifier_8 = LogisticRegression(max_iter=1000)\n",
    "# fit the model\n",
    "lr_classifier_8.fit(count_X_train, y_train)"
   ]
  },
  {
   "cell_type": "code",
   "execution_count": 125,
   "metadata": {},
   "outputs": [],
   "source": [
    "train_accuracy = np.mean(cross_val_score(lr_classifier_8, count_X_train, y_train, cv=5))"
   ]
  },
  {
   "cell_type": "code",
   "execution_count": 126,
   "metadata": {},
   "outputs": [],
   "source": [
    "y_test_pred = lr_classifier_8.predict(count_X_test)\n",
    "test_accuracy = metrics.accuracy_score(y_test, y_test_pred)\n",
    "test_recall = metrics.recall_score(y_test, y_test_pred, pos_label='real_news')\n",
    "test_precision = metrics.precision_score(y_test, y_test_pred, pos_label='real_news')"
   ]
  },
  {
   "cell_type": "code",
   "execution_count": 127,
   "metadata": {},
   "outputs": [],
   "source": [
    "parameters = dict(Exp=11, Model_Name='Logistic Regression', n_Num=0,\\\n",
    "                  n_Cat=1, Nlp_Encode='CountVectorizer()',  n_Vector=count_X_train.shape[1], Test_P=0.1, Scale='No',\\\n",
    "                  Cross_Val='Yes', CV=5,\tTrain_Accuracy=round(train_accuracy,3), Val_Accuracy=round(test_accuracy,3),\\\n",
    "                  Val_Recall=round(test_recall,3), Val_Precision=round(test_precision,3), Del_HCoff='Yes')\n",
    "\n",
    "\n",
    "hyperparameter_table[-1].update(parameters)\n",
    "hyperparameter_table[-1].update(cv_kwargs)"
   ]
  },
  {
   "cell_type": "code",
   "execution_count": 128,
   "metadata": {},
   "outputs": [],
   "source": [
    "coef = pd.Series(lr_classifier_8.coef_[0], index=count_vectorizer_7.get_feature_names_out())"
   ]
  },
  {
   "cell_type": "code",
   "execution_count": 129,
   "metadata": {},
   "outputs": [
    {
     "data": {
      "text/plain": [
       "barack obama    2.278150\n",
       "on thursday     2.590330\n",
       "on tuesday      2.660536\n",
       "on monday       2.674985\n",
       "on wednesday    2.784639\n",
       "dtype: float64"
      ]
     },
     "execution_count": 129,
     "metadata": {},
     "output_type": "execute_result"
    }
   ],
   "source": [
    "coef.sort_values().tail()"
   ]
  },
  {
   "cell_type": "code",
   "execution_count": 130,
   "metadata": {},
   "outputs": [
    {
     "data": {
      "text/plain": [
       "wednesday   -1.148856\n",
       "monday      -1.076625\n",
       "york        -1.036592\n",
       "barack      -1.030892\n",
       "hillary     -0.981168\n",
       "dtype: float64"
      ]
     },
     "execution_count": 130,
     "metadata": {},
     "output_type": "execute_result"
    }
   ],
   "source": [
    "coef.sort_values().head()"
   ]
  },
  {
   "cell_type": "markdown",
   "metadata": {},
   "source": [
    "## 3.2.12 Method_2 Exp_12 Logistic Regression with CountVectorizer"
   ]
  },
  {
   "cell_type": "code",
   "execution_count": 131,
   "metadata": {},
   "outputs": [],
   "source": [
    "# create empty dict at start of every experiment. \n",
    "hyperparameters = {}\n",
    "hyperparameter_table.append(hyperparameters)"
   ]
  },
  {
   "cell_type": "code",
   "execution_count": 132,
   "metadata": {},
   "outputs": [],
   "source": [
    "# assign X and y\n",
    "X = news.text\n",
    "y = news.label"
   ]
  },
  {
   "cell_type": "code",
   "execution_count": 133,
   "metadata": {},
   "outputs": [],
   "source": [
    "# Create training and test sets\n",
    "X_train, X_test, y_train, y_test = train_test_split(X, y, test_size=0.1, random_state=42, stratify=y)\n",
    "\n",
    "# Initialize a CountVectorizer object: count_vectorizer\n",
    "cv_kwargs = dict(ngram_range=(1,2), max_df=0.8, min_df=0.2)\n",
    "count_vectorizer_8 = CountVectorizer(**cv_kwargs)"
   ]
  },
  {
   "cell_type": "code",
   "execution_count": 134,
   "metadata": {},
   "outputs": [],
   "source": [
    "# Transform the training data using only the 'text' column values: count_train \n",
    "count_X_train = count_vectorizer_8.fit_transform(X_train)\n",
    "\n",
    "# Transform the test data using only the 'text' column values: count_test \n",
    "count_X_test = count_vectorizer_8.transform(X_test)"
   ]
  },
  {
   "cell_type": "code",
   "execution_count": 135,
   "metadata": {},
   "outputs": [
    {
     "data": {
      "text/plain": [
       "((33791, 143), (3755, 143))"
      ]
     },
     "execution_count": 135,
     "metadata": {},
     "output_type": "execute_result"
    }
   ],
   "source": [
    "count_X_train.shape, count_X_test.shape"
   ]
  },
  {
   "cell_type": "code",
   "execution_count": 136,
   "metadata": {},
   "outputs": [
    {
     "data": {
      "text/html": [
       "<style>#sk-container-id-12 {color: black;background-color: white;}#sk-container-id-12 pre{padding: 0;}#sk-container-id-12 div.sk-toggleable {background-color: white;}#sk-container-id-12 label.sk-toggleable__label {cursor: pointer;display: block;width: 100%;margin-bottom: 0;padding: 0.3em;box-sizing: border-box;text-align: center;}#sk-container-id-12 label.sk-toggleable__label-arrow:before {content: \"▸\";float: left;margin-right: 0.25em;color: #696969;}#sk-container-id-12 label.sk-toggleable__label-arrow:hover:before {color: black;}#sk-container-id-12 div.sk-estimator:hover label.sk-toggleable__label-arrow:before {color: black;}#sk-container-id-12 div.sk-toggleable__content {max-height: 0;max-width: 0;overflow: hidden;text-align: left;background-color: #f0f8ff;}#sk-container-id-12 div.sk-toggleable__content pre {margin: 0.2em;color: black;border-radius: 0.25em;background-color: #f0f8ff;}#sk-container-id-12 input.sk-toggleable__control:checked~div.sk-toggleable__content {max-height: 200px;max-width: 100%;overflow: auto;}#sk-container-id-12 input.sk-toggleable__control:checked~label.sk-toggleable__label-arrow:before {content: \"▾\";}#sk-container-id-12 div.sk-estimator input.sk-toggleable__control:checked~label.sk-toggleable__label {background-color: #d4ebff;}#sk-container-id-12 div.sk-label input.sk-toggleable__control:checked~label.sk-toggleable__label {background-color: #d4ebff;}#sk-container-id-12 input.sk-hidden--visually {border: 0;clip: rect(1px 1px 1px 1px);clip: rect(1px, 1px, 1px, 1px);height: 1px;margin: -1px;overflow: hidden;padding: 0;position: absolute;width: 1px;}#sk-container-id-12 div.sk-estimator {font-family: monospace;background-color: #f0f8ff;border: 1px dotted black;border-radius: 0.25em;box-sizing: border-box;margin-bottom: 0.5em;}#sk-container-id-12 div.sk-estimator:hover {background-color: #d4ebff;}#sk-container-id-12 div.sk-parallel-item::after {content: \"\";width: 100%;border-bottom: 1px solid gray;flex-grow: 1;}#sk-container-id-12 div.sk-label:hover label.sk-toggleable__label {background-color: #d4ebff;}#sk-container-id-12 div.sk-serial::before {content: \"\";position: absolute;border-left: 1px solid gray;box-sizing: border-box;top: 0;bottom: 0;left: 50%;z-index: 0;}#sk-container-id-12 div.sk-serial {display: flex;flex-direction: column;align-items: center;background-color: white;padding-right: 0.2em;padding-left: 0.2em;position: relative;}#sk-container-id-12 div.sk-item {position: relative;z-index: 1;}#sk-container-id-12 div.sk-parallel {display: flex;align-items: stretch;justify-content: center;background-color: white;position: relative;}#sk-container-id-12 div.sk-item::before, #sk-container-id-12 div.sk-parallel-item::before {content: \"\";position: absolute;border-left: 1px solid gray;box-sizing: border-box;top: 0;bottom: 0;left: 50%;z-index: -1;}#sk-container-id-12 div.sk-parallel-item {display: flex;flex-direction: column;z-index: 1;position: relative;background-color: white;}#sk-container-id-12 div.sk-parallel-item:first-child::after {align-self: flex-end;width: 50%;}#sk-container-id-12 div.sk-parallel-item:last-child::after {align-self: flex-start;width: 50%;}#sk-container-id-12 div.sk-parallel-item:only-child::after {width: 0;}#sk-container-id-12 div.sk-dashed-wrapped {border: 1px dashed gray;margin: 0 0.4em 0.5em 0.4em;box-sizing: border-box;padding-bottom: 0.4em;background-color: white;}#sk-container-id-12 div.sk-label label {font-family: monospace;font-weight: bold;display: inline-block;line-height: 1.2em;}#sk-container-id-12 div.sk-label-container {text-align: center;}#sk-container-id-12 div.sk-container {/* jupyter's `normalize.less` sets `[hidden] { display: none; }` but bootstrap.min.css set `[hidden] { display: none !important; }` so we also need the `!important` here to be able to override the default hidden behavior on the sphinx rendered scikit-learn.org. See: https://github.com/scikit-learn/scikit-learn/issues/21755 */display: inline-block !important;position: relative;}#sk-container-id-12 div.sk-text-repr-fallback {display: none;}</style><div id=\"sk-container-id-12\" class=\"sk-top-container\"><div class=\"sk-text-repr-fallback\"><pre>LogisticRegression(max_iter=1000)</pre><b>In a Jupyter environment, please rerun this cell to show the HTML representation or trust the notebook. <br />On GitHub, the HTML representation is unable to render, please try loading this page with nbviewer.org.</b></div><div class=\"sk-container\" hidden><div class=\"sk-item\"><div class=\"sk-estimator sk-toggleable\"><input class=\"sk-toggleable__control sk-hidden--visually\" id=\"sk-estimator-id-12\" type=\"checkbox\" checked><label for=\"sk-estimator-id-12\" class=\"sk-toggleable__label sk-toggleable__label-arrow\">LogisticRegression</label><div class=\"sk-toggleable__content\"><pre>LogisticRegression(max_iter=1000)</pre></div></div></div></div></div>"
      ],
      "text/plain": [
       "LogisticRegression(max_iter=1000)"
      ]
     },
     "execution_count": 136,
     "metadata": {},
     "output_type": "execute_result"
    }
   ],
   "source": [
    "# initiate the model\n",
    "lr_classifier_9 = LogisticRegression(max_iter=1000)\n",
    "# fit the model\n",
    "lr_classifier_9.fit(count_X_train, y_train)"
   ]
  },
  {
   "cell_type": "code",
   "execution_count": 137,
   "metadata": {},
   "outputs": [],
   "source": [
    "train_accuracy = np.mean(cross_val_score(lr_classifier_9, count_X_train, y_train, cv=5))"
   ]
  },
  {
   "cell_type": "code",
   "execution_count": 138,
   "metadata": {},
   "outputs": [],
   "source": [
    "y_test_pred = lr_classifier_9.predict(count_X_test)\n",
    "test_accuracy = metrics.accuracy_score(y_test, y_test_pred)\n",
    "test_recall = metrics.recall_score(y_test, y_test_pred, pos_label='real_news')\n",
    "test_precision = metrics.precision_score(y_test, y_test_pred, pos_label='real_news')"
   ]
  },
  {
   "cell_type": "code",
   "execution_count": 139,
   "metadata": {},
   "outputs": [],
   "source": [
    "parameters = dict(Exp=12, Model_Name='Logistic Regression', n_Num=0,\\\n",
    "                  n_Cat=1, Nlp_Encode='CountVectorizer()', n_Vector=count_X_train.shape[1], Test_P=0.1, Scale='No',\\\n",
    "                  Cross_Val='Yes', CV=5,\tTrain_Accuracy=round(train_accuracy,3), Val_Accuracy=round(test_accuracy,3),\\\n",
    "                  Val_Recall=round(test_recall,3), Val_Precision=round(test_precision,3), Del_HCoff='Yes')\n",
    "\n",
    "\n",
    "hyperparameter_table[-1].update(parameters)\n",
    "hyperparameter_table[-1].update(cv_kwargs)"
   ]
  },
  {
   "cell_type": "code",
   "execution_count": 140,
   "metadata": {},
   "outputs": [],
   "source": [
    "coef = pd.Series(lr_classifier_9.coef_[0], index=count_vectorizer_8.get_feature_names_out())"
   ]
  },
  {
   "cell_type": "code",
   "execution_count": 141,
   "metadata": {},
   "outputs": [
    {
     "data": {
      "text/plain": [
       "week          0.338233\n",
       "republican    0.378842\n",
       "the united    0.518443\n",
       "said          0.690109\n",
       "said on       2.152587\n",
       "dtype: float64"
      ]
     },
     "execution_count": 141,
     "metadata": {},
     "output_type": "execute_result"
    }
   ],
   "source": [
    "coef.sort_values().tail()"
   ]
  },
  {
   "cell_type": "code",
   "execution_count": 142,
   "metadata": {},
   "outputs": [
    {
     "data": {
      "text/plain": [
       "just        -0.716235\n",
       "according   -0.616328\n",
       "this        -0.526641\n",
       "that the    -0.525394\n",
       "even        -0.508705\n",
       "dtype: float64"
      ]
     },
     "execution_count": 142,
     "metadata": {},
     "output_type": "execute_result"
    }
   ],
   "source": [
    "coef.sort_values().head()"
   ]
  },
  {
   "cell_type": "markdown",
   "metadata": {},
   "source": [
    "## 3.2.13 Method_2 Exp_13 Logistic Regression with TfidfVectorizer"
   ]
  },
  {
   "cell_type": "code",
   "execution_count": 143,
   "metadata": {},
   "outputs": [],
   "source": [
    "# create empty dict at start of every experiment. \n",
    "hyperparameters = {}\n",
    "hyperparameter_table.append(hyperparameters)"
   ]
  },
  {
   "cell_type": "code",
   "execution_count": 144,
   "metadata": {},
   "outputs": [],
   "source": [
    "# assign X and y\n",
    "X = news.text\n",
    "y = news.label"
   ]
  },
  {
   "cell_type": "code",
   "execution_count": 145,
   "metadata": {},
   "outputs": [],
   "source": [
    "# Create training and test sets\n",
    "X_train, X_test, y_train, y_test = train_test_split(X, y, test_size=0.1, random_state=42, stratify=y)\n",
    "\n",
    "# Initialize a TfidfVectorizer object: tfidf_vectorizer\n",
    "cv_kwargs = dict(ngram_range=(1,2), max_df=0.8, min_df=0.1)\n",
    "tfidf_vectorizer_1 = TfidfVectorizer(**cv_kwargs)"
   ]
  },
  {
   "cell_type": "code",
   "execution_count": 146,
   "metadata": {},
   "outputs": [],
   "source": [
    "# Transform the training data using only the 'text' column values: tfidf_train \n",
    "tfidf_X_train = tfidf_vectorizer_1.fit_transform(X_train)\n",
    "\n",
    "# Transform the test data using only the 'text' column values: tfidf_test \n",
    "tfidf_X_test = tfidf_vectorizer_1.transform(X_test)"
   ]
  },
  {
   "cell_type": "code",
   "execution_count": 147,
   "metadata": {},
   "outputs": [
    {
     "data": {
      "text/plain": [
       "((33791, 383), (3755, 383))"
      ]
     },
     "execution_count": 147,
     "metadata": {},
     "output_type": "execute_result"
    }
   ],
   "source": [
    "tfidf_X_train.shape, tfidf_X_test.shape"
   ]
  },
  {
   "cell_type": "code",
   "execution_count": 148,
   "metadata": {},
   "outputs": [
    {
     "data": {
      "text/html": [
       "<style>#sk-container-id-13 {color: black;background-color: white;}#sk-container-id-13 pre{padding: 0;}#sk-container-id-13 div.sk-toggleable {background-color: white;}#sk-container-id-13 label.sk-toggleable__label {cursor: pointer;display: block;width: 100%;margin-bottom: 0;padding: 0.3em;box-sizing: border-box;text-align: center;}#sk-container-id-13 label.sk-toggleable__label-arrow:before {content: \"▸\";float: left;margin-right: 0.25em;color: #696969;}#sk-container-id-13 label.sk-toggleable__label-arrow:hover:before {color: black;}#sk-container-id-13 div.sk-estimator:hover label.sk-toggleable__label-arrow:before {color: black;}#sk-container-id-13 div.sk-toggleable__content {max-height: 0;max-width: 0;overflow: hidden;text-align: left;background-color: #f0f8ff;}#sk-container-id-13 div.sk-toggleable__content pre {margin: 0.2em;color: black;border-radius: 0.25em;background-color: #f0f8ff;}#sk-container-id-13 input.sk-toggleable__control:checked~div.sk-toggleable__content {max-height: 200px;max-width: 100%;overflow: auto;}#sk-container-id-13 input.sk-toggleable__control:checked~label.sk-toggleable__label-arrow:before {content: \"▾\";}#sk-container-id-13 div.sk-estimator input.sk-toggleable__control:checked~label.sk-toggleable__label {background-color: #d4ebff;}#sk-container-id-13 div.sk-label input.sk-toggleable__control:checked~label.sk-toggleable__label {background-color: #d4ebff;}#sk-container-id-13 input.sk-hidden--visually {border: 0;clip: rect(1px 1px 1px 1px);clip: rect(1px, 1px, 1px, 1px);height: 1px;margin: -1px;overflow: hidden;padding: 0;position: absolute;width: 1px;}#sk-container-id-13 div.sk-estimator {font-family: monospace;background-color: #f0f8ff;border: 1px dotted black;border-radius: 0.25em;box-sizing: border-box;margin-bottom: 0.5em;}#sk-container-id-13 div.sk-estimator:hover {background-color: #d4ebff;}#sk-container-id-13 div.sk-parallel-item::after {content: \"\";width: 100%;border-bottom: 1px solid gray;flex-grow: 1;}#sk-container-id-13 div.sk-label:hover label.sk-toggleable__label {background-color: #d4ebff;}#sk-container-id-13 div.sk-serial::before {content: \"\";position: absolute;border-left: 1px solid gray;box-sizing: border-box;top: 0;bottom: 0;left: 50%;z-index: 0;}#sk-container-id-13 div.sk-serial {display: flex;flex-direction: column;align-items: center;background-color: white;padding-right: 0.2em;padding-left: 0.2em;position: relative;}#sk-container-id-13 div.sk-item {position: relative;z-index: 1;}#sk-container-id-13 div.sk-parallel {display: flex;align-items: stretch;justify-content: center;background-color: white;position: relative;}#sk-container-id-13 div.sk-item::before, #sk-container-id-13 div.sk-parallel-item::before {content: \"\";position: absolute;border-left: 1px solid gray;box-sizing: border-box;top: 0;bottom: 0;left: 50%;z-index: -1;}#sk-container-id-13 div.sk-parallel-item {display: flex;flex-direction: column;z-index: 1;position: relative;background-color: white;}#sk-container-id-13 div.sk-parallel-item:first-child::after {align-self: flex-end;width: 50%;}#sk-container-id-13 div.sk-parallel-item:last-child::after {align-self: flex-start;width: 50%;}#sk-container-id-13 div.sk-parallel-item:only-child::after {width: 0;}#sk-container-id-13 div.sk-dashed-wrapped {border: 1px dashed gray;margin: 0 0.4em 0.5em 0.4em;box-sizing: border-box;padding-bottom: 0.4em;background-color: white;}#sk-container-id-13 div.sk-label label {font-family: monospace;font-weight: bold;display: inline-block;line-height: 1.2em;}#sk-container-id-13 div.sk-label-container {text-align: center;}#sk-container-id-13 div.sk-container {/* jupyter's `normalize.less` sets `[hidden] { display: none; }` but bootstrap.min.css set `[hidden] { display: none !important; }` so we also need the `!important` here to be able to override the default hidden behavior on the sphinx rendered scikit-learn.org. See: https://github.com/scikit-learn/scikit-learn/issues/21755 */display: inline-block !important;position: relative;}#sk-container-id-13 div.sk-text-repr-fallback {display: none;}</style><div id=\"sk-container-id-13\" class=\"sk-top-container\"><div class=\"sk-text-repr-fallback\"><pre>LogisticRegression(max_iter=1000)</pre><b>In a Jupyter environment, please rerun this cell to show the HTML representation or trust the notebook. <br />On GitHub, the HTML representation is unable to render, please try loading this page with nbviewer.org.</b></div><div class=\"sk-container\" hidden><div class=\"sk-item\"><div class=\"sk-estimator sk-toggleable\"><input class=\"sk-toggleable__control sk-hidden--visually\" id=\"sk-estimator-id-13\" type=\"checkbox\" checked><label for=\"sk-estimator-id-13\" class=\"sk-toggleable__label sk-toggleable__label-arrow\">LogisticRegression</label><div class=\"sk-toggleable__content\"><pre>LogisticRegression(max_iter=1000)</pre></div></div></div></div></div>"
      ],
      "text/plain": [
       "LogisticRegression(max_iter=1000)"
      ]
     },
     "execution_count": 148,
     "metadata": {},
     "output_type": "execute_result"
    }
   ],
   "source": [
    "# initiate the model\n",
    "lr_classifier_10 = LogisticRegression(max_iter=1000)\n",
    "# fit the model\n",
    "lr_classifier_10.fit(tfidf_X_train, y_train)"
   ]
  },
  {
   "cell_type": "code",
   "execution_count": 149,
   "metadata": {},
   "outputs": [],
   "source": [
    "train_accuracy = np.mean(cross_val_score(lr_classifier_10, tfidf_X_train, y_train, cv=5))"
   ]
  },
  {
   "cell_type": "code",
   "execution_count": 150,
   "metadata": {},
   "outputs": [],
   "source": [
    "y_test_pred = lr_classifier_10.predict(tfidf_X_test)\n",
    "test_accuracy = metrics.accuracy_score(y_test, y_test_pred)\n",
    "test_recall = metrics.recall_score(y_test, y_test_pred, pos_label='real_news')\n",
    "test_precision = metrics.precision_score(y_test, y_test_pred, pos_label='real_news')"
   ]
  },
  {
   "cell_type": "code",
   "execution_count": 151,
   "metadata": {},
   "outputs": [],
   "source": [
    "parameters = dict(Exp=13, Model_Name='Logistic Regression', n_Num=0,\\\n",
    "                  n_Cat=1, Nlp_Encode='TfidfVectorizer()', n_Vector=tfidf_X_train.shape[1], Test_P=0.1, Scale='No',\\\n",
    "                  Cross_Val='Yes', CV=5,\tTrain_Accuracy=round(train_accuracy,3), Val_Accuracy=round(test_accuracy,3),\\\n",
    "                  Val_Recall=round(test_recall,3), Val_Precision=round(test_precision,3), Del_HCoff='Yes')\n",
    "\n",
    "\n",
    "hyperparameter_table[-1].update(parameters)\n",
    "hyperparameter_table[-1].update(cv_kwargs)"
   ]
  },
  {
   "cell_type": "code",
   "execution_count": 152,
   "metadata": {},
   "outputs": [],
   "source": [
    "coef = pd.Series(lr_classifier_10.coef_[0], index=tfidf_vectorizer_1.get_feature_names_out())"
   ]
  },
  {
   "cell_type": "code",
   "execution_count": 153,
   "metadata": {},
   "outputs": [
    {
     "data": {
      "text/plain": [
       "president donald     7.776201\n",
       "on wednesday         8.013712\n",
       "said on              8.124231\n",
       "on tuesday           8.244027\n",
       "said                13.908470\n",
       "dtype: float64"
      ]
     },
     "execution_count": 153,
     "metadata": {},
     "output_type": "execute_result"
    }
   ],
   "source": [
    "coef.sort_values().tail()"
   ]
  },
  {
   "cell_type": "code",
   "execution_count": 154,
   "metadata": {},
   "outputs": [
    {
     "data": {
      "text/plain": [
       "this       -7.506736\n",
       "just       -5.899609\n",
       "us         -5.637635\n",
       "didn       -5.207233\n",
       "that the   -4.657941\n",
       "dtype: float64"
      ]
     },
     "execution_count": 154,
     "metadata": {},
     "output_type": "execute_result"
    }
   ],
   "source": [
    "coef.sort_values().head()"
   ]
  },
  {
   "cell_type": "markdown",
   "metadata": {},
   "source": [
    "## 3.2.14 Method_2 Exp_14 Logistic Regression with TfidfVectorizer"
   ]
  },
  {
   "cell_type": "code",
   "execution_count": 155,
   "metadata": {},
   "outputs": [],
   "source": [
    "# create empty dict at start of every experiment. \n",
    "hyperparameters = {}\n",
    "hyperparameter_table.append(hyperparameters)"
   ]
  },
  {
   "cell_type": "code",
   "execution_count": 156,
   "metadata": {},
   "outputs": [],
   "source": [
    "# assign X and y\n",
    "X = news.text\n",
    "y = news.label"
   ]
  },
  {
   "cell_type": "code",
   "execution_count": 157,
   "metadata": {},
   "outputs": [],
   "source": [
    "# Create training and test sets\n",
    "X_train, X_test, y_train, y_test = train_test_split(X, y, test_size=0.1, random_state=42, stratify=y)\n",
    "\n",
    "# Initialize a TfidfVectorizer object: tfidf_vectorizer\n",
    "cv_kwargs = dict(ngram_range=(1,1), max_df=0.8, min_df=0.1)\n",
    "tfidf_vectorizer_2 = TfidfVectorizer(**cv_kwargs)"
   ]
  },
  {
   "cell_type": "code",
   "execution_count": 158,
   "metadata": {},
   "outputs": [],
   "source": [
    "# Transform the training data using only the 'text' column values: tfidf_train \n",
    "tfidf_X_train = tfidf_vectorizer_2.fit_transform(X_train)\n",
    "\n",
    "# Transform the test data using only the 'text' column values: tfidf_test \n",
    "tfidf_X_test = tfidf_vectorizer_2.transform(X_test)"
   ]
  },
  {
   "cell_type": "code",
   "execution_count": 159,
   "metadata": {},
   "outputs": [
    {
     "data": {
      "text/plain": [
       "((33791, 292), (3755, 292))"
      ]
     },
     "execution_count": 159,
     "metadata": {},
     "output_type": "execute_result"
    }
   ],
   "source": [
    "tfidf_X_train.shape, tfidf_X_test.shape"
   ]
  },
  {
   "cell_type": "code",
   "execution_count": 160,
   "metadata": {},
   "outputs": [
    {
     "data": {
      "text/html": [
       "<style>#sk-container-id-14 {color: black;background-color: white;}#sk-container-id-14 pre{padding: 0;}#sk-container-id-14 div.sk-toggleable {background-color: white;}#sk-container-id-14 label.sk-toggleable__label {cursor: pointer;display: block;width: 100%;margin-bottom: 0;padding: 0.3em;box-sizing: border-box;text-align: center;}#sk-container-id-14 label.sk-toggleable__label-arrow:before {content: \"▸\";float: left;margin-right: 0.25em;color: #696969;}#sk-container-id-14 label.sk-toggleable__label-arrow:hover:before {color: black;}#sk-container-id-14 div.sk-estimator:hover label.sk-toggleable__label-arrow:before {color: black;}#sk-container-id-14 div.sk-toggleable__content {max-height: 0;max-width: 0;overflow: hidden;text-align: left;background-color: #f0f8ff;}#sk-container-id-14 div.sk-toggleable__content pre {margin: 0.2em;color: black;border-radius: 0.25em;background-color: #f0f8ff;}#sk-container-id-14 input.sk-toggleable__control:checked~div.sk-toggleable__content {max-height: 200px;max-width: 100%;overflow: auto;}#sk-container-id-14 input.sk-toggleable__control:checked~label.sk-toggleable__label-arrow:before {content: \"▾\";}#sk-container-id-14 div.sk-estimator input.sk-toggleable__control:checked~label.sk-toggleable__label {background-color: #d4ebff;}#sk-container-id-14 div.sk-label input.sk-toggleable__control:checked~label.sk-toggleable__label {background-color: #d4ebff;}#sk-container-id-14 input.sk-hidden--visually {border: 0;clip: rect(1px 1px 1px 1px);clip: rect(1px, 1px, 1px, 1px);height: 1px;margin: -1px;overflow: hidden;padding: 0;position: absolute;width: 1px;}#sk-container-id-14 div.sk-estimator {font-family: monospace;background-color: #f0f8ff;border: 1px dotted black;border-radius: 0.25em;box-sizing: border-box;margin-bottom: 0.5em;}#sk-container-id-14 div.sk-estimator:hover {background-color: #d4ebff;}#sk-container-id-14 div.sk-parallel-item::after {content: \"\";width: 100%;border-bottom: 1px solid gray;flex-grow: 1;}#sk-container-id-14 div.sk-label:hover label.sk-toggleable__label {background-color: #d4ebff;}#sk-container-id-14 div.sk-serial::before {content: \"\";position: absolute;border-left: 1px solid gray;box-sizing: border-box;top: 0;bottom: 0;left: 50%;z-index: 0;}#sk-container-id-14 div.sk-serial {display: flex;flex-direction: column;align-items: center;background-color: white;padding-right: 0.2em;padding-left: 0.2em;position: relative;}#sk-container-id-14 div.sk-item {position: relative;z-index: 1;}#sk-container-id-14 div.sk-parallel {display: flex;align-items: stretch;justify-content: center;background-color: white;position: relative;}#sk-container-id-14 div.sk-item::before, #sk-container-id-14 div.sk-parallel-item::before {content: \"\";position: absolute;border-left: 1px solid gray;box-sizing: border-box;top: 0;bottom: 0;left: 50%;z-index: -1;}#sk-container-id-14 div.sk-parallel-item {display: flex;flex-direction: column;z-index: 1;position: relative;background-color: white;}#sk-container-id-14 div.sk-parallel-item:first-child::after {align-self: flex-end;width: 50%;}#sk-container-id-14 div.sk-parallel-item:last-child::after {align-self: flex-start;width: 50%;}#sk-container-id-14 div.sk-parallel-item:only-child::after {width: 0;}#sk-container-id-14 div.sk-dashed-wrapped {border: 1px dashed gray;margin: 0 0.4em 0.5em 0.4em;box-sizing: border-box;padding-bottom: 0.4em;background-color: white;}#sk-container-id-14 div.sk-label label {font-family: monospace;font-weight: bold;display: inline-block;line-height: 1.2em;}#sk-container-id-14 div.sk-label-container {text-align: center;}#sk-container-id-14 div.sk-container {/* jupyter's `normalize.less` sets `[hidden] { display: none; }` but bootstrap.min.css set `[hidden] { display: none !important; }` so we also need the `!important` here to be able to override the default hidden behavior on the sphinx rendered scikit-learn.org. See: https://github.com/scikit-learn/scikit-learn/issues/21755 */display: inline-block !important;position: relative;}#sk-container-id-14 div.sk-text-repr-fallback {display: none;}</style><div id=\"sk-container-id-14\" class=\"sk-top-container\"><div class=\"sk-text-repr-fallback\"><pre>LogisticRegression(max_iter=1000)</pre><b>In a Jupyter environment, please rerun this cell to show the HTML representation or trust the notebook. <br />On GitHub, the HTML representation is unable to render, please try loading this page with nbviewer.org.</b></div><div class=\"sk-container\" hidden><div class=\"sk-item\"><div class=\"sk-estimator sk-toggleable\"><input class=\"sk-toggleable__control sk-hidden--visually\" id=\"sk-estimator-id-14\" type=\"checkbox\" checked><label for=\"sk-estimator-id-14\" class=\"sk-toggleable__label sk-toggleable__label-arrow\">LogisticRegression</label><div class=\"sk-toggleable__content\"><pre>LogisticRegression(max_iter=1000)</pre></div></div></div></div></div>"
      ],
      "text/plain": [
       "LogisticRegression(max_iter=1000)"
      ]
     },
     "execution_count": 160,
     "metadata": {},
     "output_type": "execute_result"
    }
   ],
   "source": [
    "# initiate the model\n",
    "lr_classifier_11 = LogisticRegression(max_iter=1000)\n",
    "# fit the model\n",
    "lr_classifier_11.fit(tfidf_X_train, y_train)"
   ]
  },
  {
   "cell_type": "code",
   "execution_count": 161,
   "metadata": {},
   "outputs": [],
   "source": [
    "train_accuracy = np.mean(cross_val_score(lr_classifier_11, tfidf_X_train, y_train, cv=5))"
   ]
  },
  {
   "cell_type": "code",
   "execution_count": 162,
   "metadata": {},
   "outputs": [],
   "source": [
    "y_test_pred = lr_classifier_11.predict(tfidf_X_test)\n",
    "test_accuracy = metrics.accuracy_score(y_test, y_test_pred)\n",
    "test_recall = metrics.recall_score(y_test, y_test_pred, pos_label='real_news')\n",
    "test_precision = metrics.precision_score(y_test, y_test_pred, pos_label='real_news')"
   ]
  },
  {
   "cell_type": "code",
   "execution_count": 163,
   "metadata": {},
   "outputs": [],
   "source": [
    "parameters = dict(Exp=14, Model_Name='Logistic Regression', n_Num=0,\\\n",
    "                  n_Cat=1, Nlp_Encode='TfidfVectorizer()', n_Vector=tfidf_X_train.shape[1], Test_P=0.1, Scale='No',\\\n",
    "                  Cross_Val='Yes', CV=5,\tTrain_Accuracy=round(train_accuracy,3), Val_Accuracy=round(test_accuracy,3),\\\n",
    "                  Val_Recall=round(test_recall,3), Val_Precision=round(test_precision,3), Del_HCoff='Yes')\n",
    "\n",
    "\n",
    "hyperparameter_table[-1].update(parameters)\n",
    "hyperparameter_table[-1].update(cv_kwargs)"
   ]
  },
  {
   "cell_type": "code",
   "execution_count": 164,
   "metadata": {},
   "outputs": [],
   "source": [
    "coef = pd.Series(lr_classifier_11.coef_[0], index=tfidf_vectorizer_2.get_feature_names_out())"
   ]
  },
  {
   "cell_type": "code",
   "execution_count": 165,
   "metadata": {},
   "outputs": [
    {
     "data": {
      "text/plain": [
       "tuesday       5.444206\n",
       "thursday      5.458967\n",
       "minister      5.712490\n",
       "wednesday     5.760935\n",
       "said         15.379842\n",
       "dtype: float64"
      ]
     },
     "execution_count": 165,
     "metadata": {},
     "output_type": "execute_result"
    }
   ],
   "source": [
    "coef.sort_values().tail()"
   ]
  },
  {
   "cell_type": "code",
   "execution_count": 166,
   "metadata": {},
   "outputs": [
    {
     "data": {
      "text/plain": [
       "this      -7.756611\n",
       "just      -6.273496\n",
       "didn      -5.959717\n",
       "us        -5.846418\n",
       "hillary   -4.779861\n",
       "dtype: float64"
      ]
     },
     "execution_count": 166,
     "metadata": {},
     "output_type": "execute_result"
    }
   ],
   "source": [
    "coef.sort_values().head()"
   ]
  },
  {
   "cell_type": "markdown",
   "metadata": {},
   "source": [
    "## 3.2.15 Method_2 Exp_15 Logistic Regression with TfidfVectorizer"
   ]
  },
  {
   "cell_type": "code",
   "execution_count": 167,
   "metadata": {},
   "outputs": [],
   "source": [
    "# create empty dict at start of every experiment. \n",
    "hyperparameters = {}\n",
    "hyperparameter_table.append(hyperparameters)"
   ]
  },
  {
   "cell_type": "code",
   "execution_count": 168,
   "metadata": {},
   "outputs": [],
   "source": [
    "# assign X and y\n",
    "X = news.text\n",
    "y = news.label"
   ]
  },
  {
   "cell_type": "code",
   "execution_count": 169,
   "metadata": {},
   "outputs": [],
   "source": [
    "# Create training and test sets\n",
    "X_train, X_test, y_train, y_test = train_test_split(X, y, test_size=0.1, random_state=42, stratify=y)\n",
    "\n",
    "# Initialize a TfidfVectorizer object: tfidf_vectorizer\n",
    "cv_kwargs = dict(ngram_range=(1,1), min_df=0.1)\n",
    "tfidf_vectorizer_3 = TfidfVectorizer(**cv_kwargs)"
   ]
  },
  {
   "cell_type": "code",
   "execution_count": 170,
   "metadata": {},
   "outputs": [],
   "source": [
    "# Transform the training data using only the 'text' column values: tfidf_train \n",
    "tfidf_X_train = tfidf_vectorizer_3.fit_transform(X_train)\n",
    "\n",
    "# Transform the test data using only the 'text' column values: tfidf_test \n",
    "tfidf_X_test = tfidf_vectorizer_3.transform(X_test)"
   ]
  },
  {
   "cell_type": "code",
   "execution_count": 171,
   "metadata": {},
   "outputs": [
    {
     "data": {
      "text/plain": [
       "((33791, 300), (3755, 300))"
      ]
     },
     "execution_count": 171,
     "metadata": {},
     "output_type": "execute_result"
    }
   ],
   "source": [
    "tfidf_X_train.shape, tfidf_X_test.shape"
   ]
  },
  {
   "cell_type": "code",
   "execution_count": 172,
   "metadata": {},
   "outputs": [
    {
     "data": {
      "text/html": [
       "<style>#sk-container-id-15 {color: black;background-color: white;}#sk-container-id-15 pre{padding: 0;}#sk-container-id-15 div.sk-toggleable {background-color: white;}#sk-container-id-15 label.sk-toggleable__label {cursor: pointer;display: block;width: 100%;margin-bottom: 0;padding: 0.3em;box-sizing: border-box;text-align: center;}#sk-container-id-15 label.sk-toggleable__label-arrow:before {content: \"▸\";float: left;margin-right: 0.25em;color: #696969;}#sk-container-id-15 label.sk-toggleable__label-arrow:hover:before {color: black;}#sk-container-id-15 div.sk-estimator:hover label.sk-toggleable__label-arrow:before {color: black;}#sk-container-id-15 div.sk-toggleable__content {max-height: 0;max-width: 0;overflow: hidden;text-align: left;background-color: #f0f8ff;}#sk-container-id-15 div.sk-toggleable__content pre {margin: 0.2em;color: black;border-radius: 0.25em;background-color: #f0f8ff;}#sk-container-id-15 input.sk-toggleable__control:checked~div.sk-toggleable__content {max-height: 200px;max-width: 100%;overflow: auto;}#sk-container-id-15 input.sk-toggleable__control:checked~label.sk-toggleable__label-arrow:before {content: \"▾\";}#sk-container-id-15 div.sk-estimator input.sk-toggleable__control:checked~label.sk-toggleable__label {background-color: #d4ebff;}#sk-container-id-15 div.sk-label input.sk-toggleable__control:checked~label.sk-toggleable__label {background-color: #d4ebff;}#sk-container-id-15 input.sk-hidden--visually {border: 0;clip: rect(1px 1px 1px 1px);clip: rect(1px, 1px, 1px, 1px);height: 1px;margin: -1px;overflow: hidden;padding: 0;position: absolute;width: 1px;}#sk-container-id-15 div.sk-estimator {font-family: monospace;background-color: #f0f8ff;border: 1px dotted black;border-radius: 0.25em;box-sizing: border-box;margin-bottom: 0.5em;}#sk-container-id-15 div.sk-estimator:hover {background-color: #d4ebff;}#sk-container-id-15 div.sk-parallel-item::after {content: \"\";width: 100%;border-bottom: 1px solid gray;flex-grow: 1;}#sk-container-id-15 div.sk-label:hover label.sk-toggleable__label {background-color: #d4ebff;}#sk-container-id-15 div.sk-serial::before {content: \"\";position: absolute;border-left: 1px solid gray;box-sizing: border-box;top: 0;bottom: 0;left: 50%;z-index: 0;}#sk-container-id-15 div.sk-serial {display: flex;flex-direction: column;align-items: center;background-color: white;padding-right: 0.2em;padding-left: 0.2em;position: relative;}#sk-container-id-15 div.sk-item {position: relative;z-index: 1;}#sk-container-id-15 div.sk-parallel {display: flex;align-items: stretch;justify-content: center;background-color: white;position: relative;}#sk-container-id-15 div.sk-item::before, #sk-container-id-15 div.sk-parallel-item::before {content: \"\";position: absolute;border-left: 1px solid gray;box-sizing: border-box;top: 0;bottom: 0;left: 50%;z-index: -1;}#sk-container-id-15 div.sk-parallel-item {display: flex;flex-direction: column;z-index: 1;position: relative;background-color: white;}#sk-container-id-15 div.sk-parallel-item:first-child::after {align-self: flex-end;width: 50%;}#sk-container-id-15 div.sk-parallel-item:last-child::after {align-self: flex-start;width: 50%;}#sk-container-id-15 div.sk-parallel-item:only-child::after {width: 0;}#sk-container-id-15 div.sk-dashed-wrapped {border: 1px dashed gray;margin: 0 0.4em 0.5em 0.4em;box-sizing: border-box;padding-bottom: 0.4em;background-color: white;}#sk-container-id-15 div.sk-label label {font-family: monospace;font-weight: bold;display: inline-block;line-height: 1.2em;}#sk-container-id-15 div.sk-label-container {text-align: center;}#sk-container-id-15 div.sk-container {/* jupyter's `normalize.less` sets `[hidden] { display: none; }` but bootstrap.min.css set `[hidden] { display: none !important; }` so we also need the `!important` here to be able to override the default hidden behavior on the sphinx rendered scikit-learn.org. See: https://github.com/scikit-learn/scikit-learn/issues/21755 */display: inline-block !important;position: relative;}#sk-container-id-15 div.sk-text-repr-fallback {display: none;}</style><div id=\"sk-container-id-15\" class=\"sk-top-container\"><div class=\"sk-text-repr-fallback\"><pre>LogisticRegression(max_iter=1000)</pre><b>In a Jupyter environment, please rerun this cell to show the HTML representation or trust the notebook. <br />On GitHub, the HTML representation is unable to render, please try loading this page with nbviewer.org.</b></div><div class=\"sk-container\" hidden><div class=\"sk-item\"><div class=\"sk-estimator sk-toggleable\"><input class=\"sk-toggleable__control sk-hidden--visually\" id=\"sk-estimator-id-15\" type=\"checkbox\" checked><label for=\"sk-estimator-id-15\" class=\"sk-toggleable__label sk-toggleable__label-arrow\">LogisticRegression</label><div class=\"sk-toggleable__content\"><pre>LogisticRegression(max_iter=1000)</pre></div></div></div></div></div>"
      ],
      "text/plain": [
       "LogisticRegression(max_iter=1000)"
      ]
     },
     "execution_count": 172,
     "metadata": {},
     "output_type": "execute_result"
    }
   ],
   "source": [
    "# initiate the model\n",
    "lr_classifier_12 = LogisticRegression(max_iter=1000)\n",
    "# fit the model\n",
    "lr_classifier_12.fit(tfidf_X_train, y_train)"
   ]
  },
  {
   "cell_type": "code",
   "execution_count": 173,
   "metadata": {},
   "outputs": [],
   "source": [
    "train_accuracy = np.mean(cross_val_score(lr_classifier_12, tfidf_X_train, y_train, cv=5))"
   ]
  },
  {
   "cell_type": "code",
   "execution_count": 174,
   "metadata": {},
   "outputs": [],
   "source": [
    "y_test_pred = lr_classifier_12.predict(tfidf_X_test)\n",
    "test_accuracy = metrics.accuracy_score(y_test, y_test_pred)\n",
    "test_recall = metrics.recall_score(y_test, y_test_pred, pos_label='real_news')\n",
    "test_precision = metrics.precision_score(y_test, y_test_pred, pos_label='real_news')"
   ]
  },
  {
   "cell_type": "code",
   "execution_count": 175,
   "metadata": {},
   "outputs": [],
   "source": [
    "parameters = dict(Exp=15, Model_Name='Logistic Regression', n_Num=0,\\\n",
    "                  n_Cat=1, Nlp_Encode='TfidfVectorizer()', n_Vector=tfidf_X_train.shape[1], Test_P=0.1, Scale='No',\\\n",
    "                  Cross_Val='Yes', CV=5,\tTrain_Accuracy=round(train_accuracy,3), Val_Accuracy=round(test_accuracy,3),\\\n",
    "                  Val_Recall=round(test_recall,3), Val_Precision=round(test_precision,3), Del_HCoff='Yes')\n",
    "\n",
    "\n",
    "hyperparameter_table[-1].update(parameters)\n",
    "hyperparameter_table[-1].update(cv_kwargs)"
   ]
  },
  {
   "cell_type": "code",
   "execution_count": 176,
   "metadata": {},
   "outputs": [],
   "source": [
    "coef = pd.Series(lr_classifier_12.coef_[0], index=tfidf_vectorizer_3.get_feature_names_out())"
   ]
  },
  {
   "cell_type": "code",
   "execution_count": 177,
   "metadata": {},
   "outputs": [
    {
     "data": {
      "text/plain": [
       "told          5.006297\n",
       "wednesday     5.040490\n",
       "minister      6.171916\n",
       "on            8.734967\n",
       "said         18.015219\n",
       "dtype: float64"
      ]
     },
     "execution_count": 177,
     "metadata": {},
     "output_type": "execute_result"
    }
   ],
   "source": [
    "coef.sort_values().tail()"
   ]
  },
  {
   "cell_type": "code",
   "execution_count": 178,
   "metadata": {},
   "outputs": [
    {
     "data": {
      "text/plain": [
       "this   -8.873766\n",
       "us     -6.680424\n",
       "just   -6.499990\n",
       "that   -5.779278\n",
       "didn   -5.175267\n",
       "dtype: float64"
      ]
     },
     "execution_count": 178,
     "metadata": {},
     "output_type": "execute_result"
    }
   ],
   "source": [
    "coef.sort_values().head()"
   ]
  },
  {
   "cell_type": "markdown",
   "metadata": {},
   "source": [
    "## 3.2.16 Method_2 Exp_16 Logistic Regression with TfidfVectorizer"
   ]
  },
  {
   "cell_type": "code",
   "execution_count": 179,
   "metadata": {},
   "outputs": [],
   "source": [
    "# create empty dict at start of every experiment. \n",
    "hyperparameters = {}\n",
    "hyperparameter_table.append(hyperparameters)"
   ]
  },
  {
   "cell_type": "code",
   "execution_count": 180,
   "metadata": {},
   "outputs": [],
   "source": [
    "# assign X and y\n",
    "X = news.text\n",
    "y = news.label"
   ]
  },
  {
   "cell_type": "code",
   "execution_count": 181,
   "metadata": {},
   "outputs": [],
   "source": [
    "# Create training and test sets\n",
    "X_train, X_test, y_train, y_test = train_test_split(X, y, test_size=0.1, random_state=42, stratify=y)\n",
    "\n",
    "# Initialize a TfidfVectorizer object: tfidf_vectorizer\n",
    "cv_kwargs = dict(ngram_range=(1,1), max_df=0.8)\n",
    "tfidf_vectorizer_4 = TfidfVectorizer(**cv_kwargs)"
   ]
  },
  {
   "cell_type": "code",
   "execution_count": 182,
   "metadata": {},
   "outputs": [],
   "source": [
    "# Transform the training data using only the 'text' column values: tfidf_train \n",
    "tfidf_X_train = tfidf_vectorizer_4.fit_transform(X_train)\n",
    "\n",
    "# Transform the test data using only the 'text' column values: tfidf_test \n",
    "tfidf_X_test = tfidf_vectorizer_4.transform(X_test)"
   ]
  },
  {
   "cell_type": "code",
   "execution_count": 183,
   "metadata": {},
   "outputs": [
    {
     "data": {
      "text/plain": [
       "((33791, 109537), (3755, 109537))"
      ]
     },
     "execution_count": 183,
     "metadata": {},
     "output_type": "execute_result"
    }
   ],
   "source": [
    "tfidf_X_train.shape, tfidf_X_test.shape"
   ]
  },
  {
   "cell_type": "code",
   "execution_count": 184,
   "metadata": {},
   "outputs": [
    {
     "data": {
      "text/html": [
       "<style>#sk-container-id-16 {color: black;background-color: white;}#sk-container-id-16 pre{padding: 0;}#sk-container-id-16 div.sk-toggleable {background-color: white;}#sk-container-id-16 label.sk-toggleable__label {cursor: pointer;display: block;width: 100%;margin-bottom: 0;padding: 0.3em;box-sizing: border-box;text-align: center;}#sk-container-id-16 label.sk-toggleable__label-arrow:before {content: \"▸\";float: left;margin-right: 0.25em;color: #696969;}#sk-container-id-16 label.sk-toggleable__label-arrow:hover:before {color: black;}#sk-container-id-16 div.sk-estimator:hover label.sk-toggleable__label-arrow:before {color: black;}#sk-container-id-16 div.sk-toggleable__content {max-height: 0;max-width: 0;overflow: hidden;text-align: left;background-color: #f0f8ff;}#sk-container-id-16 div.sk-toggleable__content pre {margin: 0.2em;color: black;border-radius: 0.25em;background-color: #f0f8ff;}#sk-container-id-16 input.sk-toggleable__control:checked~div.sk-toggleable__content {max-height: 200px;max-width: 100%;overflow: auto;}#sk-container-id-16 input.sk-toggleable__control:checked~label.sk-toggleable__label-arrow:before {content: \"▾\";}#sk-container-id-16 div.sk-estimator input.sk-toggleable__control:checked~label.sk-toggleable__label {background-color: #d4ebff;}#sk-container-id-16 div.sk-label input.sk-toggleable__control:checked~label.sk-toggleable__label {background-color: #d4ebff;}#sk-container-id-16 input.sk-hidden--visually {border: 0;clip: rect(1px 1px 1px 1px);clip: rect(1px, 1px, 1px, 1px);height: 1px;margin: -1px;overflow: hidden;padding: 0;position: absolute;width: 1px;}#sk-container-id-16 div.sk-estimator {font-family: monospace;background-color: #f0f8ff;border: 1px dotted black;border-radius: 0.25em;box-sizing: border-box;margin-bottom: 0.5em;}#sk-container-id-16 div.sk-estimator:hover {background-color: #d4ebff;}#sk-container-id-16 div.sk-parallel-item::after {content: \"\";width: 100%;border-bottom: 1px solid gray;flex-grow: 1;}#sk-container-id-16 div.sk-label:hover label.sk-toggleable__label {background-color: #d4ebff;}#sk-container-id-16 div.sk-serial::before {content: \"\";position: absolute;border-left: 1px solid gray;box-sizing: border-box;top: 0;bottom: 0;left: 50%;z-index: 0;}#sk-container-id-16 div.sk-serial {display: flex;flex-direction: column;align-items: center;background-color: white;padding-right: 0.2em;padding-left: 0.2em;position: relative;}#sk-container-id-16 div.sk-item {position: relative;z-index: 1;}#sk-container-id-16 div.sk-parallel {display: flex;align-items: stretch;justify-content: center;background-color: white;position: relative;}#sk-container-id-16 div.sk-item::before, #sk-container-id-16 div.sk-parallel-item::before {content: \"\";position: absolute;border-left: 1px solid gray;box-sizing: border-box;top: 0;bottom: 0;left: 50%;z-index: -1;}#sk-container-id-16 div.sk-parallel-item {display: flex;flex-direction: column;z-index: 1;position: relative;background-color: white;}#sk-container-id-16 div.sk-parallel-item:first-child::after {align-self: flex-end;width: 50%;}#sk-container-id-16 div.sk-parallel-item:last-child::after {align-self: flex-start;width: 50%;}#sk-container-id-16 div.sk-parallel-item:only-child::after {width: 0;}#sk-container-id-16 div.sk-dashed-wrapped {border: 1px dashed gray;margin: 0 0.4em 0.5em 0.4em;box-sizing: border-box;padding-bottom: 0.4em;background-color: white;}#sk-container-id-16 div.sk-label label {font-family: monospace;font-weight: bold;display: inline-block;line-height: 1.2em;}#sk-container-id-16 div.sk-label-container {text-align: center;}#sk-container-id-16 div.sk-container {/* jupyter's `normalize.less` sets `[hidden] { display: none; }` but bootstrap.min.css set `[hidden] { display: none !important; }` so we also need the `!important` here to be able to override the default hidden behavior on the sphinx rendered scikit-learn.org. See: https://github.com/scikit-learn/scikit-learn/issues/21755 */display: inline-block !important;position: relative;}#sk-container-id-16 div.sk-text-repr-fallback {display: none;}</style><div id=\"sk-container-id-16\" class=\"sk-top-container\"><div class=\"sk-text-repr-fallback\"><pre>LogisticRegression(max_iter=1000)</pre><b>In a Jupyter environment, please rerun this cell to show the HTML representation or trust the notebook. <br />On GitHub, the HTML representation is unable to render, please try loading this page with nbviewer.org.</b></div><div class=\"sk-container\" hidden><div class=\"sk-item\"><div class=\"sk-estimator sk-toggleable\"><input class=\"sk-toggleable__control sk-hidden--visually\" id=\"sk-estimator-id-16\" type=\"checkbox\" checked><label for=\"sk-estimator-id-16\" class=\"sk-toggleable__label sk-toggleable__label-arrow\">LogisticRegression</label><div class=\"sk-toggleable__content\"><pre>LogisticRegression(max_iter=1000)</pre></div></div></div></div></div>"
      ],
      "text/plain": [
       "LogisticRegression(max_iter=1000)"
      ]
     },
     "execution_count": 184,
     "metadata": {},
     "output_type": "execute_result"
    }
   ],
   "source": [
    "# initiate the model\n",
    "lr_classifier_13 = LogisticRegression(max_iter=1000)\n",
    "# fit the model\n",
    "lr_classifier_13.fit(tfidf_X_train, y_train)"
   ]
  },
  {
   "cell_type": "code",
   "execution_count": 185,
   "metadata": {},
   "outputs": [],
   "source": [
    "train_accuracy = np.mean(cross_val_score(lr_classifier_13, tfidf_X_train, y_train, cv=5))"
   ]
  },
  {
   "cell_type": "code",
   "execution_count": 186,
   "metadata": {},
   "outputs": [],
   "source": [
    "y_test_pred = lr_classifier_13.predict(tfidf_X_test)\n",
    "test_accuracy = metrics.accuracy_score(y_test, y_test_pred)\n",
    "test_recall = metrics.recall_score(y_test, y_test_pred, pos_label='real_news')\n",
    "test_precision = metrics.precision_score(y_test, y_test_pred, pos_label='real_news')"
   ]
  },
  {
   "cell_type": "code",
   "execution_count": 187,
   "metadata": {},
   "outputs": [],
   "source": [
    "parameters = dict(Exp=16, Model_Name='Logistic Regression', n_Num=0,\\\n",
    "                  n_Cat=1, Nlp_Encode='TfidfVectorizer()', n_Vector=tfidf_X_train.shape[1], Test_P=0.1, Scale='No',\\\n",
    "                  Cross_Val='Yes', CV=5,\tTrain_Accuracy=round(train_accuracy,3), Val_Accuracy=round(test_accuracy,3),\\\n",
    "                  Val_Recall=round(test_recall,3), Val_Precision=round(test_precision,3), Del_HCoff='Yes')\n",
    "\n",
    "\n",
    "hyperparameter_table[-1].update(parameters)\n",
    "hyperparameter_table[-1].update(cv_kwargs)"
   ]
  },
  {
   "cell_type": "code",
   "execution_count": 188,
   "metadata": {},
   "outputs": [],
   "source": [
    "coef = pd.Series(lr_classifier_13.coef_[0], index=tfidf_vectorizer_4.get_feature_names_out())"
   ]
  },
  {
   "cell_type": "code",
   "execution_count": 189,
   "metadata": {},
   "outputs": [
    {
     "data": {
      "text/plain": [
       "friday        6.053602\n",
       "thursday      6.261745\n",
       "tuesday       6.545054\n",
       "wednesday     6.814963\n",
       "said         21.672725\n",
       "dtype: float64"
      ]
     },
     "execution_count": 189,
     "metadata": {},
     "output_type": "execute_result"
    }
   ],
   "source": [
    "coef.sort_values().tail()"
   ]
  },
  {
   "cell_type": "code",
   "execution_count": 190,
   "metadata": {
    "scrolled": true
   },
   "outputs": [
    {
     "data": {
      "text/plain": [
       "this   -7.642108\n",
       "us     -6.883048\n",
       "is     -6.239207\n",
       "just   -6.064525\n",
       "gop    -5.774752\n",
       "dtype: float64"
      ]
     },
     "execution_count": 190,
     "metadata": {},
     "output_type": "execute_result"
    }
   ],
   "source": [
    "coef.sort_values().head()"
   ]
  },
  {
   "cell_type": "markdown",
   "metadata": {},
   "source": [
    "## 3.2.17 Method_2 Exp_17 Logistic Regression with TfidfVectorizer"
   ]
  },
  {
   "cell_type": "code",
   "execution_count": 191,
   "metadata": {},
   "outputs": [],
   "source": [
    "# create empty dict at start of every experiment. \n",
    "hyperparameters = {}\n",
    "hyperparameter_table.append(hyperparameters)"
   ]
  },
  {
   "cell_type": "code",
   "execution_count": 192,
   "metadata": {},
   "outputs": [],
   "source": [
    "# assign X and y\n",
    "X = news.text\n",
    "y = news.label"
   ]
  },
  {
   "cell_type": "code",
   "execution_count": 193,
   "metadata": {},
   "outputs": [],
   "source": [
    "# Create training and test sets\n",
    "X_train, X_test, y_train, y_test = train_test_split(X, y, test_size=0.1, random_state=42, stratify=y)\n",
    "\n",
    "# Initialize a TfidfVectorizer object: tfidf_vectorizer\n",
    "cv_kwargs = dict(ngram_range=(1,1))\n",
    "tfidf_vectorizer_5 = TfidfVectorizer(**cv_kwargs)"
   ]
  },
  {
   "cell_type": "code",
   "execution_count": 194,
   "metadata": {},
   "outputs": [],
   "source": [
    "# Transform the training data using only the 'text' column values: tfidf_train \n",
    "tfidf_X_train = tfidf_vectorizer_5.fit_transform(X_train)\n",
    "\n",
    "# Transform the test data using only the 'text' column values: tfidf_test \n",
    "tfidf_X_test = tfidf_vectorizer_5.transform(X_test)"
   ]
  },
  {
   "cell_type": "code",
   "execution_count": 195,
   "metadata": {},
   "outputs": [
    {
     "data": {
      "text/plain": [
       "((33791, 109545), (3755, 109545))"
      ]
     },
     "execution_count": 195,
     "metadata": {},
     "output_type": "execute_result"
    }
   ],
   "source": [
    "tfidf_X_train.shape, tfidf_X_test.shape"
   ]
  },
  {
   "cell_type": "code",
   "execution_count": 196,
   "metadata": {},
   "outputs": [
    {
     "data": {
      "text/html": [
       "<style>#sk-container-id-17 {color: black;background-color: white;}#sk-container-id-17 pre{padding: 0;}#sk-container-id-17 div.sk-toggleable {background-color: white;}#sk-container-id-17 label.sk-toggleable__label {cursor: pointer;display: block;width: 100%;margin-bottom: 0;padding: 0.3em;box-sizing: border-box;text-align: center;}#sk-container-id-17 label.sk-toggleable__label-arrow:before {content: \"▸\";float: left;margin-right: 0.25em;color: #696969;}#sk-container-id-17 label.sk-toggleable__label-arrow:hover:before {color: black;}#sk-container-id-17 div.sk-estimator:hover label.sk-toggleable__label-arrow:before {color: black;}#sk-container-id-17 div.sk-toggleable__content {max-height: 0;max-width: 0;overflow: hidden;text-align: left;background-color: #f0f8ff;}#sk-container-id-17 div.sk-toggleable__content pre {margin: 0.2em;color: black;border-radius: 0.25em;background-color: #f0f8ff;}#sk-container-id-17 input.sk-toggleable__control:checked~div.sk-toggleable__content {max-height: 200px;max-width: 100%;overflow: auto;}#sk-container-id-17 input.sk-toggleable__control:checked~label.sk-toggleable__label-arrow:before {content: \"▾\";}#sk-container-id-17 div.sk-estimator input.sk-toggleable__control:checked~label.sk-toggleable__label {background-color: #d4ebff;}#sk-container-id-17 div.sk-label input.sk-toggleable__control:checked~label.sk-toggleable__label {background-color: #d4ebff;}#sk-container-id-17 input.sk-hidden--visually {border: 0;clip: rect(1px 1px 1px 1px);clip: rect(1px, 1px, 1px, 1px);height: 1px;margin: -1px;overflow: hidden;padding: 0;position: absolute;width: 1px;}#sk-container-id-17 div.sk-estimator {font-family: monospace;background-color: #f0f8ff;border: 1px dotted black;border-radius: 0.25em;box-sizing: border-box;margin-bottom: 0.5em;}#sk-container-id-17 div.sk-estimator:hover {background-color: #d4ebff;}#sk-container-id-17 div.sk-parallel-item::after {content: \"\";width: 100%;border-bottom: 1px solid gray;flex-grow: 1;}#sk-container-id-17 div.sk-label:hover label.sk-toggleable__label {background-color: #d4ebff;}#sk-container-id-17 div.sk-serial::before {content: \"\";position: absolute;border-left: 1px solid gray;box-sizing: border-box;top: 0;bottom: 0;left: 50%;z-index: 0;}#sk-container-id-17 div.sk-serial {display: flex;flex-direction: column;align-items: center;background-color: white;padding-right: 0.2em;padding-left: 0.2em;position: relative;}#sk-container-id-17 div.sk-item {position: relative;z-index: 1;}#sk-container-id-17 div.sk-parallel {display: flex;align-items: stretch;justify-content: center;background-color: white;position: relative;}#sk-container-id-17 div.sk-item::before, #sk-container-id-17 div.sk-parallel-item::before {content: \"\";position: absolute;border-left: 1px solid gray;box-sizing: border-box;top: 0;bottom: 0;left: 50%;z-index: -1;}#sk-container-id-17 div.sk-parallel-item {display: flex;flex-direction: column;z-index: 1;position: relative;background-color: white;}#sk-container-id-17 div.sk-parallel-item:first-child::after {align-self: flex-end;width: 50%;}#sk-container-id-17 div.sk-parallel-item:last-child::after {align-self: flex-start;width: 50%;}#sk-container-id-17 div.sk-parallel-item:only-child::after {width: 0;}#sk-container-id-17 div.sk-dashed-wrapped {border: 1px dashed gray;margin: 0 0.4em 0.5em 0.4em;box-sizing: border-box;padding-bottom: 0.4em;background-color: white;}#sk-container-id-17 div.sk-label label {font-family: monospace;font-weight: bold;display: inline-block;line-height: 1.2em;}#sk-container-id-17 div.sk-label-container {text-align: center;}#sk-container-id-17 div.sk-container {/* jupyter's `normalize.less` sets `[hidden] { display: none; }` but bootstrap.min.css set `[hidden] { display: none !important; }` so we also need the `!important` here to be able to override the default hidden behavior on the sphinx rendered scikit-learn.org. See: https://github.com/scikit-learn/scikit-learn/issues/21755 */display: inline-block !important;position: relative;}#sk-container-id-17 div.sk-text-repr-fallback {display: none;}</style><div id=\"sk-container-id-17\" class=\"sk-top-container\"><div class=\"sk-text-repr-fallback\"><pre>LogisticRegression(max_iter=1000)</pre><b>In a Jupyter environment, please rerun this cell to show the HTML representation or trust the notebook. <br />On GitHub, the HTML representation is unable to render, please try loading this page with nbviewer.org.</b></div><div class=\"sk-container\" hidden><div class=\"sk-item\"><div class=\"sk-estimator sk-toggleable\"><input class=\"sk-toggleable__control sk-hidden--visually\" id=\"sk-estimator-id-17\" type=\"checkbox\" checked><label for=\"sk-estimator-id-17\" class=\"sk-toggleable__label sk-toggleable__label-arrow\">LogisticRegression</label><div class=\"sk-toggleable__content\"><pre>LogisticRegression(max_iter=1000)</pre></div></div></div></div></div>"
      ],
      "text/plain": [
       "LogisticRegression(max_iter=1000)"
      ]
     },
     "execution_count": 196,
     "metadata": {},
     "output_type": "execute_result"
    }
   ],
   "source": [
    "# initiate the model\n",
    "lr_classifier_14 = LogisticRegression(max_iter=1000)\n",
    "# fit the model\n",
    "lr_classifier_14.fit(tfidf_X_train, y_train)"
   ]
  },
  {
   "cell_type": "code",
   "execution_count": 197,
   "metadata": {},
   "outputs": [],
   "source": [
    "train_accuracy = np.mean(cross_val_score(lr_classifier_14, tfidf_X_train, y_train, cv=5))"
   ]
  },
  {
   "cell_type": "code",
   "execution_count": 198,
   "metadata": {},
   "outputs": [],
   "source": [
    "y_test_pred = lr_classifier_14.predict(tfidf_X_test)\n",
    "test_accuracy = metrics.accuracy_score(y_test, y_test_pred)\n",
    "test_recall = metrics.recall_score(y_test, y_test_pred, pos_label='real_news')\n",
    "test_precision = metrics.precision_score(y_test, y_test_pred, pos_label='real_news')"
   ]
  },
  {
   "cell_type": "code",
   "execution_count": 199,
   "metadata": {},
   "outputs": [],
   "source": [
    "parameters = dict(Exp=17, Model_Name='Logistic Regression', n_Num=0,\\\n",
    "                  n_Cat=1, Nlp_Encode='TfidfVectorizer()', n_Vector=tfidf_X_train.shape[1], Test_P=0.1, Scale='No',\\\n",
    "                  Cross_Val='Yes', CV=5,\tTrain_Accuracy=round(train_accuracy,3), Val_Accuracy=round(test_accuracy,3),\\\n",
    "                  Val_Recall=round(test_recall,3), Val_Precision=round(test_precision,3), Del_HCoff='Yes')\n",
    "\n",
    "\n",
    "hyperparameter_table[-1].update(parameters)\n",
    "hyperparameter_table[-1].update(cv_kwargs)"
   ]
  },
  {
   "cell_type": "code",
   "execution_count": 200,
   "metadata": {},
   "outputs": [],
   "source": [
    "coef = pd.Series(lr_classifier_14.coef_[0], index=tfidf_vectorizer_5.get_feature_names_out())"
   ]
  },
  {
   "cell_type": "code",
   "execution_count": 201,
   "metadata": {},
   "outputs": [
    {
     "data": {
      "text/plain": [
       "edt           5.598618\n",
       "tuesday       5.672126\n",
       "wednesday     5.977135\n",
       "on           11.135242\n",
       "said         21.674589\n",
       "dtype: float64"
      ]
     },
     "execution_count": 201,
     "metadata": {},
     "output_type": "execute_result"
    }
   ],
   "source": [
    "coef.sort_values().tail()"
   ]
  },
  {
   "cell_type": "code",
   "execution_count": 202,
   "metadata": {},
   "outputs": [
    {
     "data": {
      "text/plain": [
       "this   -7.755125\n",
       "us     -6.843094\n",
       "that   -6.386328\n",
       "just   -5.863799\n",
       "is     -5.753593\n",
       "dtype: float64"
      ]
     },
     "execution_count": 202,
     "metadata": {},
     "output_type": "execute_result"
    }
   ],
   "source": [
    "coef.sort_values().head()"
   ]
  },
  {
   "cell_type": "markdown",
   "metadata": {},
   "source": [
    "## 3.3 Performance Test\n",
    "### 3.3.1 Data Preparation"
   ]
  },
  {
   "cell_type": "markdown",
   "metadata": {},
   "source": [
    "**Get real news from reuters, cnn and npr.**     \n",
    "**Get fake news from breitbart and thegatewaypundit.**    \n",
    "**Totally 25 news**"
   ]
  },
  {
   "cell_type": "code",
   "execution_count": 203,
   "metadata": {},
   "outputs": [
    {
     "data": {
      "text/html": [
       "<div>\n",
       "<style scoped>\n",
       "    .dataframe tbody tr th:only-of-type {\n",
       "        vertical-align: middle;\n",
       "    }\n",
       "\n",
       "    .dataframe tbody tr th {\n",
       "        vertical-align: top;\n",
       "    }\n",
       "\n",
       "    .dataframe thead th {\n",
       "        text-align: right;\n",
       "    }\n",
       "</style>\n",
       "<table border=\"1\" class=\"dataframe\">\n",
       "  <thead>\n",
       "    <tr style=\"text-align: right;\">\n",
       "      <th></th>\n",
       "      <th>title</th>\n",
       "      <th>text</th>\n",
       "      <th>label</th>\n",
       "      <th>source</th>\n",
       "      <th>url</th>\n",
       "      <th>date</th>\n",
       "    </tr>\n",
       "  </thead>\n",
       "  <tbody>\n",
       "    <tr>\n",
       "      <th>0</th>\n",
       "      <td>Exclusive: Former Biden Aide Paid Fani Willis’...</td>\n",
       "      <td>The money flow is significant because sources ...</td>\n",
       "      <td>fake_news</td>\n",
       "      <td>breitbart</td>\n",
       "      <td>https://www.breitbart.com/politics/2024/02/29/...</td>\n",
       "      <td>2024-02-29</td>\n",
       "    </tr>\n",
       "    <tr>\n",
       "      <th>1</th>\n",
       "      <td>Judges in Trump-related cases face unprecedent...</td>\n",
       "      <td>U.S.District Judge Royce Lamberth has been thr...</td>\n",
       "      <td>real_news</td>\n",
       "      <td>reuters</td>\n",
       "      <td>https://www.reuters.com/investigates/special-r...</td>\n",
       "      <td>2024-02-29</td>\n",
       "    </tr>\n",
       "    <tr>\n",
       "      <th>2</th>\n",
       "      <td>Meet the Experienced Democrat Operative the Bi...</td>\n",
       "      <td>The Biden regime’s collusion with corrupt Fult...</td>\n",
       "      <td>fake_news</td>\n",
       "      <td>thegatewaypundit</td>\n",
       "      <td>https://www.thegatewaypundit.com/2024/02/meet-...</td>\n",
       "      <td>2024-02-26</td>\n",
       "    </tr>\n",
       "    <tr>\n",
       "      <th>3</th>\n",
       "      <td>Biden pressures Trump to unblock migrant plan ...</td>\n",
       "      <td>U.S. President Joe Biden and Donald Trump, his...</td>\n",
       "      <td>real_news</td>\n",
       "      <td>reuters</td>\n",
       "      <td>https://www.reuters.com/world/us/biden-trump-m...</td>\n",
       "      <td>2024-02-29</td>\n",
       "    </tr>\n",
       "    <tr>\n",
       "      <th>4</th>\n",
       "      <td>Biden and Trump’s dueling border visits will e...</td>\n",
       "      <td>Two presidents will visit the southern US bord...</td>\n",
       "      <td>real_news</td>\n",
       "      <td>cnn</td>\n",
       "      <td>https://www.cnn.com/2024/02/29/politics/border...</td>\n",
       "      <td>2024-02-29</td>\n",
       "    </tr>\n",
       "    <tr>\n",
       "      <th>5</th>\n",
       "      <td>WOW! Biden’s Stiff Gait as He Shuffles Along D...</td>\n",
       "      <td>Joe Biden arrived in Brownsville, Texas on Thu...</td>\n",
       "      <td>fake_news</td>\n",
       "      <td>thegatewaypundit</td>\n",
       "      <td>https://www.thegatewaypundit.com/2024/02/wow-b...</td>\n",
       "      <td>2024-02-29</td>\n",
       "    </tr>\n",
       "    <tr>\n",
       "      <th>6</th>\n",
       "      <td>Biden has eight months to fix his Michigan pro...</td>\n",
       "      <td>If the Democratic voters of Michigan – and a h...</td>\n",
       "      <td>real_news</td>\n",
       "      <td>cnn</td>\n",
       "      <td>https://www.cnn.com/2024/02/28/politics/biden-...</td>\n",
       "      <td>2024-02-28</td>\n",
       "    </tr>\n",
       "    <tr>\n",
       "      <th>7</th>\n",
       "      <td>Some Democrats turn toward Trump in Texas bord...</td>\n",
       "      <td>Asalia Casares, 52, is a lifelong Democrat who...</td>\n",
       "      <td>real_news</td>\n",
       "      <td>reuters</td>\n",
       "      <td>https://www.reuters.com/world/us/some-democrat...</td>\n",
       "      <td>2024-02-29</td>\n",
       "    </tr>\n",
       "    <tr>\n",
       "      <th>8</th>\n",
       "      <td>WAYNE ROOT: “Do You Believe in Miracles?” Some...</td>\n",
       "      <td>“Do you believe in miracles?” Remember those w...</td>\n",
       "      <td>fake_news</td>\n",
       "      <td>thegatewaypundit</td>\n",
       "      <td>https://www.thegatewaypundit.com/2024/02/wayne...</td>\n",
       "      <td>2024-02-29</td>\n",
       "    </tr>\n",
       "    <tr>\n",
       "      <th>9</th>\n",
       "      <td>Trump says he cannot get fair trial this year ...</td>\n",
       "      <td>Donald Trump's lawyers told a U.S. judge on Th...</td>\n",
       "      <td>real_news</td>\n",
       "      <td>reuters</td>\n",
       "      <td>https://www.reuters.com/world/us/trump-asks-de...</td>\n",
       "      <td>2024-02-29</td>\n",
       "    </tr>\n",
       "    <tr>\n",
       "      <th>10</th>\n",
       "      <td>UN chief says Gaza killing could require indep...</td>\n",
       "      <td>United Nations Secretary-General Antonio Guter...</td>\n",
       "      <td>real_news</td>\n",
       "      <td>reuters</td>\n",
       "      <td>https://www.reuters.com/world/middle-east/un-c...</td>\n",
       "      <td>2024-03-01</td>\n",
       "    </tr>\n",
       "    <tr>\n",
       "      <th>11</th>\n",
       "      <td>Kamala Harris Called Out on Twitter/X After Pr...</td>\n",
       "      <td>Kamala Harris recently took to Twitter and hea...</td>\n",
       "      <td>fake_news</td>\n",
       "      <td>thegatewaypundit</td>\n",
       "      <td>https://www.thegatewaypundit.com/2024/02/kamal...</td>\n",
       "      <td>2024-02-29</td>\n",
       "    </tr>\n",
       "    <tr>\n",
       "      <th>12</th>\n",
       "      <td>Liberal Hollywood Celebs Are Throwing a Fit Ov...</td>\n",
       "      <td>As you probably know, the United States Suprem...</td>\n",
       "      <td>fake_news</td>\n",
       "      <td>thegatewaypundit</td>\n",
       "      <td>https://www.thegatewaypundit.com/2024/02/liber...</td>\n",
       "      <td>2024-02-29</td>\n",
       "    </tr>\n",
       "    <tr>\n",
       "      <th>13</th>\n",
       "      <td>Republican-controlled Alabama legislature pass...</td>\n",
       "      <td>Alabama's Republican-led legislature on Thursd...</td>\n",
       "      <td>real_news</td>\n",
       "      <td>reuters</td>\n",
       "      <td>https://www.reuters.com/world/us/republican-co...</td>\n",
       "      <td>2024-02-29</td>\n",
       "    </tr>\n",
       "    <tr>\n",
       "      <th>14</th>\n",
       "      <td>US Supreme Court's move to hear Trump's immuni...</td>\n",
       "      <td>The U.S. Supreme Court appears likely to rejec...</td>\n",
       "      <td>real_news</td>\n",
       "      <td>reuters</td>\n",
       "      <td>https://www.reuters.com/world/us/us-supreme-co...</td>\n",
       "      <td>2024-02-29</td>\n",
       "    </tr>\n",
       "    <tr>\n",
       "      <th>15</th>\n",
       "      <td>DeSantis Signs Bill That Authorizes Release of...</td>\n",
       "      <td>On Thursday, Florida Gov. Ron DeSantis signed ...</td>\n",
       "      <td>fake_news</td>\n",
       "      <td>thegatewaypundit</td>\n",
       "      <td>https://www.thegatewaypundit.com/2024/02/desan...</td>\n",
       "      <td>2024-02-29</td>\n",
       "    </tr>\n",
       "    <tr>\n",
       "      <th>16</th>\n",
       "      <td>Fmr. Biden Border Patrol Chief: ‘I Never Once ...</td>\n",
       "      <td>On Thursday’s broadcast of the Fox News Channe...</td>\n",
       "      <td>fake_news</td>\n",
       "      <td>breitbart</td>\n",
       "      <td>https://www.breitbart.com/clips/2024/02/29/fmr...</td>\n",
       "      <td>2024-02-29</td>\n",
       "    </tr>\n",
       "    <tr>\n",
       "      <th>17</th>\n",
       "      <td>Trump at Texas Border: ‘This is a Joe Biden In...</td>\n",
       "      <td>Former President Donald J. Trump visited the s...</td>\n",
       "      <td>fake_news</td>\n",
       "      <td>breitbart</td>\n",
       "      <td>https://www.breitbart.com/border/2024/02/29/tr...</td>\n",
       "      <td>2024-02-29</td>\n",
       "    </tr>\n",
       "    <tr>\n",
       "      <th>18</th>\n",
       "      <td>Exclusive — House Majority Whip Tom Emmer: Joe...</td>\n",
       "      <td>House Majority Whip Tom Emmer (R-MN) told Brei...</td>\n",
       "      <td>fake_news</td>\n",
       "      <td>breitbart</td>\n",
       "      <td>https://www.breitbart.com/politics/2024/02/29/...</td>\n",
       "      <td>2024-02-29</td>\n",
       "    </tr>\n",
       "    <tr>\n",
       "      <th>19</th>\n",
       "      <td>Congress passes stopgap spending bill, prevent...</td>\n",
       "      <td>The Senate voted 77 to 13 to approve a short-t...</td>\n",
       "      <td>real_news</td>\n",
       "      <td>npr</td>\n",
       "      <td>https://www.npr.org/2024/02/28/1234679367/cong...</td>\n",
       "      <td>2024-02-28</td>\n",
       "    </tr>\n",
       "    <tr>\n",
       "      <th>20</th>\n",
       "      <td>Supporters chant 'We are not afraid' as Russia...</td>\n",
       "      <td>Thousands of mourners attended the funeral of ...</td>\n",
       "      <td>real_news</td>\n",
       "      <td>npr</td>\n",
       "      <td>https://www.npr.org/2024/03/01/1235121398/krem...</td>\n",
       "      <td>2024-03-01</td>\n",
       "    </tr>\n",
       "    <tr>\n",
       "      <th>21</th>\n",
       "      <td>Nikki Haley raises $12 million in February as ...</td>\n",
       "      <td>The former South Carolina governor has yet to...</td>\n",
       "      <td>real_news</td>\n",
       "      <td>npr</td>\n",
       "      <td>https://www.npr.org/2024/03/01/1235215068/nikk...</td>\n",
       "      <td>2024-03-01</td>\n",
       "    </tr>\n",
       "    <tr>\n",
       "      <th>22</th>\n",
       "      <td>After CBS News Firing, Catherine Herridge Held...</td>\n",
       "      <td>Catherine Herridge, an Emmy-winning and nomina...</td>\n",
       "      <td>fake_news</td>\n",
       "      <td>thegatewaypundit</td>\n",
       "      <td>https://www.thegatewaypundit.com/2024/03/after...</td>\n",
       "      <td>2024-03-01</td>\n",
       "    </tr>\n",
       "    <tr>\n",
       "      <th>23</th>\n",
       "      <td>Mitch McConnell will step down as Senate minor...</td>\n",
       "      <td>Senate Minority Leader Mitch McConnell will st...</td>\n",
       "      <td>real_news</td>\n",
       "      <td>npr</td>\n",
       "      <td>https://www.npr.org/2024/02/28/1163447619/mitc...</td>\n",
       "      <td>2024-02-28</td>\n",
       "    </tr>\n",
       "    <tr>\n",
       "      <th>24</th>\n",
       "      <td>NYC Woman Nabbed After Attack on Subway Cellis...</td>\n",
       "      <td>A suspect with a criminal history was caught W...</td>\n",
       "      <td>fake_news</td>\n",
       "      <td>breitbart</td>\n",
       "      <td>https://www.breitbart.com/crime/2024/03/01/nyc...</td>\n",
       "      <td>2024-03-01</td>\n",
       "    </tr>\n",
       "  </tbody>\n",
       "</table>\n",
       "</div>"
      ],
      "text/plain": [
       "                                                title  \\\n",
       "0   Exclusive: Former Biden Aide Paid Fani Willis’...   \n",
       "1   Judges in Trump-related cases face unprecedent...   \n",
       "2   Meet the Experienced Democrat Operative the Bi...   \n",
       "3   Biden pressures Trump to unblock migrant plan ...   \n",
       "4   Biden and Trump’s dueling border visits will e...   \n",
       "5   WOW! Biden’s Stiff Gait as He Shuffles Along D...   \n",
       "6   Biden has eight months to fix his Michigan pro...   \n",
       "7   Some Democrats turn toward Trump in Texas bord...   \n",
       "8   WAYNE ROOT: “Do You Believe in Miracles?” Some...   \n",
       "9   Trump says he cannot get fair trial this year ...   \n",
       "10  UN chief says Gaza killing could require indep...   \n",
       "11  Kamala Harris Called Out on Twitter/X After Pr...   \n",
       "12  Liberal Hollywood Celebs Are Throwing a Fit Ov...   \n",
       "13  Republican-controlled Alabama legislature pass...   \n",
       "14  US Supreme Court's move to hear Trump's immuni...   \n",
       "15  DeSantis Signs Bill That Authorizes Release of...   \n",
       "16  Fmr. Biden Border Patrol Chief: ‘I Never Once ...   \n",
       "17  Trump at Texas Border: ‘This is a Joe Biden In...   \n",
       "18  Exclusive — House Majority Whip Tom Emmer: Joe...   \n",
       "19  Congress passes stopgap spending bill, prevent...   \n",
       "20  Supporters chant 'We are not afraid' as Russia...   \n",
       "21  Nikki Haley raises $12 million in February as ...   \n",
       "22  After CBS News Firing, Catherine Herridge Held...   \n",
       "23  Mitch McConnell will step down as Senate minor...   \n",
       "24  NYC Woman Nabbed After Attack on Subway Cellis...   \n",
       "\n",
       "                                                 text      label  \\\n",
       "0   The money flow is significant because sources ...  fake_news   \n",
       "1   U.S.District Judge Royce Lamberth has been thr...  real_news   \n",
       "2   The Biden regime’s collusion with corrupt Fult...  fake_news   \n",
       "3   U.S. President Joe Biden and Donald Trump, his...  real_news   \n",
       "4   Two presidents will visit the southern US bord...  real_news   \n",
       "5   Joe Biden arrived in Brownsville, Texas on Thu...  fake_news   \n",
       "6   If the Democratic voters of Michigan – and a h...  real_news   \n",
       "7   Asalia Casares, 52, is a lifelong Democrat who...  real_news   \n",
       "8   “Do you believe in miracles?” Remember those w...  fake_news   \n",
       "9   Donald Trump's lawyers told a U.S. judge on Th...  real_news   \n",
       "10  United Nations Secretary-General Antonio Guter...  real_news   \n",
       "11  Kamala Harris recently took to Twitter and hea...  fake_news   \n",
       "12  As you probably know, the United States Suprem...  fake_news   \n",
       "13  Alabama's Republican-led legislature on Thursd...  real_news   \n",
       "14  The U.S. Supreme Court appears likely to rejec...  real_news   \n",
       "15  On Thursday, Florida Gov. Ron DeSantis signed ...  fake_news   \n",
       "16  On Thursday’s broadcast of the Fox News Channe...  fake_news   \n",
       "17  Former President Donald J. Trump visited the s...  fake_news   \n",
       "18  House Majority Whip Tom Emmer (R-MN) told Brei...  fake_news   \n",
       "19  The Senate voted 77 to 13 to approve a short-t...  real_news   \n",
       "20  Thousands of mourners attended the funeral of ...  real_news   \n",
       "21   The former South Carolina governor has yet to...  real_news   \n",
       "22  Catherine Herridge, an Emmy-winning and nomina...  fake_news   \n",
       "23  Senate Minority Leader Mitch McConnell will st...  real_news   \n",
       "24  A suspect with a criminal history was caught W...  fake_news   \n",
       "\n",
       "              source                                                url  \\\n",
       "0          breitbart  https://www.breitbart.com/politics/2024/02/29/...   \n",
       "1            reuters  https://www.reuters.com/investigates/special-r...   \n",
       "2   thegatewaypundit  https://www.thegatewaypundit.com/2024/02/meet-...   \n",
       "3            reuters  https://www.reuters.com/world/us/biden-trump-m...   \n",
       "4                cnn  https://www.cnn.com/2024/02/29/politics/border...   \n",
       "5   thegatewaypundit  https://www.thegatewaypundit.com/2024/02/wow-b...   \n",
       "6                cnn  https://www.cnn.com/2024/02/28/politics/biden-...   \n",
       "7            reuters  https://www.reuters.com/world/us/some-democrat...   \n",
       "8   thegatewaypundit  https://www.thegatewaypundit.com/2024/02/wayne...   \n",
       "9            reuters  https://www.reuters.com/world/us/trump-asks-de...   \n",
       "10           reuters  https://www.reuters.com/world/middle-east/un-c...   \n",
       "11  thegatewaypundit  https://www.thegatewaypundit.com/2024/02/kamal...   \n",
       "12  thegatewaypundit  https://www.thegatewaypundit.com/2024/02/liber...   \n",
       "13           reuters  https://www.reuters.com/world/us/republican-co...   \n",
       "14           reuters  https://www.reuters.com/world/us/us-supreme-co...   \n",
       "15  thegatewaypundit  https://www.thegatewaypundit.com/2024/02/desan...   \n",
       "16         breitbart  https://www.breitbart.com/clips/2024/02/29/fmr...   \n",
       "17         breitbart  https://www.breitbart.com/border/2024/02/29/tr...   \n",
       "18         breitbart  https://www.breitbart.com/politics/2024/02/29/...   \n",
       "19               npr  https://www.npr.org/2024/02/28/1234679367/cong...   \n",
       "20               npr  https://www.npr.org/2024/03/01/1235121398/krem...   \n",
       "21               npr  https://www.npr.org/2024/03/01/1235215068/nikk...   \n",
       "22  thegatewaypundit  https://www.thegatewaypundit.com/2024/03/after...   \n",
       "23               npr  https://www.npr.org/2024/02/28/1163447619/mitc...   \n",
       "24         breitbart  https://www.breitbart.com/crime/2024/03/01/nyc...   \n",
       "\n",
       "         date  \n",
       "0  2024-02-29  \n",
       "1  2024-02-29  \n",
       "2  2024-02-26  \n",
       "3  2024-02-29  \n",
       "4  2024-02-29  \n",
       "5  2024-02-29  \n",
       "6  2024-02-28  \n",
       "7  2024-02-29  \n",
       "8  2024-02-29  \n",
       "9  2024-02-29  \n",
       "10 2024-03-01  \n",
       "11 2024-02-29  \n",
       "12 2024-02-29  \n",
       "13 2024-02-29  \n",
       "14 2024-02-29  \n",
       "15 2024-02-29  \n",
       "16 2024-02-29  \n",
       "17 2024-02-29  \n",
       "18 2024-02-29  \n",
       "19 2024-02-28  \n",
       "20 2024-03-01  \n",
       "21 2024-03-01  \n",
       "22 2024-03-01  \n",
       "23 2024-02-28  \n",
       "24 2024-03-01  "
      ]
     },
     "execution_count": 203,
     "metadata": {},
     "output_type": "execute_result"
    }
   ],
   "source": [
    "test = pd.read_csv('../Data/test_set_Feb29_2024.csv', parse_dates=['date'])\n",
    "test"
   ]
  },
  {
   "cell_type": "code",
   "execution_count": 204,
   "metadata": {},
   "outputs": [],
   "source": [
    "test['char_count_text'] = test['text'].str.len()\n",
    "test['word_count_text'] = test['text'].str.split().str.len()\n",
    "test['avg_word_length_text'] = test['char_count_text']/test['word_count_text']\n",
    "\n",
    "test['char_count_title'] = test['title'].str.len()\n",
    "test['word_count_title'] = test['title'].str.split().str.len()\n",
    "test['avg_word_length_title'] = test['char_count_title']/test['word_count_title']\n",
    "\n",
    "test['year'] = test['date'].dt.year\n",
    "test['month'] = test['date'].dt.month\n",
    "test['day'] = test['date'].dt.day\n",
    "test['day_of_week'] = test['date'].dt.weekday"
   ]
  },
  {
   "cell_type": "code",
   "execution_count": 205,
   "metadata": {},
   "outputs": [],
   "source": [
    "test['election_day'] = pd.to_datetime(\"2024-11-05\")\n",
    "test['days_to_election'] = (test['date'] - test['election_day']).dt.days"
   ]
  },
  {
   "cell_type": "code",
   "execution_count": 206,
   "metadata": {},
   "outputs": [],
   "source": [
    "test['month'] = test['month'].map({1:'Jan', 2:'Feb', 3:'Mar', 4:'Apr', 5:'May', 6:'Jun',\\\n",
    "                                  7:'Jul', 8:'Aug', 9:'Sept', 10:'Oct', 11:'Nov', 12:'Dec'})\n",
    "test['day_of_week'] = test['day_of_week'].map({0:'Monday', 1:'Tuesday', 2:'Wednesday', 3:'Thursday', 4:'Friday',\\\n",
    "                                               5:'Saturday', 6:'Sunday'})"
   ]
  },
  {
   "cell_type": "markdown",
   "metadata": {},
   "source": [
    "### 3.3.2 Method_1 Test_1 "
   ]
  },
  {
   "cell_type": "code",
   "execution_count": 207,
   "metadata": {},
   "outputs": [],
   "source": [
    "# assign X and y\n",
    "X_test = test[['char_count_text', 'word_count_text', 'avg_word_length_text', 'char_count_title',\n",
    "       'word_count_title', 'avg_word_length_title', 'year', 'month', 'day', 'day_of_week', 'days_to_election']]\n",
    "X_test = pd.get_dummies(X_test)\n",
    "y_test = test.label"
   ]
  },
  {
   "cell_type": "code",
   "execution_count": 208,
   "metadata": {},
   "outputs": [
    {
     "data": {
      "text/html": [
       "<div>\n",
       "<style scoped>\n",
       "    .dataframe tbody tr th:only-of-type {\n",
       "        vertical-align: middle;\n",
       "    }\n",
       "\n",
       "    .dataframe tbody tr th {\n",
       "        vertical-align: top;\n",
       "    }\n",
       "\n",
       "    .dataframe thead th {\n",
       "        text-align: right;\n",
       "    }\n",
       "</style>\n",
       "<table border=\"1\" class=\"dataframe\">\n",
       "  <thead>\n",
       "    <tr style=\"text-align: right;\">\n",
       "      <th></th>\n",
       "      <th>char_count_text</th>\n",
       "      <th>word_count_text</th>\n",
       "      <th>avg_word_length_text</th>\n",
       "      <th>char_count_title</th>\n",
       "      <th>word_count_title</th>\n",
       "      <th>avg_word_length_title</th>\n",
       "      <th>year</th>\n",
       "      <th>day</th>\n",
       "      <th>days_to_election</th>\n",
       "      <th>month_Apr</th>\n",
       "      <th>month_Aug</th>\n",
       "      <th>month_Dec</th>\n",
       "      <th>month_Feb</th>\n",
       "      <th>month_Jan</th>\n",
       "      <th>month_Jul</th>\n",
       "      <th>month_Jun</th>\n",
       "      <th>month_Mar</th>\n",
       "      <th>month_May</th>\n",
       "      <th>month_Nov</th>\n",
       "      <th>month_Oct</th>\n",
       "      <th>month_Sept</th>\n",
       "      <th>day_of_week_Friday</th>\n",
       "      <th>day_of_week_Monday</th>\n",
       "      <th>day_of_week_Saturday</th>\n",
       "      <th>day_of_week_Sunday</th>\n",
       "      <th>day_of_week_Thursday</th>\n",
       "      <th>day_of_week_Tuesday</th>\n",
       "      <th>day_of_week_Wednesday</th>\n",
       "    </tr>\n",
       "  </thead>\n",
       "  <tbody>\n",
       "    <tr>\n",
       "      <th>0</th>\n",
       "      <td>2896</td>\n",
       "      <td>456</td>\n",
       "      <td>6.350877</td>\n",
       "      <td>85</td>\n",
       "      <td>14</td>\n",
       "      <td>6.071429</td>\n",
       "      <td>2024</td>\n",
       "      <td>29</td>\n",
       "      <td>-250</td>\n",
       "      <td>False</td>\n",
       "      <td>False</td>\n",
       "      <td>False</td>\n",
       "      <td>True</td>\n",
       "      <td>False</td>\n",
       "      <td>False</td>\n",
       "      <td>False</td>\n",
       "      <td>False</td>\n",
       "      <td>False</td>\n",
       "      <td>False</td>\n",
       "      <td>False</td>\n",
       "      <td>False</td>\n",
       "      <td>False</td>\n",
       "      <td>False</td>\n",
       "      <td>False</td>\n",
       "      <td>False</td>\n",
       "      <td>True</td>\n",
       "      <td>False</td>\n",
       "      <td>False</td>\n",
       "    </tr>\n",
       "    <tr>\n",
       "      <th>1</th>\n",
       "      <td>5800</td>\n",
       "      <td>918</td>\n",
       "      <td>6.318083</td>\n",
       "      <td>64</td>\n",
       "      <td>9</td>\n",
       "      <td>7.111111</td>\n",
       "      <td>2024</td>\n",
       "      <td>29</td>\n",
       "      <td>-250</td>\n",
       "      <td>False</td>\n",
       "      <td>False</td>\n",
       "      <td>False</td>\n",
       "      <td>True</td>\n",
       "      <td>False</td>\n",
       "      <td>False</td>\n",
       "      <td>False</td>\n",
       "      <td>False</td>\n",
       "      <td>False</td>\n",
       "      <td>False</td>\n",
       "      <td>False</td>\n",
       "      <td>False</td>\n",
       "      <td>False</td>\n",
       "      <td>False</td>\n",
       "      <td>False</td>\n",
       "      <td>False</td>\n",
       "      <td>True</td>\n",
       "      <td>False</td>\n",
       "      <td>False</td>\n",
       "    </tr>\n",
       "    <tr>\n",
       "      <th>2</th>\n",
       "      <td>2885</td>\n",
       "      <td>443</td>\n",
       "      <td>6.512415</td>\n",
       "      <td>177</td>\n",
       "      <td>26</td>\n",
       "      <td>6.807692</td>\n",
       "      <td>2024</td>\n",
       "      <td>26</td>\n",
       "      <td>-253</td>\n",
       "      <td>False</td>\n",
       "      <td>False</td>\n",
       "      <td>False</td>\n",
       "      <td>True</td>\n",
       "      <td>False</td>\n",
       "      <td>False</td>\n",
       "      <td>False</td>\n",
       "      <td>False</td>\n",
       "      <td>False</td>\n",
       "      <td>False</td>\n",
       "      <td>False</td>\n",
       "      <td>False</td>\n",
       "      <td>False</td>\n",
       "      <td>True</td>\n",
       "      <td>False</td>\n",
       "      <td>False</td>\n",
       "      <td>False</td>\n",
       "      <td>False</td>\n",
       "      <td>False</td>\n",
       "    </tr>\n",
       "    <tr>\n",
       "      <th>3</th>\n",
       "      <td>4064</td>\n",
       "      <td>656</td>\n",
       "      <td>6.195122</td>\n",
       "      <td>74</td>\n",
       "      <td>11</td>\n",
       "      <td>6.727273</td>\n",
       "      <td>2024</td>\n",
       "      <td>29</td>\n",
       "      <td>-250</td>\n",
       "      <td>False</td>\n",
       "      <td>False</td>\n",
       "      <td>False</td>\n",
       "      <td>True</td>\n",
       "      <td>False</td>\n",
       "      <td>False</td>\n",
       "      <td>False</td>\n",
       "      <td>False</td>\n",
       "      <td>False</td>\n",
       "      <td>False</td>\n",
       "      <td>False</td>\n",
       "      <td>False</td>\n",
       "      <td>False</td>\n",
       "      <td>False</td>\n",
       "      <td>False</td>\n",
       "      <td>False</td>\n",
       "      <td>True</td>\n",
       "      <td>False</td>\n",
       "      <td>False</td>\n",
       "    </tr>\n",
       "    <tr>\n",
       "      <th>4</th>\n",
       "      <td>10675</td>\n",
       "      <td>1723</td>\n",
       "      <td>6.195589</td>\n",
       "      <td>82</td>\n",
       "      <td>12</td>\n",
       "      <td>6.833333</td>\n",
       "      <td>2024</td>\n",
       "      <td>29</td>\n",
       "      <td>-250</td>\n",
       "      <td>False</td>\n",
       "      <td>False</td>\n",
       "      <td>False</td>\n",
       "      <td>True</td>\n",
       "      <td>False</td>\n",
       "      <td>False</td>\n",
       "      <td>False</td>\n",
       "      <td>False</td>\n",
       "      <td>False</td>\n",
       "      <td>False</td>\n",
       "      <td>False</td>\n",
       "      <td>False</td>\n",
       "      <td>False</td>\n",
       "      <td>False</td>\n",
       "      <td>False</td>\n",
       "      <td>False</td>\n",
       "      <td>True</td>\n",
       "      <td>False</td>\n",
       "      <td>False</td>\n",
       "    </tr>\n",
       "  </tbody>\n",
       "</table>\n",
       "</div>"
      ],
      "text/plain": [
       "   char_count_text  word_count_text  avg_word_length_text  char_count_title  \\\n",
       "0             2896              456              6.350877                85   \n",
       "1             5800              918              6.318083                64   \n",
       "2             2885              443              6.512415               177   \n",
       "3             4064              656              6.195122                74   \n",
       "4            10675             1723              6.195589                82   \n",
       "\n",
       "   word_count_title  avg_word_length_title  year  day  days_to_election  \\\n",
       "0                14               6.071429  2024   29              -250   \n",
       "1                 9               7.111111  2024   29              -250   \n",
       "2                26               6.807692  2024   26              -253   \n",
       "3                11               6.727273  2024   29              -250   \n",
       "4                12               6.833333  2024   29              -250   \n",
       "\n",
       "   month_Apr  month_Aug  month_Dec  month_Feb  month_Jan  month_Jul  \\\n",
       "0      False      False      False       True      False      False   \n",
       "1      False      False      False       True      False      False   \n",
       "2      False      False      False       True      False      False   \n",
       "3      False      False      False       True      False      False   \n",
       "4      False      False      False       True      False      False   \n",
       "\n",
       "   month_Jun  month_Mar  month_May  month_Nov  month_Oct  month_Sept  \\\n",
       "0      False      False      False      False      False       False   \n",
       "1      False      False      False      False      False       False   \n",
       "2      False      False      False      False      False       False   \n",
       "3      False      False      False      False      False       False   \n",
       "4      False      False      False      False      False       False   \n",
       "\n",
       "   day_of_week_Friday  day_of_week_Monday  day_of_week_Saturday  \\\n",
       "0               False               False                 False   \n",
       "1               False               False                 False   \n",
       "2               False                True                 False   \n",
       "3               False               False                 False   \n",
       "4               False               False                 False   \n",
       "\n",
       "   day_of_week_Sunday  day_of_week_Thursday  day_of_week_Tuesday  \\\n",
       "0               False                  True                False   \n",
       "1               False                  True                False   \n",
       "2               False                 False                False   \n",
       "3               False                  True                False   \n",
       "4               False                  True                False   \n",
       "\n",
       "   day_of_week_Wednesday  \n",
       "0                  False  \n",
       "1                  False  \n",
       "2                  False  \n",
       "3                  False  \n",
       "4                  False  "
      ]
     },
     "execution_count": 208,
     "metadata": {},
     "output_type": "execute_result"
    }
   ],
   "source": [
    "for i in ['month_Jan', 'month_Apr', 'month_May', 'month_Jun', 'month_Jul', 'month_Aug', 'month_Sept',\\\n",
    "'month_Oct', 'month_Nov', 'month_Dec', 'day_of_week_Saturday', 'day_of_week_Sunday', 'day_of_week_Tuesday']:\n",
    "    X_test[i] = False\n",
    "X_test = X_test[['char_count_text', 'word_count_text', 'avg_word_length_text', 'char_count_title', 'word_count_title',\\\n",
    "                 'avg_word_length_title', 'year', 'day', 'days_to_election', 'month_Apr', 'month_Aug', 'month_Dec', 'month_Feb',\\\n",
    "                 'month_Jan', 'month_Jul', 'month_Jun', 'month_Mar', 'month_May', 'month_Nov', 'month_Oct', 'month_Sept',\\\n",
    "                 'day_of_week_Friday', 'day_of_week_Monday', 'day_of_week_Saturday', 'day_of_week_Sunday', 'day_of_week_Thursday',\\\n",
    "                 'day_of_week_Tuesday', 'day_of_week_Wednesday']]\n",
    "X_test.head()"
   ]
  },
  {
   "cell_type": "code",
   "execution_count": 209,
   "metadata": {},
   "outputs": [],
   "source": [
    "y_test_pred = lr_classifier_1.predict(X_test)\n",
    "test_accuracy = metrics.accuracy_score(y_test, y_test_pred)\n",
    "test_recall = metrics.recall_score(y_test, y_test_pred, pos_label='real_news')\n",
    "test_precision = metrics.precision_score(y_test, y_test_pred, pos_label='real_news')\n",
    "test_f1 = metrics.f1_score(y_test, y_test_pred, pos_label='real_news')"
   ]
  },
  {
   "cell_type": "code",
   "execution_count": 210,
   "metadata": {},
   "outputs": [
    {
     "name": "stdout",
     "output_type": "stream",
     "text": [
      "The test set accuracy is 0.6\n",
      "The test set recall score is 0.308\n",
      "The test set precision score is 0.8\n",
      "The test set f1 score is 0.444\n"
     ]
    }
   ],
   "source": [
    "print(f\"The test set accuracy is {round(test_accuracy,3)}\")\n",
    "print(f\"The test set recall score is {round(test_recall,3)}\")\n",
    "print(f\"The test set precision score is {round(test_precision,3)}\")\n",
    "print(f\"The test set f1 score is {round(test_f1,3)}\")"
   ]
  },
  {
   "cell_type": "code",
   "execution_count": 211,
   "metadata": {},
   "outputs": [
    {
     "data": {
      "image/png": "[encoded data removed]",
      "text/plain": [
       "<Figure size 640x480 with 2 Axes>"
      ]
     },
     "metadata": {},
     "output_type": "display_data"
    }
   ],
   "source": [
    "cm = metrics.confusion_matrix(y_test, y_test_pred, labels = lr_classifier_1.classes_)\n",
    "fig, ax = plt.subplots()\n",
    "display_cm = metrics.ConfusionMatrixDisplay(confusion_matrix = cm, \n",
    "                                    display_labels = ['Fake_news', 'Real_news'])\n",
    "\n",
    "ax.set_xticks([0, 1])\n",
    "ax.set_yticks([0, 1])\n",
    "ax.set_xticklabels(labels = ['Fake_news', 'Real_news'], fontsize = 12)\n",
    "ax.set_yticklabels(labels = ['Fake_news', 'Real_news'], fontsize = 12)\n",
    "\n",
    "display_cm.plot(ax = ax)\n",
    "plt.show()"
   ]
  },
  {
   "cell_type": "code",
   "execution_count": 212,
   "metadata": {},
   "outputs": [],
   "source": [
    "result = dict(Test_Accuracy=round(test_accuracy,3), Test_Recall=round(test_recall,3), Test_Precision=round(test_precision,3),\\\n",
    "             Test_f1=round(test_f1,3))\n",
    "\n",
    "hyperparameter_table[0].update(result)"
   ]
  },
  {
   "cell_type": "markdown",
   "metadata": {},
   "source": [
    "### 3.3.3 Method_1 Test_2"
   ]
  },
  {
   "cell_type": "code",
   "execution_count": 213,
   "metadata": {},
   "outputs": [],
   "source": [
    "y_test_pred = rf_classifier_1.predict(X_test)\n",
    "test_accuracy = metrics.accuracy_score(y_test, y_test_pred)\n",
    "test_recall = metrics.recall_score(y_test, y_test_pred, pos_label='real_news')\n",
    "test_precision = metrics.precision_score(y_test, y_test_pred, pos_label='real_news')\n",
    "test_f1 = metrics.f1_score(y_test, y_test_pred, pos_label='real_news')"
   ]
  },
  {
   "cell_type": "code",
   "execution_count": 214,
   "metadata": {},
   "outputs": [
    {
     "name": "stdout",
     "output_type": "stream",
     "text": [
      "The test set accuracy is 0.72\n",
      "The test set recall score is 0.538\n",
      "The test set precision score is 0.875\n",
      "The test set f1 score is 0.667\n"
     ]
    }
   ],
   "source": [
    "print(f\"The test set accuracy is {round(test_accuracy,3)}\")\n",
    "print(f\"The test set recall score is {round(test_recall,3)}\")\n",
    "print(f\"The test set precision score is {round(test_precision,3)}\")\n",
    "print(f\"The test set f1 score is {round(test_f1,3)}\")"
   ]
  },
  {
   "cell_type": "code",
   "execution_count": 215,
   "metadata": {},
   "outputs": [
    {
     "data": {
      "image/png": "[encoded data removed]",
      "text/plain": [
       "<Figure size 640x480 with 2 Axes>"
      ]
     },
     "metadata": {},
     "output_type": "display_data"
    }
   ],
   "source": [
    "cm = metrics.confusion_matrix(y_test, y_test_pred, labels = rf_classifier_1.classes_)\n",
    "fig, ax = plt.subplots()\n",
    "display_cm = metrics.ConfusionMatrixDisplay(confusion_matrix = cm, \n",
    "                                    display_labels = ['Fake_news', 'Real_news'])\n",
    "\n",
    "ax.set_xticks([0, 1])\n",
    "ax.set_yticks([0, 1])\n",
    "ax.set_xticklabels(labels = ['Fake_news', 'Real_news'], fontsize = 12)\n",
    "ax.set_yticklabels(labels = ['Fake_news', 'Real_news'], fontsize = 12)\n",
    "\n",
    "display_cm.plot(ax = ax)\n",
    "plt.show()"
   ]
  },
  {
   "cell_type": "code",
   "execution_count": 216,
   "metadata": {},
   "outputs": [],
   "source": [
    "result = dict(Test_Accuracy=round(test_accuracy,3), Test_Recall=round(test_recall,3), Test_Precision=round(test_precision,3),\\\n",
    "             Test_f1=round(test_f1,3))\n",
    "\n",
    "hyperparameter_table[1].update(result)"
   ]
  },
  {
   "cell_type": "markdown",
   "metadata": {},
   "source": [
    "### 3.3.4 Method_1 Test_3"
   ]
  },
  {
   "cell_type": "code",
   "execution_count": 217,
   "metadata": {},
   "outputs": [],
   "source": [
    "y_test_pred = gb_classifier_1.predict(X_test)\n",
    "test_accuracy = metrics.accuracy_score(y_test, y_test_pred)\n",
    "test_recall = metrics.recall_score(y_test, y_test_pred, pos_label='real_news')\n",
    "test_precision = metrics.precision_score(y_test, y_test_pred, pos_label='real_news')\n",
    "test_f1 = metrics.f1_score(y_test, y_test_pred, pos_label='real_news')"
   ]
  },
  {
   "cell_type": "code",
   "execution_count": 218,
   "metadata": {},
   "outputs": [
    {
     "name": "stdout",
     "output_type": "stream",
     "text": [
      "The test set accuracy is 0.68\n",
      "The test set recall score is 0.462\n",
      "The test set precision score is 0.857\n",
      "The test set f1 score is 0.6\n"
     ]
    }
   ],
   "source": [
    "print(f\"The test set accuracy is {round(test_accuracy,3)}\")\n",
    "print(f\"The test set recall score is {round(test_recall,3)}\")\n",
    "print(f\"The test set precision score is {round(test_precision,3)}\")\n",
    "print(f\"The test set f1 score is {round(test_f1,3)}\")"
   ]
  },
  {
   "cell_type": "code",
   "execution_count": 219,
   "metadata": {},
   "outputs": [
    {
     "data": {
      "image/png": "[encoded data removed]",
      "text/plain": [
       "<Figure size 640x480 with 2 Axes>"
      ]
     },
     "metadata": {},
     "output_type": "display_data"
    }
   ],
   "source": [
    "cm = metrics.confusion_matrix(y_test, y_test_pred, labels = gb_classifier_1.classes_)\n",
    "fig, ax = plt.subplots()\n",
    "display_cm = metrics.ConfusionMatrixDisplay(confusion_matrix = cm, \n",
    "                                    display_labels = ['Fake_news', 'Real_news'])\n",
    "\n",
    "ax.set_xticks([0, 1])\n",
    "ax.set_yticks([0, 1])\n",
    "ax.set_xticklabels(labels = ['Fake_news', 'Real_news'], fontsize = 12)\n",
    "ax.set_yticklabels(labels = ['Fake_news', 'Real_news'], fontsize = 12)\n",
    "\n",
    "display_cm.plot(ax = ax)\n",
    "plt.show()"
   ]
  },
  {
   "cell_type": "code",
   "execution_count": 220,
   "metadata": {},
   "outputs": [],
   "source": [
    "result = dict(Test_Accuracy=round(test_accuracy,3), Test_Recall=round(test_recall,3), Test_Precision=round(test_precision,3),\\\n",
    "             Test_f1=round(test_f1,3))\n",
    "\n",
    "hyperparameter_table[2].update(result)"
   ]
  },
  {
   "cell_type": "markdown",
   "metadata": {},
   "source": [
    "### 3.3.5 Method_1 Test_4"
   ]
  },
  {
   "cell_type": "code",
   "execution_count": 221,
   "metadata": {},
   "outputs": [],
   "source": [
    "y_test_xgb = y_test.map({'fake_news':0, 'real_news':1})\n",
    "\n",
    "y_test_pred = xgb_classifier_1.predict(X_test)\n",
    "test_accuracy = metrics.accuracy_score(y_test_xgb, y_test_pred)\n",
    "test_recall = metrics.recall_score(y_test_xgb, y_test_pred)\n",
    "test_precision = metrics.precision_score(y_test_xgb, y_test_pred)\n",
    "test_f1 = metrics.f1_score(y_test_xgb, y_test_pred)"
   ]
  },
  {
   "cell_type": "code",
   "execution_count": 222,
   "metadata": {},
   "outputs": [
    {
     "name": "stdout",
     "output_type": "stream",
     "text": [
      "The test set accuracy is 0.76\n",
      "The test set recall score is 0.615\n",
      "The test set precision score is 0.889\n",
      "The test set f1 score is 0.727\n"
     ]
    }
   ],
   "source": [
    "print(f\"The test set accuracy is {round(test_accuracy,3)}\")\n",
    "print(f\"The test set recall score is {round(test_recall,3)}\")\n",
    "print(f\"The test set precision score is {round(test_precision,3)}\")\n",
    "print(f\"The test set f1 score is {round(test_f1,3)}\")"
   ]
  },
  {
   "cell_type": "code",
   "execution_count": 223,
   "metadata": {},
   "outputs": [
    {
     "data": {
      "image/png": "[encoded data removed]",
      "text/plain": [
       "<Figure size 640x480 with 2 Axes>"
      ]
     },
     "metadata": {},
     "output_type": "display_data"
    }
   ],
   "source": [
    "cm = metrics.confusion_matrix(y_test_xgb, y_test_pred, labels = xgb_classifier_1.classes_)\n",
    "fig, ax = plt.subplots()\n",
    "display_cm = metrics.ConfusionMatrixDisplay(confusion_matrix = cm, \n",
    "                                    display_labels = ['Fake_news', 'Real_news'])\n",
    "\n",
    "ax.set_xticks([0, 1])\n",
    "ax.set_yticks([0, 1])\n",
    "ax.set_xticklabels(labels = ['Fake_news', 'Real_news'], fontsize = 12)\n",
    "ax.set_yticklabels(labels = ['Fake_news', 'Real_news'], fontsize = 12)\n",
    "\n",
    "display_cm.plot(ax = ax)\n",
    "plt.show()"
   ]
  },
  {
   "cell_type": "code",
   "execution_count": 224,
   "metadata": {},
   "outputs": [],
   "source": [
    "result = dict(Test_Accuracy=round(test_accuracy,3), Test_Recall=round(test_recall,3), Test_Precision=round(test_precision,3),\\\n",
    "             Test_f1=round(test_f1,3))\n",
    "\n",
    "hyperparameter_table[3].update(result)"
   ]
  },
  {
   "cell_type": "markdown",
   "metadata": {},
   "source": [
    "### 3.3.6 Method_2 Test_5"
   ]
  },
  {
   "cell_type": "code",
   "execution_count": 225,
   "metadata": {},
   "outputs": [],
   "source": [
    "# assign X and y\n",
    "X_test = test.text\n",
    "y_test = test.label"
   ]
  },
  {
   "cell_type": "code",
   "execution_count": 226,
   "metadata": {},
   "outputs": [],
   "source": [
    "# Transform the test data using only the 'text' column values: count_test \n",
    "count_X_test = count_vectorizer_1.transform(X_test)"
   ]
  },
  {
   "cell_type": "code",
   "execution_count": 227,
   "metadata": {},
   "outputs": [],
   "source": [
    "y_test_pred = lr_classifier_2.predict(count_X_test)\n",
    "test_accuracy = metrics.accuracy_score(y_test, y_test_pred)\n",
    "test_recall = metrics.recall_score(y_test, y_test_pred, pos_label='real_news')\n",
    "test_precision = metrics.precision_score(y_test, y_test_pred, pos_label='real_news')\n",
    "test_f1 = metrics.f1_score(y_test, y_test_pred, pos_label='real_news')"
   ]
  },
  {
   "cell_type": "code",
   "execution_count": 228,
   "metadata": {},
   "outputs": [
    {
     "name": "stdout",
     "output_type": "stream",
     "text": [
      "The test set accuracy is 0.88\n",
      "The test set recall score is 0.769\n",
      "The test set precision score is 1.0\n",
      "The test set f1 score is 0.87\n"
     ]
    }
   ],
   "source": [
    "print(f\"The test set accuracy is {round(test_accuracy,3)}\")\n",
    "print(f\"The test set recall score is {round(test_recall,3)}\")\n",
    "print(f\"The test set precision score is {round(test_precision,3)}\")\n",
    "print(f\"The test set f1 score is {round(test_f1,3)}\")"
   ]
  },
  {
   "cell_type": "code",
   "execution_count": 229,
   "metadata": {},
   "outputs": [
    {
     "data": {
      "image/png": "[encoded data removed]",
      "text/plain": [
       "<Figure size 640x480 with 2 Axes>"
      ]
     },
     "metadata": {},
     "output_type": "display_data"
    }
   ],
   "source": [
    "cm = metrics.confusion_matrix(y_test, y_test_pred, labels = lr_classifier_2.classes_)\n",
    "fig, ax = plt.subplots()\n",
    "display_cm = metrics.ConfusionMatrixDisplay(confusion_matrix = cm, \n",
    "                                    display_labels = ['Fake_news', 'Real_news'])\n",
    "\n",
    "ax.set_xticks([0, 1])\n",
    "ax.set_yticks([0, 1])\n",
    "ax.set_xticklabels(labels = ['Fake_news', 'Real_news'], fontsize = 12)\n",
    "ax.set_yticklabels(labels = ['Fake_news', 'Real_news'], fontsize = 12)\n",
    "\n",
    "display_cm.plot(ax = ax)\n",
    "plt.show()"
   ]
  },
  {
   "cell_type": "code",
   "execution_count": 230,
   "metadata": {},
   "outputs": [],
   "source": [
    "result = dict(Test_Accuracy=round(test_accuracy,3), Test_Recall=round(test_recall,3), Test_Precision=round(test_precision,3),\\\n",
    "             Test_f1=round(test_f1,3))\n",
    "\n",
    "hyperparameter_table[4].update(result)"
   ]
  },
  {
   "cell_type": "markdown",
   "metadata": {},
   "source": [
    "### 3.3.7 Method_2 Test_6"
   ]
  },
  {
   "cell_type": "code",
   "execution_count": 231,
   "metadata": {},
   "outputs": [],
   "source": [
    "# Transform the test data using only the 'text' column values: count_test \n",
    "count_X_test = count_vectorizer_2.transform(X_test)"
   ]
  },
  {
   "cell_type": "code",
   "execution_count": 232,
   "metadata": {},
   "outputs": [],
   "source": [
    "y_test_pred = lr_classifier_3.predict(count_X_test)\n",
    "test_accuracy = metrics.accuracy_score(y_test, y_test_pred)\n",
    "test_recall = metrics.recall_score(y_test, y_test_pred, pos_label='real_news')\n",
    "test_precision = metrics.precision_score(y_test, y_test_pred, pos_label='real_news')\n",
    "test_f1 = metrics.f1_score(y_test, y_test_pred, pos_label='real_news')"
   ]
  },
  {
   "cell_type": "code",
   "execution_count": 233,
   "metadata": {},
   "outputs": [
    {
     "name": "stdout",
     "output_type": "stream",
     "text": [
      "The test set accuracy is 0.88\n",
      "The test set recall score is 0.769\n",
      "The test set precision score is 1.0\n",
      "The test set f1 score is 0.87\n"
     ]
    }
   ],
   "source": [
    "print(f\"The test set accuracy is {round(test_accuracy,3)}\")\n",
    "print(f\"The test set recall score is {round(test_recall,3)}\")\n",
    "print(f\"The test set precision score is {round(test_precision,3)}\")\n",
    "print(f\"The test set f1 score is {round(test_f1,3)}\")"
   ]
  },
  {
   "cell_type": "code",
   "execution_count": 234,
   "metadata": {},
   "outputs": [
    {
     "data": {
      "image/png": "[encoded data removed]",
      "text/plain": [
       "<Figure size 640x480 with 2 Axes>"
      ]
     },
     "metadata": {},
     "output_type": "display_data"
    }
   ],
   "source": [
    "cm = metrics.confusion_matrix(y_test, y_test_pred, labels = lr_classifier_3.classes_)\n",
    "fig, ax = plt.subplots()\n",
    "display_cm = metrics.ConfusionMatrixDisplay(confusion_matrix = cm, \n",
    "                                    display_labels = ['Fake_news', 'Real_news'])\n",
    "\n",
    "ax.set_xticks([0, 1])\n",
    "ax.set_yticks([0, 1])\n",
    "ax.set_xticklabels(labels = ['Fake_news', 'Real_news'], fontsize = 12)\n",
    "ax.set_yticklabels(labels = ['Fake_news', 'Real_news'], fontsize = 12)\n",
    "\n",
    "display_cm.plot(ax = ax)\n",
    "plt.show()"
   ]
  },
  {
   "cell_type": "code",
   "execution_count": 235,
   "metadata": {},
   "outputs": [],
   "source": [
    "result = dict(Test_Accuracy=round(test_accuracy,3), Test_Recall=round(test_recall,3), Test_Precision=round(test_precision,3),\\\n",
    "             Test_f1=round(test_f1,3))\n",
    "\n",
    "hyperparameter_table[5].update(result)"
   ]
  },
  {
   "cell_type": "markdown",
   "metadata": {},
   "source": [
    "### 3.3.8 Method_2 Test_7"
   ]
  },
  {
   "cell_type": "code",
   "execution_count": 236,
   "metadata": {},
   "outputs": [],
   "source": [
    "# Transform the test data using only the 'text' column values: count_test \n",
    "count_X_test = count_vectorizer_3.transform(X_test)"
   ]
  },
  {
   "cell_type": "code",
   "execution_count": 237,
   "metadata": {},
   "outputs": [],
   "source": [
    "y_test_pred = lr_classifier_4.predict(count_X_test)\n",
    "test_accuracy = metrics.accuracy_score(y_test, y_test_pred)\n",
    "test_recall = metrics.recall_score(y_test, y_test_pred, pos_label='real_news')\n",
    "test_precision = metrics.precision_score(y_test, y_test_pred, pos_label='real_news')\n",
    "test_f1 = metrics.f1_score(y_test, y_test_pred, pos_label='real_news')"
   ]
  },
  {
   "cell_type": "code",
   "execution_count": 238,
   "metadata": {},
   "outputs": [
    {
     "name": "stdout",
     "output_type": "stream",
     "text": [
      "The test set accuracy is 0.92\n",
      "The test set recall score is 0.846\n",
      "The test set precision score is 1.0\n",
      "The test set f1 score is 0.917\n"
     ]
    }
   ],
   "source": [
    "print(f\"The test set accuracy is {round(test_accuracy,3)}\")\n",
    "print(f\"The test set recall score is {round(test_recall,3)}\")\n",
    "print(f\"The test set precision score is {round(test_precision,3)}\")\n",
    "print(f\"The test set f1 score is {round(test_f1,3)}\")"
   ]
  },
  {
   "cell_type": "code",
   "execution_count": 239,
   "metadata": {},
   "outputs": [
    {
     "data": {
      "image/png": "[encoded data removed]",
      "text/plain": [
       "<Figure size 640x480 with 2 Axes>"
      ]
     },
     "metadata": {},
     "output_type": "display_data"
    }
   ],
   "source": [
    "cm = metrics.confusion_matrix(y_test, y_test_pred, labels = lr_classifier_4.classes_)\n",
    "fig, ax = plt.subplots()\n",
    "display_cm = metrics.ConfusionMatrixDisplay(confusion_matrix = cm, \n",
    "                                    display_labels = ['Fake_news', 'Real_news'])\n",
    "\n",
    "ax.set_xticks([0, 1])\n",
    "ax.set_yticks([0, 1])\n",
    "ax.set_xticklabels(labels = ['Fake_news', 'Real_news'], fontsize = 12)\n",
    "ax.set_yticklabels(labels = ['Fake_news', 'Real_news'], fontsize = 12)\n",
    "\n",
    "display_cm.plot(ax = ax)\n",
    "plt.show()"
   ]
  },
  {
   "cell_type": "code",
   "execution_count": 240,
   "metadata": {},
   "outputs": [],
   "source": [
    "result = dict(Test_Accuracy=round(test_accuracy,3), Test_Recall=round(test_recall,3), Test_Precision=round(test_precision,3),\\\n",
    "             Test_f1=round(test_f1,3))\n",
    "\n",
    "hyperparameter_table[6].update(result)"
   ]
  },
  {
   "cell_type": "markdown",
   "metadata": {},
   "source": [
    "### 3.3.9 Method_2 Test_8"
   ]
  },
  {
   "cell_type": "code",
   "execution_count": 241,
   "metadata": {},
   "outputs": [],
   "source": [
    "# Transform the test data using only the 'text' column values: count_test \n",
    "count_X_test = count_vectorizer_4.transform(X_test)"
   ]
  },
  {
   "cell_type": "code",
   "execution_count": 242,
   "metadata": {},
   "outputs": [],
   "source": [
    "y_test_pred = lr_classifier_5.predict(count_X_test)\n",
    "test_accuracy = metrics.accuracy_score(y_test, y_test_pred)\n",
    "test_recall = metrics.recall_score(y_test, y_test_pred, pos_label='real_news')\n",
    "test_precision = metrics.precision_score(y_test, y_test_pred, pos_label='real_news')\n",
    "test_f1 = metrics.f1_score(y_test, y_test_pred, pos_label='real_news')"
   ]
  },
  {
   "cell_type": "code",
   "execution_count": 243,
   "metadata": {},
   "outputs": [
    {
     "name": "stdout",
     "output_type": "stream",
     "text": [
      "The test set accuracy is 0.88\n",
      "The test set recall score is 0.923\n",
      "The test set precision score is 0.857\n",
      "The test set f1 score is 0.889\n"
     ]
    }
   ],
   "source": [
    "print(f\"The test set accuracy is {round(test_accuracy,3)}\")\n",
    "print(f\"The test set recall score is {round(test_recall,3)}\")\n",
    "print(f\"The test set precision score is {round(test_precision,3)}\")\n",
    "print(f\"The test set f1 score is {round(test_f1,3)}\")"
   ]
  },
  {
   "cell_type": "code",
   "execution_count": 244,
   "metadata": {},
   "outputs": [
    {
     "data": {
      "image/png": "[encoded data removed]",
      "text/plain": [
       "<Figure size 640x480 with 2 Axes>"
      ]
     },
     "metadata": {},
     "output_type": "display_data"
    }
   ],
   "source": [
    "cm = metrics.confusion_matrix(y_test, y_test_pred, labels = lr_classifier_5.classes_)\n",
    "fig, ax = plt.subplots()\n",
    "display_cm = metrics.ConfusionMatrixDisplay(confusion_matrix = cm, \n",
    "                                    display_labels = ['Fake_news', 'Real_news'])\n",
    "\n",
    "ax.set_xticks([0, 1])\n",
    "ax.set_yticks([0, 1])\n",
    "ax.set_xticklabels(labels = ['Fake_news', 'Real_news'], fontsize = 12)\n",
    "ax.set_yticklabels(labels = ['Fake_news', 'Real_news'], fontsize = 12)\n",
    "\n",
    "display_cm.plot(ax = ax)\n",
    "plt.show()"
   ]
  },
  {
   "cell_type": "code",
   "execution_count": 245,
   "metadata": {},
   "outputs": [],
   "source": [
    "result = dict(Test_Accuracy=round(test_accuracy,3), Test_Recall=round(test_recall,3), Test_Precision=round(test_precision,3),\\\n",
    "             Test_f1=round(test_f1,3))\n",
    "\n",
    "hyperparameter_table[7].update(result)"
   ]
  },
  {
   "cell_type": "markdown",
   "metadata": {},
   "source": [
    "### 3.3.10 Method_2 Test_9"
   ]
  },
  {
   "cell_type": "code",
   "execution_count": 246,
   "metadata": {},
   "outputs": [],
   "source": [
    "# Transform the test data using only the 'text' column values: count_test \n",
    "count_X_test = count_vectorizer_5.transform(X_test)"
   ]
  },
  {
   "cell_type": "code",
   "execution_count": 247,
   "metadata": {},
   "outputs": [],
   "source": [
    "y_test_pred = lr_classifier_6.predict(count_X_test)\n",
    "test_accuracy = metrics.accuracy_score(y_test, y_test_pred)\n",
    "test_recall = metrics.recall_score(y_test, y_test_pred, pos_label='real_news')\n",
    "test_precision = metrics.precision_score(y_test, y_test_pred, pos_label='real_news')\n",
    "test_f1 = metrics.f1_score(y_test, y_test_pred, pos_label='real_news')"
   ]
  },
  {
   "cell_type": "code",
   "execution_count": 248,
   "metadata": {},
   "outputs": [
    {
     "name": "stdout",
     "output_type": "stream",
     "text": [
      "The test set accuracy is 0.92\n",
      "The test set recall score is 1.0\n",
      "The test set precision score is 0.867\n",
      "The test set f1 score is 0.929\n"
     ]
    }
   ],
   "source": [
    "print(f\"The test set accuracy is {round(test_accuracy,3)}\")\n",
    "print(f\"The test set recall score is {round(test_recall,3)}\")\n",
    "print(f\"The test set precision score is {round(test_precision,3)}\")\n",
    "print(f\"The test set f1 score is {round(test_f1,3)}\")"
   ]
  },
  {
   "cell_type": "code",
   "execution_count": 249,
   "metadata": {},
   "outputs": [
    {
     "data": {
      "image/png": "[encoded data removed]",
      "text/plain": [
       "<Figure size 640x480 with 2 Axes>"
      ]
     },
     "metadata": {},
     "output_type": "display_data"
    }
   ],
   "source": [
    "cm = metrics.confusion_matrix(y_test, y_test_pred, labels = lr_classifier_6.classes_)\n",
    "fig, ax = plt.subplots()\n",
    "display_cm = metrics.ConfusionMatrixDisplay(confusion_matrix = cm, \n",
    "                                    display_labels = ['Fake_news', 'Real_news'])\n",
    "\n",
    "ax.set_xticks([0, 1])\n",
    "ax.set_yticks([0, 1])\n",
    "ax.set_xticklabels(labels = ['Fake_news', 'Real_news'], fontsize = 12)\n",
    "ax.set_yticklabels(labels = ['Fake_news', 'Real_news'], fontsize = 12)\n",
    "\n",
    "display_cm.plot(ax = ax)\n",
    "plt.show()"
   ]
  },
  {
   "cell_type": "code",
   "execution_count": 250,
   "metadata": {},
   "outputs": [],
   "source": [
    "result = dict(Test_Accuracy=round(test_accuracy,3), Test_Recall=round(test_recall,3), Test_Precision=round(test_precision,3),\\\n",
    "             Test_f1=round(test_f1,3))\n",
    "\n",
    "hyperparameter_table[8].update(result)"
   ]
  },
  {
   "cell_type": "markdown",
   "metadata": {},
   "source": [
    "### 3.3.11 Method_2 Test_10"
   ]
  },
  {
   "cell_type": "code",
   "execution_count": 251,
   "metadata": {},
   "outputs": [],
   "source": [
    "# Transform the test data using only the 'text' column values: count_test \n",
    "count_X_test = count_vectorizer_6.transform(X_test)"
   ]
  },
  {
   "cell_type": "code",
   "execution_count": 252,
   "metadata": {},
   "outputs": [],
   "source": [
    "y_test_pred = lr_classifier_7.predict(count_X_test)\n",
    "test_accuracy = metrics.accuracy_score(y_test, y_test_pred)\n",
    "test_recall = metrics.recall_score(y_test, y_test_pred, pos_label='real_news')\n",
    "test_precision = metrics.precision_score(y_test, y_test_pred, pos_label='real_news')\n",
    "test_f1 = metrics.f1_score(y_test, y_test_pred, pos_label='real_news')"
   ]
  },
  {
   "cell_type": "code",
   "execution_count": 253,
   "metadata": {},
   "outputs": [
    {
     "name": "stdout",
     "output_type": "stream",
     "text": [
      "The test set accuracy is 0.6\n",
      "The test set recall score is 0.692\n",
      "The test set precision score is 0.6\n",
      "The test set f1 score is 0.643\n"
     ]
    }
   ],
   "source": [
    "print(f\"The test set accuracy is {round(test_accuracy,3)}\")\n",
    "print(f\"The test set recall score is {round(test_recall,3)}\")\n",
    "print(f\"The test set precision score is {round(test_precision,3)}\")\n",
    "print(f\"The test set f1 score is {round(test_f1,3)}\")"
   ]
  },
  {
   "cell_type": "code",
   "execution_count": 254,
   "metadata": {},
   "outputs": [
    {
     "data": {
      "image/png": "[encoded data removed]",
      "text/plain": [
       "<Figure size 640x480 with 2 Axes>"
      ]
     },
     "metadata": {},
     "output_type": "display_data"
    }
   ],
   "source": [
    "cm = metrics.confusion_matrix(y_test, y_test_pred, labels = lr_classifier_7.classes_)\n",
    "fig, ax = plt.subplots()\n",
    "display_cm = metrics.ConfusionMatrixDisplay(confusion_matrix = cm, \n",
    "                                    display_labels = ['Fake_news', 'Real_news'])\n",
    "\n",
    "ax.set_xticks([0, 1])\n",
    "ax.set_yticks([0, 1])\n",
    "ax.set_xticklabels(labels = ['Fake_news', 'Real_news'], fontsize = 12)\n",
    "ax.set_yticklabels(labels = ['Fake_news', 'Real_news'], fontsize = 12)\n",
    "\n",
    "display_cm.plot(ax = ax)\n",
    "plt.show()"
   ]
  },
  {
   "cell_type": "code",
   "execution_count": 255,
   "metadata": {},
   "outputs": [],
   "source": [
    "result = dict(Test_Accuracy=round(test_accuracy,3), Test_Recall=round(test_recall,3), Test_Precision=round(test_precision,3),\\\n",
    "             Test_f1=round(test_f1,3))\n",
    "\n",
    "hyperparameter_table[9].update(result)"
   ]
  },
  {
   "cell_type": "markdown",
   "metadata": {},
   "source": [
    "### 3.3.12 Method_2 Test_11"
   ]
  },
  {
   "cell_type": "code",
   "execution_count": 256,
   "metadata": {},
   "outputs": [],
   "source": [
    "# Transform the test data using only the 'text' column values: count_test \n",
    "count_X_test = count_vectorizer_7.transform(X_test)"
   ]
  },
  {
   "cell_type": "code",
   "execution_count": 257,
   "metadata": {},
   "outputs": [],
   "source": [
    "y_test_pred = lr_classifier_8.predict(count_X_test)\n",
    "test_accuracy = metrics.accuracy_score(y_test, y_test_pred)\n",
    "test_recall = metrics.recall_score(y_test, y_test_pred, pos_label='real_news')\n",
    "test_precision = metrics.precision_score(y_test, y_test_pred, pos_label='real_news')\n",
    "test_f1 = metrics.f1_score(y_test, y_test_pred, pos_label='real_news')"
   ]
  },
  {
   "cell_type": "code",
   "execution_count": 258,
   "metadata": {},
   "outputs": [
    {
     "name": "stdout",
     "output_type": "stream",
     "text": [
      "The test set accuracy is 0.84\n",
      "The test set recall score is 0.846\n",
      "The test set precision score is 0.846\n",
      "The test set f1 score is 0.846\n"
     ]
    }
   ],
   "source": [
    "print(f\"The test set accuracy is {round(test_accuracy,3)}\")\n",
    "print(f\"The test set recall score is {round(test_recall,3)}\")\n",
    "print(f\"The test set precision score is {round(test_precision,3)}\")\n",
    "print(f\"The test set f1 score is {round(test_f1,3)}\")"
   ]
  },
  {
   "cell_type": "code",
   "execution_count": 259,
   "metadata": {},
   "outputs": [
    {
     "data": {
      "image/png": "[encoded data removed]",
      "text/plain": [
       "<Figure size 640x480 with 2 Axes>"
      ]
     },
     "metadata": {},
     "output_type": "display_data"
    }
   ],
   "source": [
    "cm = metrics.confusion_matrix(y_test, y_test_pred, labels = lr_classifier_8.classes_)\n",
    "fig, ax = plt.subplots()\n",
    "display_cm = metrics.ConfusionMatrixDisplay(confusion_matrix = cm, \n",
    "                                    display_labels = ['Fake_news', 'Real_news'])\n",
    "\n",
    "ax.set_xticks([0, 1])\n",
    "ax.set_yticks([0, 1])\n",
    "ax.set_xticklabels(labels = ['Fake_news', 'Real_news'], fontsize = 12)\n",
    "ax.set_yticklabels(labels = ['Fake_news', 'Real_news'], fontsize = 12)\n",
    "\n",
    "display_cm.plot(ax = ax)\n",
    "plt.show()"
   ]
  },
  {
   "cell_type": "code",
   "execution_count": 260,
   "metadata": {},
   "outputs": [],
   "source": [
    "result = dict(Test_Accuracy=round(test_accuracy,3), Test_Recall=round(test_recall,3), Test_Precision=round(test_precision,3),\\\n",
    "             Test_f1=round(test_f1,3))\n",
    "\n",
    "hyperparameter_table[10].update(result)"
   ]
  },
  {
   "cell_type": "markdown",
   "metadata": {},
   "source": [
    "### 3.3.13 Method_2 Test_12"
   ]
  },
  {
   "cell_type": "code",
   "execution_count": 261,
   "metadata": {},
   "outputs": [],
   "source": [
    "# Transform the test data using only the 'text' column values: count_test \n",
    "count_X_test = count_vectorizer_8.transform(X_test)"
   ]
  },
  {
   "cell_type": "code",
   "execution_count": 262,
   "metadata": {},
   "outputs": [],
   "source": [
    "y_test_pred = lr_classifier_9.predict(count_X_test)\n",
    "test_accuracy = metrics.accuracy_score(y_test, y_test_pred)\n",
    "test_recall = metrics.recall_score(y_test, y_test_pred, pos_label='real_news')\n",
    "test_precision = metrics.precision_score(y_test, y_test_pred, pos_label='real_news')\n",
    "test_f1 = metrics.f1_score(y_test, y_test_pred, pos_label='real_news')"
   ]
  },
  {
   "cell_type": "code",
   "execution_count": 263,
   "metadata": {},
   "outputs": [
    {
     "name": "stdout",
     "output_type": "stream",
     "text": [
      "The test set accuracy is 0.8\n",
      "The test set recall score is 0.769\n",
      "The test set precision score is 0.833\n",
      "The test set f1 score is 0.8\n"
     ]
    }
   ],
   "source": [
    "print(f\"The test set accuracy is {round(test_accuracy,3)}\")\n",
    "print(f\"The test set recall score is {round(test_recall,3)}\")\n",
    "print(f\"The test set precision score is {round(test_precision,3)}\")\n",
    "print(f\"The test set f1 score is {round(test_f1,3)}\")"
   ]
  },
  {
   "cell_type": "code",
   "execution_count": 264,
   "metadata": {},
   "outputs": [
    {
     "data": {
      "image/png": "[encoded data removed]",
      "text/plain": [
       "<Figure size 640x480 with 2 Axes>"
      ]
     },
     "metadata": {},
     "output_type": "display_data"
    }
   ],
   "source": [
    "cm = metrics.confusion_matrix(y_test, y_test_pred, labels = lr_classifier_9.classes_)\n",
    "fig, ax = plt.subplots()\n",
    "display_cm = metrics.ConfusionMatrixDisplay(confusion_matrix = cm, \n",
    "                                    display_labels = ['Fake_news', 'Real_news'])\n",
    "\n",
    "ax.set_xticks([0, 1])\n",
    "ax.set_yticks([0, 1])\n",
    "ax.set_xticklabels(labels = ['Fake_news', 'Real_news'], fontsize = 12)\n",
    "ax.set_yticklabels(labels = ['Fake_news', 'Real_news'], fontsize = 12)\n",
    "\n",
    "display_cm.plot(ax = ax)\n",
    "plt.show()"
   ]
  },
  {
   "cell_type": "code",
   "execution_count": 265,
   "metadata": {},
   "outputs": [],
   "source": [
    "result = dict(Test_Accuracy=round(test_accuracy,3), Test_Recall=round(test_recall,3), Test_Precision=round(test_precision,3),\\\n",
    "             Test_f1=round(test_f1,3))\n",
    "\n",
    "hyperparameter_table[11].update(result)"
   ]
  },
  {
   "cell_type": "markdown",
   "metadata": {},
   "source": [
    "### 3.3.14 Method_2 Test_13"
   ]
  },
  {
   "cell_type": "code",
   "execution_count": 266,
   "metadata": {},
   "outputs": [],
   "source": [
    "# Transform the test data using only the 'text' column values: count_test \n",
    "tfidf_X_test = tfidf_vectorizer_1.transform(X_test)"
   ]
  },
  {
   "cell_type": "code",
   "execution_count": 267,
   "metadata": {},
   "outputs": [],
   "source": [
    "y_test_pred = lr_classifier_10.predict(tfidf_X_test)\n",
    "test_accuracy = metrics.accuracy_score(y_test, y_test_pred)\n",
    "test_recall = metrics.recall_score(y_test, y_test_pred, pos_label='real_news')\n",
    "test_precision = metrics.precision_score(y_test, y_test_pred, pos_label='real_news')\n",
    "test_f1 = metrics.f1_score(y_test, y_test_pred, pos_label='real_news')"
   ]
  },
  {
   "cell_type": "code",
   "execution_count": 268,
   "metadata": {},
   "outputs": [
    {
     "name": "stdout",
     "output_type": "stream",
     "text": [
      "The test set accuracy is 0.84\n",
      "The test set recall score is 0.846\n",
      "The test set precision score is 0.846\n",
      "The test set f1 score is 0.846\n"
     ]
    }
   ],
   "source": [
    "print(f\"The test set accuracy is {round(test_accuracy,3)}\")\n",
    "print(f\"The test set recall score is {round(test_recall,3)}\")\n",
    "print(f\"The test set precision score is {round(test_precision,3)}\")\n",
    "print(f\"The test set f1 score is {round(test_f1,3)}\")"
   ]
  },
  {
   "cell_type": "code",
   "execution_count": 269,
   "metadata": {},
   "outputs": [
    {
     "data": {
      "image/png": "[encoded data removed]",
      "text/plain": [
       "<Figure size 640x480 with 2 Axes>"
      ]
     },
     "metadata": {},
     "output_type": "display_data"
    }
   ],
   "source": [
    "cm = metrics.confusion_matrix(y_test, y_test_pred, labels = lr_classifier_10.classes_)\n",
    "fig, ax = plt.subplots()\n",
    "display_cm = metrics.ConfusionMatrixDisplay(confusion_matrix = cm, \n",
    "                                    display_labels = ['Fake_news', 'Real_news'])\n",
    "\n",
    "ax.set_xticks([0, 1])\n",
    "ax.set_yticks([0, 1])\n",
    "ax.set_xticklabels(labels = ['Fake_news', 'Real_news'], fontsize = 12)\n",
    "ax.set_yticklabels(labels = ['Fake_news', 'Real_news'], fontsize = 12)\n",
    "\n",
    "display_cm.plot(ax = ax)\n",
    "plt.show()"
   ]
  },
  {
   "cell_type": "code",
   "execution_count": 270,
   "metadata": {},
   "outputs": [],
   "source": [
    "result = dict(Test_Accuracy=round(test_accuracy,3), Test_Recall=round(test_recall,3), Test_Precision=round(test_precision,3),\\\n",
    "             Test_f1=round(test_f1,3))\n",
    "\n",
    "hyperparameter_table[12].update(result)"
   ]
  },
  {
   "cell_type": "markdown",
   "metadata": {},
   "source": [
    "### 3.3.15 Method_2 Test_14"
   ]
  },
  {
   "cell_type": "code",
   "execution_count": 271,
   "metadata": {},
   "outputs": [],
   "source": [
    "# Transform the test data using only the 'text' column values: count_test \n",
    "tfidf_X_test = tfidf_vectorizer_2.transform(X_test)"
   ]
  },
  {
   "cell_type": "code",
   "execution_count": 272,
   "metadata": {},
   "outputs": [],
   "source": [
    "y_test_pred = lr_classifier_11.predict(tfidf_X_test)\n",
    "test_accuracy = metrics.accuracy_score(y_test, y_test_pred)\n",
    "test_recall = metrics.recall_score(y_test, y_test_pred, pos_label='real_news')\n",
    "test_precision = metrics.precision_score(y_test, y_test_pred, pos_label='real_news')\n",
    "test_f1 = metrics.f1_score(y_test, y_test_pred, pos_label='real_news')"
   ]
  },
  {
   "cell_type": "code",
   "execution_count": 273,
   "metadata": {},
   "outputs": [
    {
     "name": "stdout",
     "output_type": "stream",
     "text": [
      "The test set accuracy is 0.92\n",
      "The test set recall score is 0.923\n",
      "The test set precision score is 0.923\n",
      "The test set f1 score is 0.923\n"
     ]
    }
   ],
   "source": [
    "print(f\"The test set accuracy is {round(test_accuracy,3)}\")\n",
    "print(f\"The test set recall score is {round(test_recall,3)}\")\n",
    "print(f\"The test set precision score is {round(test_precision,3)}\")\n",
    "print(f\"The test set f1 score is {round(test_f1,3)}\")"
   ]
  },
  {
   "cell_type": "code",
   "execution_count": 274,
   "metadata": {},
   "outputs": [
    {
     "data": {
      "image/png": "[encoded data removed]",
      "text/plain": [
       "<Figure size 640x480 with 2 Axes>"
      ]
     },
     "metadata": {},
     "output_type": "display_data"
    }
   ],
   "source": [
    "cm = metrics.confusion_matrix(y_test, y_test_pred, labels = lr_classifier_11.classes_)\n",
    "fig, ax = plt.subplots()\n",
    "display_cm = metrics.ConfusionMatrixDisplay(confusion_matrix = cm, \n",
    "                                    display_labels = ['Fake_news', 'Real_news'])\n",
    "\n",
    "ax.set_xticks([0, 1])\n",
    "ax.set_yticks([0, 1])\n",
    "ax.set_xticklabels(labels = ['Fake_news', 'Real_news'], fontsize = 12)\n",
    "ax.set_yticklabels(labels = ['Fake_news', 'Real_news'], fontsize = 12)\n",
    "\n",
    "display_cm.plot(ax = ax)\n",
    "plt.show()"
   ]
  },
  {
   "cell_type": "code",
   "execution_count": 275,
   "metadata": {},
   "outputs": [],
   "source": [
    "result = dict(Test_Accuracy=round(test_accuracy,3), Test_Recall=round(test_recall,3), Test_Precision=round(test_precision,3),\\\n",
    "             Test_f1=round(test_f1,3))\n",
    "\n",
    "hyperparameter_table[13].update(result)"
   ]
  },
  {
   "cell_type": "markdown",
   "metadata": {},
   "source": [
    "### 3.3.16 Method_2 Test_15"
   ]
  },
  {
   "cell_type": "code",
   "execution_count": 276,
   "metadata": {},
   "outputs": [],
   "source": [
    "# Transform the test data using only the 'text' column values: count_test \n",
    "tfidf_X_test = tfidf_vectorizer_3.transform(X_test)"
   ]
  },
  {
   "cell_type": "code",
   "execution_count": 277,
   "metadata": {},
   "outputs": [],
   "source": [
    "y_test_pred = lr_classifier_12.predict(tfidf_X_test)\n",
    "test_accuracy = metrics.accuracy_score(y_test, y_test_pred)\n",
    "test_recall = metrics.recall_score(y_test, y_test_pred, pos_label='real_news')\n",
    "test_precision = metrics.precision_score(y_test, y_test_pred, pos_label='real_news')\n",
    "test_f1 = metrics.f1_score(y_test, y_test_pred, pos_label='real_news')"
   ]
  },
  {
   "cell_type": "code",
   "execution_count": 278,
   "metadata": {},
   "outputs": [
    {
     "name": "stdout",
     "output_type": "stream",
     "text": [
      "The test set accuracy is 0.88\n",
      "The test set recall score is 0.846\n",
      "The test set precision score is 0.917\n",
      "The test set f1 score is 0.88\n"
     ]
    }
   ],
   "source": [
    "print(f\"The test set accuracy is {round(test_accuracy,3)}\")\n",
    "print(f\"The test set recall score is {round(test_recall,3)}\")\n",
    "print(f\"The test set precision score is {round(test_precision,3)}\")\n",
    "print(f\"The test set f1 score is {round(test_f1,3)}\")"
   ]
  },
  {
   "cell_type": "code",
   "execution_count": 279,
   "metadata": {},
   "outputs": [
    {
     "data": {
      "image/png": "[encoded data removed]",
      "text/plain": [
       "<Figure size 640x480 with 2 Axes>"
      ]
     },
     "metadata": {},
     "output_type": "display_data"
    }
   ],
   "source": [
    "cm = metrics.confusion_matrix(y_test, y_test_pred, labels = lr_classifier_12.classes_)\n",
    "fig, ax = plt.subplots()\n",
    "display_cm = metrics.ConfusionMatrixDisplay(confusion_matrix = cm, \n",
    "                                    display_labels = ['Fake_news', 'Real_news'])\n",
    "\n",
    "ax.set_xticks([0, 1])\n",
    "ax.set_yticks([0, 1])\n",
    "ax.set_xticklabels(labels = ['Fake_news', 'Real_news'], fontsize = 12)\n",
    "ax.set_yticklabels(labels = ['Fake_news', 'Real_news'], fontsize = 12)\n",
    "\n",
    "display_cm.plot(ax = ax)\n",
    "plt.show()"
   ]
  },
  {
   "cell_type": "code",
   "execution_count": 280,
   "metadata": {},
   "outputs": [],
   "source": [
    "result = dict(Test_Accuracy=round(test_accuracy,3), Test_Recall=round(test_recall,3), Test_Precision=round(test_precision,3),\\\n",
    "             Test_f1=round(test_f1,3))\n",
    "\n",
    "hyperparameter_table[14].update(result)"
   ]
  },
  {
   "cell_type": "markdown",
   "metadata": {},
   "source": [
    "### 3.3.17 Method_2 Test_16"
   ]
  },
  {
   "cell_type": "code",
   "execution_count": 281,
   "metadata": {},
   "outputs": [],
   "source": [
    "# Transform the test data using only the 'text' column values: count_test \n",
    "tfidf_X_test = tfidf_vectorizer_4.transform(X_test)"
   ]
  },
  {
   "cell_type": "code",
   "execution_count": 282,
   "metadata": {},
   "outputs": [],
   "source": [
    "y_test_pred = lr_classifier_13.predict(tfidf_X_test)\n",
    "test_accuracy = metrics.accuracy_score(y_test, y_test_pred)\n",
    "test_recall = metrics.recall_score(y_test, y_test_pred, pos_label='real_news')\n",
    "test_precision = metrics.precision_score(y_test, y_test_pred, pos_label='real_news')\n",
    "test_f1 = metrics.f1_score(y_test, y_test_pred, pos_label='real_news')"
   ]
  },
  {
   "cell_type": "code",
   "execution_count": 283,
   "metadata": {},
   "outputs": [
    {
     "name": "stdout",
     "output_type": "stream",
     "text": [
      "The test set accuracy is 0.92\n",
      "The test set recall score is 0.846\n",
      "The test set precision score is 1.0\n",
      "The test set f1 score is 0.917\n"
     ]
    }
   ],
   "source": [
    "print(f\"The test set accuracy is {round(test_accuracy,3)}\")\n",
    "print(f\"The test set recall score is {round(test_recall,3)}\")\n",
    "print(f\"The test set precision score is {round(test_precision,3)}\")\n",
    "print(f\"The test set f1 score is {round(test_f1,3)}\")"
   ]
  },
  {
   "cell_type": "code",
   "execution_count": 284,
   "metadata": {},
   "outputs": [
    {
     "data": {
      "image/png": "[encoded data removed]",
      "text/plain": [
       "<Figure size 640x480 with 2 Axes>"
      ]
     },
     "metadata": {},
     "output_type": "display_data"
    }
   ],
   "source": [
    "cm = metrics.confusion_matrix(y_test, y_test_pred, labels = lr_classifier_13.classes_)\n",
    "fig, ax = plt.subplots()\n",
    "display_cm = metrics.ConfusionMatrixDisplay(confusion_matrix = cm, \n",
    "                                    display_labels = ['Fake_news', 'Real_news'])\n",
    "\n",
    "ax.set_xticks([0, 1])\n",
    "ax.set_yticks([0, 1])\n",
    "ax.set_xticklabels(labels = ['Fake_news', 'Real_news'], fontsize = 12)\n",
    "ax.set_yticklabels(labels = ['Fake_news', 'Real_news'], fontsize = 12)\n",
    "\n",
    "display_cm.plot(ax = ax)\n",
    "plt.show()"
   ]
  },
  {
   "cell_type": "code",
   "execution_count": 285,
   "metadata": {},
   "outputs": [],
   "source": [
    "result = dict(Test_Accuracy=round(test_accuracy,3), Test_Recall=round(test_recall,3), Test_Precision=round(test_precision,3),\\\n",
    "             Test_f1=round(test_f1,3))\n",
    "\n",
    "hyperparameter_table[15].update(result)"
   ]
  },
  {
   "cell_type": "markdown",
   "metadata": {},
   "source": [
    "### 3.3.18 Method_2 Test_17"
   ]
  },
  {
   "cell_type": "code",
   "execution_count": 286,
   "metadata": {},
   "outputs": [],
   "source": [
    "# Transform the test data using only the 'text' column values: count_test \n",
    "tfidf_X_test = tfidf_vectorizer_5.transform(X_test)"
   ]
  },
  {
   "cell_type": "code",
   "execution_count": 287,
   "metadata": {},
   "outputs": [],
   "source": [
    "y_test_pred = lr_classifier_14.predict(tfidf_X_test)\n",
    "test_accuracy = metrics.accuracy_score(y_test, y_test_pred)\n",
    "test_recall = metrics.recall_score(y_test, y_test_pred, pos_label='real_news')\n",
    "test_precision = metrics.precision_score(y_test, y_test_pred, pos_label='real_news')\n",
    "test_f1 = metrics.f1_score(y_test, y_test_pred, pos_label='real_news')"
   ]
  },
  {
   "cell_type": "code",
   "execution_count": 288,
   "metadata": {},
   "outputs": [
    {
     "name": "stdout",
     "output_type": "stream",
     "text": [
      "The test set accuracy is 0.92\n",
      "The test set recall score is 0.846\n",
      "The test set precision score is 1.0\n",
      "The test set f1 score is 0.917\n"
     ]
    }
   ],
   "source": [
    "print(f\"The test set accuracy is {round(test_accuracy,3)}\")\n",
    "print(f\"The test set recall score is {round(test_recall,3)}\")\n",
    "print(f\"The test set precision score is {round(test_precision,3)}\")\n",
    "print(f\"The test set f1 score is {round(test_f1,3)}\")"
   ]
  },
  {
   "cell_type": "code",
   "execution_count": 289,
   "metadata": {},
   "outputs": [
    {
     "data": {
      "image/png": "[encoded data removed]",
      "text/plain": [
       "<Figure size 640x480 with 2 Axes>"
      ]
     },
     "metadata": {},
     "output_type": "display_data"
    }
   ],
   "source": [
    "cm = metrics.confusion_matrix(y_test, y_test_pred, labels = lr_classifier_14.classes_)\n",
    "fig, ax = plt.subplots()\n",
    "display_cm = metrics.ConfusionMatrixDisplay(confusion_matrix = cm, \n",
    "                                    display_labels = ['Fake_news', 'Real_news'])\n",
    "\n",
    "ax.set_xticks([0, 1])\n",
    "ax.set_yticks([0, 1])\n",
    "ax.set_xticklabels(labels = ['Fake_news', 'Real_news'], fontsize = 12)\n",
    "ax.set_yticklabels(labels = ['Fake_news', 'Real_news'], fontsize = 12)\n",
    "\n",
    "display_cm.plot(ax = ax)\n",
    "plt.show()"
   ]
  },
  {
   "cell_type": "code",
   "execution_count": 290,
   "metadata": {},
   "outputs": [],
   "source": [
    "result = dict(Test_Accuracy=round(test_accuracy,3), Test_Recall=round(test_recall,3), Test_Precision=round(test_precision,3),\\\n",
    "             Test_f1=round(test_f1,3))\n",
    "\n",
    "hyperparameter_table[16].update(result)"
   ]
  },
  {
   "cell_type": "markdown",
   "metadata": {},
   "source": [
    "## 3.4 Hyperparameter Table"
   ]
  },
  {
   "cell_type": "code",
   "execution_count": 291,
   "metadata": {},
   "outputs": [
    {
     "data": {
      "text/html": [
       "<div>\n",
       "<style scoped>\n",
       "    .dataframe tbody tr th:only-of-type {\n",
       "        vertical-align: middle;\n",
       "    }\n",
       "\n",
       "    .dataframe tbody tr th {\n",
       "        vertical-align: top;\n",
       "    }\n",
       "\n",
       "    .dataframe thead th {\n",
       "        text-align: right;\n",
       "    }\n",
       "</style>\n",
       "<table border=\"1\" class=\"dataframe\">\n",
       "  <thead>\n",
       "    <tr style=\"text-align: right;\">\n",
       "      <th></th>\n",
       "      <th>Model_Name</th>\n",
       "      <th>n_Num</th>\n",
       "      <th>n_Cat</th>\n",
       "      <th>Cat_Encode</th>\n",
       "      <th>Test_P</th>\n",
       "      <th>Scale</th>\n",
       "      <th>Cross_Val</th>\n",
       "      <th>CV</th>\n",
       "      <th>Train_Accuracy</th>\n",
       "      <th>Val_Accuracy</th>\n",
       "      <th>Val_Recall</th>\n",
       "      <th>Val_Precision</th>\n",
       "      <th>Test_Accuracy</th>\n",
       "      <th>Test_Recall</th>\n",
       "      <th>Test_Precision</th>\n",
       "      <th>Test_f1</th>\n",
       "      <th>Nlp_Encode</th>\n",
       "      <th>n_Vector</th>\n",
       "      <th>ngram_range</th>\n",
       "      <th>Del_HCoff</th>\n",
       "      <th>max_df</th>\n",
       "      <th>min_df</th>\n",
       "    </tr>\n",
       "    <tr>\n",
       "      <th>Exp</th>\n",
       "      <th></th>\n",
       "      <th></th>\n",
       "      <th></th>\n",
       "      <th></th>\n",
       "      <th></th>\n",
       "      <th></th>\n",
       "      <th></th>\n",
       "      <th></th>\n",
       "      <th></th>\n",
       "      <th></th>\n",
       "      <th></th>\n",
       "      <th></th>\n",
       "      <th></th>\n",
       "      <th></th>\n",
       "      <th></th>\n",
       "      <th></th>\n",
       "      <th></th>\n",
       "      <th></th>\n",
       "      <th></th>\n",
       "      <th></th>\n",
       "      <th></th>\n",
       "      <th></th>\n",
       "    </tr>\n",
       "  </thead>\n",
       "  <tbody>\n",
       "    <tr>\n",
       "      <th>9</th>\n",
       "      <td>Logistic Regression</td>\n",
       "      <td>0</td>\n",
       "      <td>1</td>\n",
       "      <td>NaN</td>\n",
       "      <td>0.1</td>\n",
       "      <td>No</td>\n",
       "      <td>Yes</td>\n",
       "      <td>5</td>\n",
       "      <td>0.947</td>\n",
       "      <td>0.944</td>\n",
       "      <td>0.962</td>\n",
       "      <td>0.938</td>\n",
       "      <td>0.92</td>\n",
       "      <td>1.000</td>\n",
       "      <td>0.867</td>\n",
       "      <td>0.929</td>\n",
       "      <td>CountVectorizer()</td>\n",
       "      <td>292.0</td>\n",
       "      <td>(1, 1)</td>\n",
       "      <td>Yes</td>\n",
       "      <td>0.8</td>\n",
       "      <td>0.1</td>\n",
       "    </tr>\n",
       "    <tr>\n",
       "      <th>14</th>\n",
       "      <td>Logistic Regression</td>\n",
       "      <td>0</td>\n",
       "      <td>1</td>\n",
       "      <td>NaN</td>\n",
       "      <td>0.1</td>\n",
       "      <td>No</td>\n",
       "      <td>Yes</td>\n",
       "      <td>5</td>\n",
       "      <td>0.951</td>\n",
       "      <td>0.944</td>\n",
       "      <td>0.961</td>\n",
       "      <td>0.939</td>\n",
       "      <td>0.92</td>\n",
       "      <td>0.923</td>\n",
       "      <td>0.923</td>\n",
       "      <td>0.923</td>\n",
       "      <td>TfidfVectorizer()</td>\n",
       "      <td>292.0</td>\n",
       "      <td>(1, 1)</td>\n",
       "      <td>Yes</td>\n",
       "      <td>0.8</td>\n",
       "      <td>0.1</td>\n",
       "    </tr>\n",
       "    <tr>\n",
       "      <th>7</th>\n",
       "      <td>Logistic Regression</td>\n",
       "      <td>0</td>\n",
       "      <td>1</td>\n",
       "      <td>NaN</td>\n",
       "      <td>0.1</td>\n",
       "      <td>No</td>\n",
       "      <td>Yes</td>\n",
       "      <td>5</td>\n",
       "      <td>0.972</td>\n",
       "      <td>0.970</td>\n",
       "      <td>0.976</td>\n",
       "      <td>0.970</td>\n",
       "      <td>0.92</td>\n",
       "      <td>0.846</td>\n",
       "      <td>1.000</td>\n",
       "      <td>0.917</td>\n",
       "      <td>CountVectorizer()</td>\n",
       "      <td>109537.0</td>\n",
       "      <td>(1, 1)</td>\n",
       "      <td>Yes</td>\n",
       "      <td>0.8</td>\n",
       "      <td>NaN</td>\n",
       "    </tr>\n",
       "    <tr>\n",
       "      <th>16</th>\n",
       "      <td>Logistic Regression</td>\n",
       "      <td>0</td>\n",
       "      <td>1</td>\n",
       "      <td>NaN</td>\n",
       "      <td>0.1</td>\n",
       "      <td>No</td>\n",
       "      <td>Yes</td>\n",
       "      <td>5</td>\n",
       "      <td>0.972</td>\n",
       "      <td>0.971</td>\n",
       "      <td>0.979</td>\n",
       "      <td>0.968</td>\n",
       "      <td>0.92</td>\n",
       "      <td>0.846</td>\n",
       "      <td>1.000</td>\n",
       "      <td>0.917</td>\n",
       "      <td>TfidfVectorizer()</td>\n",
       "      <td>109537.0</td>\n",
       "      <td>(1, 1)</td>\n",
       "      <td>Yes</td>\n",
       "      <td>0.8</td>\n",
       "      <td>NaN</td>\n",
       "    </tr>\n",
       "    <tr>\n",
       "      <th>17</th>\n",
       "      <td>Logistic Regression</td>\n",
       "      <td>0</td>\n",
       "      <td>1</td>\n",
       "      <td>NaN</td>\n",
       "      <td>0.1</td>\n",
       "      <td>No</td>\n",
       "      <td>Yes</td>\n",
       "      <td>5</td>\n",
       "      <td>0.973</td>\n",
       "      <td>0.971</td>\n",
       "      <td>0.977</td>\n",
       "      <td>0.970</td>\n",
       "      <td>0.92</td>\n",
       "      <td>0.846</td>\n",
       "      <td>1.000</td>\n",
       "      <td>0.917</td>\n",
       "      <td>TfidfVectorizer()</td>\n",
       "      <td>109545.0</td>\n",
       "      <td>(1, 1)</td>\n",
       "      <td>Yes</td>\n",
       "      <td>NaN</td>\n",
       "      <td>NaN</td>\n",
       "    </tr>\n",
       "    <tr>\n",
       "      <th>8</th>\n",
       "      <td>Logistic Regression</td>\n",
       "      <td>0</td>\n",
       "      <td>1</td>\n",
       "      <td>NaN</td>\n",
       "      <td>0.1</td>\n",
       "      <td>No</td>\n",
       "      <td>Yes</td>\n",
       "      <td>5</td>\n",
       "      <td>0.952</td>\n",
       "      <td>0.953</td>\n",
       "      <td>0.966</td>\n",
       "      <td>0.950</td>\n",
       "      <td>0.88</td>\n",
       "      <td>0.923</td>\n",
       "      <td>0.857</td>\n",
       "      <td>0.889</td>\n",
       "      <td>CountVectorizer()</td>\n",
       "      <td>300.0</td>\n",
       "      <td>(1, 1)</td>\n",
       "      <td>Yes</td>\n",
       "      <td>NaN</td>\n",
       "      <td>0.1</td>\n",
       "    </tr>\n",
       "    <tr>\n",
       "      <th>15</th>\n",
       "      <td>Logistic Regression</td>\n",
       "      <td>0</td>\n",
       "      <td>1</td>\n",
       "      <td>NaN</td>\n",
       "      <td>0.1</td>\n",
       "      <td>No</td>\n",
       "      <td>Yes</td>\n",
       "      <td>5</td>\n",
       "      <td>0.956</td>\n",
       "      <td>0.952</td>\n",
       "      <td>0.964</td>\n",
       "      <td>0.950</td>\n",
       "      <td>0.88</td>\n",
       "      <td>0.846</td>\n",
       "      <td>0.917</td>\n",
       "      <td>0.880</td>\n",
       "      <td>TfidfVectorizer()</td>\n",
       "      <td>300.0</td>\n",
       "      <td>(1, 1)</td>\n",
       "      <td>Yes</td>\n",
       "      <td>NaN</td>\n",
       "      <td>0.1</td>\n",
       "    </tr>\n",
       "    <tr>\n",
       "      <th>6</th>\n",
       "      <td>Logistic Regression</td>\n",
       "      <td>0</td>\n",
       "      <td>1</td>\n",
       "      <td>NaN</td>\n",
       "      <td>0.1</td>\n",
       "      <td>No</td>\n",
       "      <td>Yes</td>\n",
       "      <td>5</td>\n",
       "      <td>0.974</td>\n",
       "      <td>0.973</td>\n",
       "      <td>0.981</td>\n",
       "      <td>0.971</td>\n",
       "      <td>0.88</td>\n",
       "      <td>0.769</td>\n",
       "      <td>1.000</td>\n",
       "      <td>0.870</td>\n",
       "      <td>CountVectorizer()</td>\n",
       "      <td>109545.0</td>\n",
       "      <td>(1, 1)</td>\n",
       "      <td>Yes</td>\n",
       "      <td>NaN</td>\n",
       "      <td>NaN</td>\n",
       "    </tr>\n",
       "    <tr>\n",
       "      <th>5</th>\n",
       "      <td>Logistic Regression</td>\n",
       "      <td>0</td>\n",
       "      <td>1</td>\n",
       "      <td>NaN</td>\n",
       "      <td>0.1</td>\n",
       "      <td>No</td>\n",
       "      <td>Yes</td>\n",
       "      <td>5</td>\n",
       "      <td>0.995</td>\n",
       "      <td>0.993</td>\n",
       "      <td>0.996</td>\n",
       "      <td>0.992</td>\n",
       "      <td>0.88</td>\n",
       "      <td>0.769</td>\n",
       "      <td>1.000</td>\n",
       "      <td>0.870</td>\n",
       "      <td>CountVectorizer()</td>\n",
       "      <td>115418.0</td>\n",
       "      <td>(1, 1)</td>\n",
       "      <td>NaN</td>\n",
       "      <td>NaN</td>\n",
       "      <td>NaN</td>\n",
       "    </tr>\n",
       "    <tr>\n",
       "      <th>11</th>\n",
       "      <td>Logistic Regression</td>\n",
       "      <td>0</td>\n",
       "      <td>1</td>\n",
       "      <td>NaN</td>\n",
       "      <td>0.1</td>\n",
       "      <td>No</td>\n",
       "      <td>Yes</td>\n",
       "      <td>5</td>\n",
       "      <td>0.960</td>\n",
       "      <td>0.958</td>\n",
       "      <td>0.967</td>\n",
       "      <td>0.957</td>\n",
       "      <td>0.84</td>\n",
       "      <td>0.846</td>\n",
       "      <td>0.846</td>\n",
       "      <td>0.846</td>\n",
       "      <td>CountVectorizer()</td>\n",
       "      <td>383.0</td>\n",
       "      <td>(1, 2)</td>\n",
       "      <td>Yes</td>\n",
       "      <td>0.8</td>\n",
       "      <td>0.1</td>\n",
       "    </tr>\n",
       "    <tr>\n",
       "      <th>13</th>\n",
       "      <td>Logistic Regression</td>\n",
       "      <td>0</td>\n",
       "      <td>1</td>\n",
       "      <td>NaN</td>\n",
       "      <td>0.1</td>\n",
       "      <td>No</td>\n",
       "      <td>Yes</td>\n",
       "      <td>5</td>\n",
       "      <td>0.960</td>\n",
       "      <td>0.958</td>\n",
       "      <td>0.968</td>\n",
       "      <td>0.956</td>\n",
       "      <td>0.84</td>\n",
       "      <td>0.846</td>\n",
       "      <td>0.846</td>\n",
       "      <td>0.846</td>\n",
       "      <td>TfidfVectorizer()</td>\n",
       "      <td>383.0</td>\n",
       "      <td>(1, 2)</td>\n",
       "      <td>Yes</td>\n",
       "      <td>0.8</td>\n",
       "      <td>0.1</td>\n",
       "    </tr>\n",
       "    <tr>\n",
       "      <th>12</th>\n",
       "      <td>Logistic Regression</td>\n",
       "      <td>0</td>\n",
       "      <td>1</td>\n",
       "      <td>NaN</td>\n",
       "      <td>0.1</td>\n",
       "      <td>No</td>\n",
       "      <td>Yes</td>\n",
       "      <td>5</td>\n",
       "      <td>0.932</td>\n",
       "      <td>0.932</td>\n",
       "      <td>0.954</td>\n",
       "      <td>0.925</td>\n",
       "      <td>0.80</td>\n",
       "      <td>0.769</td>\n",
       "      <td>0.833</td>\n",
       "      <td>0.800</td>\n",
       "      <td>CountVectorizer()</td>\n",
       "      <td>143.0</td>\n",
       "      <td>(1, 2)</td>\n",
       "      <td>Yes</td>\n",
       "      <td>0.8</td>\n",
       "      <td>0.2</td>\n",
       "    </tr>\n",
       "    <tr>\n",
       "      <th>4</th>\n",
       "      <td>XGBoost Classifier</td>\n",
       "      <td>9</td>\n",
       "      <td>2</td>\n",
       "      <td>pd.get_dimmies()</td>\n",
       "      <td>0.1</td>\n",
       "      <td>No</td>\n",
       "      <td>Yes</td>\n",
       "      <td>5</td>\n",
       "      <td>0.918</td>\n",
       "      <td>0.924</td>\n",
       "      <td>0.947</td>\n",
       "      <td>0.918</td>\n",
       "      <td>0.76</td>\n",
       "      <td>0.615</td>\n",
       "      <td>0.889</td>\n",
       "      <td>0.727</td>\n",
       "      <td>NaN</td>\n",
       "      <td>NaN</td>\n",
       "      <td>NaN</td>\n",
       "      <td>NaN</td>\n",
       "      <td>NaN</td>\n",
       "      <td>NaN</td>\n",
       "    </tr>\n",
       "    <tr>\n",
       "      <th>2</th>\n",
       "      <td>RandomForest Classifier</td>\n",
       "      <td>9</td>\n",
       "      <td>2</td>\n",
       "      <td>pd.get_dimmies()</td>\n",
       "      <td>0.1</td>\n",
       "      <td>No</td>\n",
       "      <td>Yes</td>\n",
       "      <td>5</td>\n",
       "      <td>0.919</td>\n",
       "      <td>0.923</td>\n",
       "      <td>0.947</td>\n",
       "      <td>0.915</td>\n",
       "      <td>0.72</td>\n",
       "      <td>0.538</td>\n",
       "      <td>0.875</td>\n",
       "      <td>0.667</td>\n",
       "      <td>NaN</td>\n",
       "      <td>NaN</td>\n",
       "      <td>NaN</td>\n",
       "      <td>NaN</td>\n",
       "      <td>NaN</td>\n",
       "      <td>NaN</td>\n",
       "    </tr>\n",
       "    <tr>\n",
       "      <th>10</th>\n",
       "      <td>Logistic Regression</td>\n",
       "      <td>0</td>\n",
       "      <td>1</td>\n",
       "      <td>NaN</td>\n",
       "      <td>0.1</td>\n",
       "      <td>No</td>\n",
       "      <td>Yes</td>\n",
       "      <td>5</td>\n",
       "      <td>0.901</td>\n",
       "      <td>0.895</td>\n",
       "      <td>0.901</td>\n",
       "      <td>0.908</td>\n",
       "      <td>0.60</td>\n",
       "      <td>0.692</td>\n",
       "      <td>0.600</td>\n",
       "      <td>0.643</td>\n",
       "      <td>CountVectorizer()</td>\n",
       "      <td>91.0</td>\n",
       "      <td>(2, 2)</td>\n",
       "      <td>Yes</td>\n",
       "      <td>0.8</td>\n",
       "      <td>0.1</td>\n",
       "    </tr>\n",
       "    <tr>\n",
       "      <th>3</th>\n",
       "      <td>GradientBoost Classifier</td>\n",
       "      <td>9</td>\n",
       "      <td>2</td>\n",
       "      <td>pd.get_dimmies()</td>\n",
       "      <td>0.1</td>\n",
       "      <td>No</td>\n",
       "      <td>Yes</td>\n",
       "      <td>5</td>\n",
       "      <td>0.919</td>\n",
       "      <td>0.921</td>\n",
       "      <td>0.956</td>\n",
       "      <td>0.907</td>\n",
       "      <td>0.68</td>\n",
       "      <td>0.462</td>\n",
       "      <td>0.857</td>\n",
       "      <td>0.600</td>\n",
       "      <td>NaN</td>\n",
       "      <td>NaN</td>\n",
       "      <td>NaN</td>\n",
       "      <td>NaN</td>\n",
       "      <td>NaN</td>\n",
       "      <td>NaN</td>\n",
       "    </tr>\n",
       "    <tr>\n",
       "      <th>1</th>\n",
       "      <td>Logistic Regression</td>\n",
       "      <td>9</td>\n",
       "      <td>2</td>\n",
       "      <td>pd.get_dimmies()</td>\n",
       "      <td>0.1</td>\n",
       "      <td>No</td>\n",
       "      <td>Yes</td>\n",
       "      <td>5</td>\n",
       "      <td>0.890</td>\n",
       "      <td>0.895</td>\n",
       "      <td>0.929</td>\n",
       "      <td>0.886</td>\n",
       "      <td>0.60</td>\n",
       "      <td>0.308</td>\n",
       "      <td>0.800</td>\n",
       "      <td>0.444</td>\n",
       "      <td>NaN</td>\n",
       "      <td>NaN</td>\n",
       "      <td>NaN</td>\n",
       "      <td>NaN</td>\n",
       "      <td>NaN</td>\n",
       "      <td>NaN</td>\n",
       "    </tr>\n",
       "  </tbody>\n",
       "</table>\n",
       "</div>"
      ],
      "text/plain": [
       "                   Model_Name  n_Num  n_Cat        Cat_Encode  Test_P Scale  \\\n",
       "Exp                                                                           \n",
       "9         Logistic Regression      0      1               NaN     0.1    No   \n",
       "14        Logistic Regression      0      1               NaN     0.1    No   \n",
       "7         Logistic Regression      0      1               NaN     0.1    No   \n",
       "16        Logistic Regression      0      1               NaN     0.1    No   \n",
       "17        Logistic Regression      0      1               NaN     0.1    No   \n",
       "8         Logistic Regression      0      1               NaN     0.1    No   \n",
       "15        Logistic Regression      0      1               NaN     0.1    No   \n",
       "6         Logistic Regression      0      1               NaN     0.1    No   \n",
       "5         Logistic Regression      0      1               NaN     0.1    No   \n",
       "11        Logistic Regression      0      1               NaN     0.1    No   \n",
       "13        Logistic Regression      0      1               NaN     0.1    No   \n",
       "12        Logistic Regression      0      1               NaN     0.1    No   \n",
       "4          XGBoost Classifier      9      2  pd.get_dimmies()     0.1    No   \n",
       "2     RandomForest Classifier      9      2  pd.get_dimmies()     0.1    No   \n",
       "10        Logistic Regression      0      1               NaN     0.1    No   \n",
       "3    GradientBoost Classifier      9      2  pd.get_dimmies()     0.1    No   \n",
       "1         Logistic Regression      9      2  pd.get_dimmies()     0.1    No   \n",
       "\n",
       "    Cross_Val  CV  Train_Accuracy  Val_Accuracy  Val_Recall  Val_Precision  \\\n",
       "Exp                                                                          \n",
       "9         Yes   5           0.947         0.944       0.962          0.938   \n",
       "14        Yes   5           0.951         0.944       0.961          0.939   \n",
       "7         Yes   5           0.972         0.970       0.976          0.970   \n",
       "16        Yes   5           0.972         0.971       0.979          0.968   \n",
       "17        Yes   5           0.973         0.971       0.977          0.970   \n",
       "8         Yes   5           0.952         0.953       0.966          0.950   \n",
       "15        Yes   5           0.956         0.952       0.964          0.950   \n",
       "6         Yes   5           0.974         0.973       0.981          0.971   \n",
       "5         Yes   5           0.995         0.993       0.996          0.992   \n",
       "11        Yes   5           0.960         0.958       0.967          0.957   \n",
       "13        Yes   5           0.960         0.958       0.968          0.956   \n",
       "12        Yes   5           0.932         0.932       0.954          0.925   \n",
       "4         Yes   5           0.918         0.924       0.947          0.918   \n",
       "2         Yes   5           0.919         0.923       0.947          0.915   \n",
       "10        Yes   5           0.901         0.895       0.901          0.908   \n",
       "3         Yes   5           0.919         0.921       0.956          0.907   \n",
       "1         Yes   5           0.890         0.895       0.929          0.886   \n",
       "\n",
       "     Test_Accuracy  Test_Recall  Test_Precision  Test_f1         Nlp_Encode  \\\n",
       "Exp                                                                           \n",
       "9             0.92        1.000           0.867    0.929  CountVectorizer()   \n",
       "14            0.92        0.923           0.923    0.923  TfidfVectorizer()   \n",
       "7             0.92        0.846           1.000    0.917  CountVectorizer()   \n",
       "16            0.92        0.846           1.000    0.917  TfidfVectorizer()   \n",
       "17            0.92        0.846           1.000    0.917  TfidfVectorizer()   \n",
       "8             0.88        0.923           0.857    0.889  CountVectorizer()   \n",
       "15            0.88        0.846           0.917    0.880  TfidfVectorizer()   \n",
       "6             0.88        0.769           1.000    0.870  CountVectorizer()   \n",
       "5             0.88        0.769           1.000    0.870  CountVectorizer()   \n",
       "11            0.84        0.846           0.846    0.846  CountVectorizer()   \n",
       "13            0.84        0.846           0.846    0.846  TfidfVectorizer()   \n",
       "12            0.80        0.769           0.833    0.800  CountVectorizer()   \n",
       "4             0.76        0.615           0.889    0.727                NaN   \n",
       "2             0.72        0.538           0.875    0.667                NaN   \n",
       "10            0.60        0.692           0.600    0.643  CountVectorizer()   \n",
       "3             0.68        0.462           0.857    0.600                NaN   \n",
       "1             0.60        0.308           0.800    0.444                NaN   \n",
       "\n",
       "     n_Vector ngram_range Del_HCoff  max_df  min_df  \n",
       "Exp                                                  \n",
       "9       292.0      (1, 1)       Yes     0.8     0.1  \n",
       "14      292.0      (1, 1)       Yes     0.8     0.1  \n",
       "7    109537.0      (1, 1)       Yes     0.8     NaN  \n",
       "16   109537.0      (1, 1)       Yes     0.8     NaN  \n",
       "17   109545.0      (1, 1)       Yes     NaN     NaN  \n",
       "8       300.0      (1, 1)       Yes     NaN     0.1  \n",
       "15      300.0      (1, 1)       Yes     NaN     0.1  \n",
       "6    109545.0      (1, 1)       Yes     NaN     NaN  \n",
       "5    115418.0      (1, 1)       NaN     NaN     NaN  \n",
       "11      383.0      (1, 2)       Yes     0.8     0.1  \n",
       "13      383.0      (1, 2)       Yes     0.8     0.1  \n",
       "12      143.0      (1, 2)       Yes     0.8     0.2  \n",
       "4         NaN         NaN       NaN     NaN     NaN  \n",
       "2         NaN         NaN       NaN     NaN     NaN  \n",
       "10       91.0      (2, 2)       Yes     0.8     0.1  \n",
       "3         NaN         NaN       NaN     NaN     NaN  \n",
       "1         NaN         NaN       NaN     NaN     NaN  "
      ]
     },
     "execution_count": 291,
     "metadata": {},
     "output_type": "execute_result"
    }
   ],
   "source": [
    "pd.DataFrame(hyperparameter_table).set_index('Exp').sort_values('Test_f1', ascending=False)"
   ]
  },
  {
   "cell_type": "markdown",
   "metadata": {},
   "source": [
    "## 3.5 High Coefficients Vectors Comparison"
   ]
  },
  {
   "cell_type": "code",
   "execution_count": 301,
   "metadata": {},
   "outputs": [],
   "source": [
    "coef_exp_9 = pd.Series(lr_classifier_6.coef_[0], index=count_vectorizer_5.get_feature_names_out())\n",
    "coef_exp_14 = pd.Series(lr_classifier_11.coef_[0], index=tfidf_vectorizer_2.get_feature_names_out())\n",
    "coef_exp_7= pd.Series(lr_classifier_4.coef_[0], index=count_vectorizer_3.get_feature_names_out())\n",
    "coef_exp_16 = pd.Series(lr_classifier_13.coef_[0], index=tfidf_vectorizer_4.get_feature_names_out())\n",
    "coef_exp_17 = pd.Series(lr_classifier_14.coef_[0], index=tfidf_vectorizer_5.get_feature_names_out())"
   ]
  },
  {
   "cell_type": "code",
   "execution_count": 310,
   "metadata": {},
   "outputs": [
    {
     "data": {
      "text/html": [
       "<div>\n",
       "<style scoped>\n",
       "    .dataframe tbody tr th:only-of-type {\n",
       "        vertical-align: middle;\n",
       "    }\n",
       "\n",
       "    .dataframe tbody tr th {\n",
       "        vertical-align: top;\n",
       "    }\n",
       "\n",
       "    .dataframe thead th {\n",
       "        text-align: right;\n",
       "    }\n",
       "</style>\n",
       "<table border=\"1\" class=\"dataframe\">\n",
       "  <thead>\n",
       "    <tr style=\"text-align: right;\">\n",
       "      <th></th>\n",
       "      <th>CountVectorizer(max_df=0.8, min_df=0.1)</th>\n",
       "      <th>TfidfVectorizer(max_df=0.8, min_df=0.1)</th>\n",
       "      <th>CountVectorizer(max_df=0.8)</th>\n",
       "      <th>TfidfVectorizer(max_df=0.8)</th>\n",
       "      <th>TfidfVectorizer()</th>\n",
       "    </tr>\n",
       "  </thead>\n",
       "  <tbody>\n",
       "    <tr>\n",
       "      <th>0</th>\n",
       "      <td>minister</td>\n",
       "      <td>said</td>\n",
       "      <td>edt</td>\n",
       "      <td>said</td>\n",
       "      <td>said</td>\n",
       "    </tr>\n",
       "    <tr>\n",
       "      <th>1</th>\n",
       "      <td>barack</td>\n",
       "      <td>wednesday</td>\n",
       "      <td>est</td>\n",
       "      <td>wednesday</td>\n",
       "      <td>on</td>\n",
       "    </tr>\n",
       "    <tr>\n",
       "      <th>2</th>\n",
       "      <td>wednesday</td>\n",
       "      <td>minister</td>\n",
       "      <td>wednesday</td>\n",
       "      <td>tuesday</td>\n",
       "      <td>wednesday</td>\n",
       "    </tr>\n",
       "    <tr>\n",
       "      <th>3</th>\n",
       "      <td>thursday</td>\n",
       "      <td>thursday</td>\n",
       "      <td>thursday</td>\n",
       "      <td>thursday</td>\n",
       "      <td>tuesday</td>\n",
       "    </tr>\n",
       "    <tr>\n",
       "      <th>4</th>\n",
       "      <td>tuesday</td>\n",
       "      <td>tuesday</td>\n",
       "      <td>friday</td>\n",
       "      <td>friday</td>\n",
       "      <td>edt</td>\n",
       "    </tr>\n",
       "    <tr>\n",
       "      <th>5</th>\n",
       "      <td>friday</td>\n",
       "      <td>friday</td>\n",
       "      <td>tuesday</td>\n",
       "      <td>edt</td>\n",
       "      <td>in</td>\n",
       "    </tr>\n",
       "    <tr>\n",
       "      <th>6</th>\n",
       "      <td>said</td>\n",
       "      <td>monday</td>\n",
       "      <td>monday</td>\n",
       "      <td>republican</td>\n",
       "      <td>thursday</td>\n",
       "    </tr>\n",
       "    <tr>\n",
       "      <th>7</th>\n",
       "      <td>reporters</td>\n",
       "      <td>barack</td>\n",
       "      <td>nov</td>\n",
       "      <td>monday</td>\n",
       "      <td>friday</td>\n",
       "    </tr>\n",
       "    <tr>\n",
       "      <th>8</th>\n",
       "      <td>monday</td>\n",
       "      <td>reporters</td>\n",
       "      <td>barack</td>\n",
       "      <td>minister</td>\n",
       "      <td>republican</td>\n",
       "    </tr>\n",
       "    <tr>\n",
       "      <th>9</th>\n",
       "      <td>month</td>\n",
       "      <td>saying</td>\n",
       "      <td>saturday</td>\n",
       "      <td>presidential</td>\n",
       "      <td>monday</td>\n",
       "    </tr>\n",
       "  </tbody>\n",
       "</table>\n",
       "</div>"
      ],
      "text/plain": [
       "  CountVectorizer(max_df=0.8, min_df=0.1)  \\\n",
       "0                                minister   \n",
       "1                                  barack   \n",
       "2                               wednesday   \n",
       "3                                thursday   \n",
       "4                                 tuesday   \n",
       "5                                  friday   \n",
       "6                                    said   \n",
       "7                               reporters   \n",
       "8                                  monday   \n",
       "9                                   month   \n",
       "\n",
       "  TfidfVectorizer(max_df=0.8, min_df=0.1) CountVectorizer(max_df=0.8)  \\\n",
       "0                                    said                         edt   \n",
       "1                               wednesday                         est   \n",
       "2                                minister                   wednesday   \n",
       "3                                thursday                    thursday   \n",
       "4                                 tuesday                      friday   \n",
       "5                                  friday                     tuesday   \n",
       "6                                  monday                      monday   \n",
       "7                                  barack                         nov   \n",
       "8                               reporters                      barack   \n",
       "9                                  saying                    saturday   \n",
       "\n",
       "  TfidfVectorizer(max_df=0.8) TfidfVectorizer()  \n",
       "0                        said              said  \n",
       "1                   wednesday                on  \n",
       "2                     tuesday         wednesday  \n",
       "3                    thursday           tuesday  \n",
       "4                      friday               edt  \n",
       "5                         edt                in  \n",
       "6                  republican          thursday  \n",
       "7                      monday            friday  \n",
       "8                    minister        republican  \n",
       "9                presidential            monday  "
      ]
     },
     "execution_count": 310,
     "metadata": {},
     "output_type": "execute_result"
    }
   ],
   "source": [
    "real_news_vectors = pd.DataFrame({'CountVectorizer(max_df=0.8, min_df=0.1)':coef_exp_9.sort_values(ascending=False).head(10).index,\\\n",
    "                                 'TfidfVectorizer(max_df=0.8, min_df=0.1)':coef_exp_14.sort_values(ascending=False).head(10).index,\\\n",
    "                                 'CountVectorizer(max_df=0.8)':coef_exp_7.sort_values(ascending=False).head(10).index,\\\n",
    "                                 'TfidfVectorizer(max_df=0.8)':coef_exp_16.sort_values(ascending=False).head(10).index,\\\n",
    "                                 'TfidfVectorizer()':coef_exp_17.sort_values(ascending=False).head(10).index})\n",
    "real_news_vectors"
   ]
  },
  {
   "cell_type": "code",
   "execution_count": 311,
   "metadata": {},
   "outputs": [
    {
     "data": {
      "text/html": [
       "<div>\n",
       "<style scoped>\n",
       "    .dataframe tbody tr th:only-of-type {\n",
       "        vertical-align: middle;\n",
       "    }\n",
       "\n",
       "    .dataframe tbody tr th {\n",
       "        vertical-align: top;\n",
       "    }\n",
       "\n",
       "    .dataframe thead th {\n",
       "        text-align: right;\n",
       "    }\n",
       "</style>\n",
       "<table border=\"1\" class=\"dataframe\">\n",
       "  <thead>\n",
       "    <tr style=\"text-align: right;\">\n",
       "      <th></th>\n",
       "      <th>CountVectorizer(max_df=0.8, min_df=0.1)</th>\n",
       "      <th>TfidfVectorizer(max_df=0.8, min_df=0.1)</th>\n",
       "      <th>CountVectorizer(max_df=0.8)</th>\n",
       "      <th>TfidfVectorizer(max_df=0.8)</th>\n",
       "      <th>TfidfVectorizer()</th>\n",
       "    </tr>\n",
       "  </thead>\n",
       "  <tbody>\n",
       "    <tr>\n",
       "      <th>0</th>\n",
       "      <td>didn</td>\n",
       "      <td>this</td>\n",
       "      <td>gop</td>\n",
       "      <td>this</td>\n",
       "      <td>this</td>\n",
       "    </tr>\n",
       "    <tr>\n",
       "      <th>1</th>\n",
       "      <td>hillary</td>\n",
       "      <td>just</td>\n",
       "      <td>sen</td>\n",
       "      <td>us</td>\n",
       "      <td>us</td>\n",
       "    </tr>\n",
       "    <tr>\n",
       "      <th>2</th>\n",
       "      <td>us</td>\n",
       "      <td>didn</td>\n",
       "      <td>rep</td>\n",
       "      <td>is</td>\n",
       "      <td>that</td>\n",
       "    </tr>\n",
       "    <tr>\n",
       "      <th>3</th>\n",
       "      <td>just</td>\n",
       "      <td>us</td>\n",
       "      <td>com</td>\n",
       "      <td>just</td>\n",
       "      <td>just</td>\n",
       "    </tr>\n",
       "    <tr>\n",
       "      <th>4</th>\n",
       "      <td>fact</td>\n",
       "      <td>hillary</td>\n",
       "      <td>mr</td>\n",
       "      <td>gop</td>\n",
       "      <td>is</td>\n",
       "    </tr>\n",
       "    <tr>\n",
       "      <th>5</th>\n",
       "      <td>doesn</td>\n",
       "      <td>these</td>\n",
       "      <td>morning</td>\n",
       "      <td>mr</td>\n",
       "      <td>gop</td>\n",
       "    </tr>\n",
       "    <tr>\n",
       "      <th>6</th>\n",
       "      <td>this</td>\n",
       "      <td>even</td>\n",
       "      <td>pic</td>\n",
       "      <td>com</td>\n",
       "      <td>mr</td>\n",
       "    </tr>\n",
       "    <tr>\n",
       "      <th>7</th>\n",
       "      <td>these</td>\n",
       "      <td>fact</td>\n",
       "      <td>night</td>\n",
       "      <td>even</td>\n",
       "      <td>com</td>\n",
       "    </tr>\n",
       "    <tr>\n",
       "      <th>8</th>\n",
       "      <td>however</td>\n",
       "      <td>is</td>\n",
       "      <td>us</td>\n",
       "      <td>hillary</td>\n",
       "      <td>you</td>\n",
       "    </tr>\n",
       "    <tr>\n",
       "      <th>9</th>\n",
       "      <td>even</td>\n",
       "      <td>obama</td>\n",
       "      <td>reportedly</td>\n",
       "      <td>you</td>\n",
       "      <td>hillary</td>\n",
       "    </tr>\n",
       "  </tbody>\n",
       "</table>\n",
       "</div>"
      ],
      "text/plain": [
       "  CountVectorizer(max_df=0.8, min_df=0.1)  \\\n",
       "0                                    didn   \n",
       "1                                 hillary   \n",
       "2                                      us   \n",
       "3                                    just   \n",
       "4                                    fact   \n",
       "5                                   doesn   \n",
       "6                                    this   \n",
       "7                                   these   \n",
       "8                                 however   \n",
       "9                                    even   \n",
       "\n",
       "  TfidfVectorizer(max_df=0.8, min_df=0.1) CountVectorizer(max_df=0.8)  \\\n",
       "0                                    this                         gop   \n",
       "1                                    just                         sen   \n",
       "2                                    didn                         rep   \n",
       "3                                      us                         com   \n",
       "4                                 hillary                          mr   \n",
       "5                                   these                     morning   \n",
       "6                                    even                         pic   \n",
       "7                                    fact                       night   \n",
       "8                                      is                          us   \n",
       "9                                   obama                  reportedly   \n",
       "\n",
       "  TfidfVectorizer(max_df=0.8) TfidfVectorizer()  \n",
       "0                        this              this  \n",
       "1                          us                us  \n",
       "2                          is              that  \n",
       "3                        just              just  \n",
       "4                         gop                is  \n",
       "5                          mr               gop  \n",
       "6                         com                mr  \n",
       "7                        even               com  \n",
       "8                     hillary               you  \n",
       "9                         you           hillary  "
      ]
     },
     "execution_count": 311,
     "metadata": {},
     "output_type": "execute_result"
    }
   ],
   "source": [
    "fake_news_vectors = pd.DataFrame({'CountVectorizer(max_df=0.8, min_df=0.1)':coef_exp_9.sort_values().head(10).index,\\\n",
    "                                 'TfidfVectorizer(max_df=0.8, min_df=0.1)':coef_exp_14.sort_values().head(10).index,\\\n",
    "                                 'CountVectorizer(max_df=0.8)':coef_exp_7.sort_values().head(10).index,\\\n",
    "                                 'TfidfVectorizer(max_df=0.8)':coef_exp_16.sort_values().head(10).index,\\\n",
    "                                 'TfidfVectorizer()':coef_exp_17.sort_values().head(10).index})\n",
    "fake_news_vectors"
   ]
  },
  {
   "cell_type": "markdown",
   "metadata": {},
   "source": [
    "# 4. Output"
   ]
  },
  {
   "cell_type": "code",
   "execution_count": 292,
   "metadata": {},
   "outputs": [],
   "source": [
    "pd.DataFrame(hyperparameter_table).set_index('Exp').to_csv('../Data/hyperparameter_table_Feb29_2024.csv')"
   ]
  },
  {
   "cell_type": "code",
   "execution_count": 293,
   "metadata": {},
   "outputs": [],
   "source": [
    "news.to_csv('../Data/news_classification_Feb29_24.csv')"
   ]
  },
  {
   "cell_type": "markdown",
   "metadata": {},
   "source": [
    "# 5. Conclusion"
   ]
  },
  {
   "cell_type": "markdown",
   "metadata": {},
   "source": [
    "**Based on the test performance result:** \n",
    "\n",
    "**1. Method_2 Test_9 with CountVectorizer(ngram=1, max_df=0.8, min_df=0.1), test accuracy is 0.92, but have recall score 1.0, which means all real news are correctly labelled, two fake news are falsely labelled as real news, which result in precision score 0.867. f1 score is 0.929, which is highest**\n",
    "\n",
    "**2. Method_2 Test_14 with TfidfVectorizer(ngram=1, max_df=0.8, min_df=0.1), test accuracy is 0.92, recall score 0.923, which means one real news are correctly labelled, one fake news are falsely labelled as real news, which result in precision score 0.923. f1 score is 0.923, almost same as Test_9**\n",
    "\n",
    "**3. Method_2 Test_7 with CountVectorizer(ngram=1, max_df=0.8), Method_2 Test_16 with TfidfVectorizer(ngram=1, max_df=0.8), Method_2 Test_17 with TfidfVectorizer(ngram=1) get same results, test accuracy=0.92, precision score=1.0, which means all fake news are correctly labelled, only two real news are falsely labelled as fake news, result in recall score 0.846. f1 score=0.917**\n",
    "\n",
    "**4. Method_2 Test_8 with CountVectorizer(ngram=1, min_df=0.1) and Method_2 Test_15 with TfidfVectorizer(ngram=1, min_df=0.1) are almost same result, test accuracy all 0.88, precision score 0.857 and 0.917 separately, the recall score 0.923 and 0.846 separately, f1 score 0.889 and 0.880 separately.**\n",
    "\n",
    "**5. Method_2 Test_5 with CountVectorizer(ngram=1) before delete high coefficient terms, test accuracy is 0.88, but precision score 1, however, the recall score is 0.769, f1 score 0.870.**\n",
    "\n",
    "**6. Method_2 Test_6 with CountVectorizer(ngram=1) after delete high coefficient terms, test accuracy is 0.88, but precision score 1, however, the recall score is 0.769, f1 score 0.870, same as Test_5**\n",
    "\n",
    "**7. Method_2 Test_11 with CountVectorizer(ngram=1-2, max_df=0.8, min_df=0.1) and Method_2 Test_13 with TfidfVectorizer(ngram=1-2, max_df=0.8, min_df=0.1) get same results, test accuracy is 0.84, precision score 0.846, recall score 0.846, f1 score 0.846.**\n",
    "\n",
    "**8. The two tests with the worst performance using Method_2 are Test_12 with CountVectorizer(ngram=1-2, max_df=0.8, min_df=0.2) and Test_10 with CountVectorizer(ngram=2, max_df=0.8, min_df=0.1) test accuracy is 0.80 and 0.60 separately, precision score 0.833 and 0.600 separately, recall score 0.769 and 0.692 separately, f1 score 0.800 and 0.643 separately. The Test_10 even worse than tests using Method_1.**\n",
    "\n",
    "**9. The best model using Method_1 with features like character count, word count in text and title etc is Test_4 using XGBoost Classifier, test accuracy is 0.76, precision score is 0.889, recall score 0.615.** \n",
    "\n",
    "**10. Method_1 Test_2 and Test_3 using RandomForest Classifier and GradientBoost Classifier get same results, test accuracy is 0.68, precision score is 0.857,  recall score 0.462, which means their strength in predicting real news are weak, more than 50% were labeled not correctly.**\n",
    "\n",
    "**11. Method_1 Test_2 and Test_3 using RandomForest Classifier and GradientBoost Classifier get same results, test accuracy is 0.68, precision score is 0.857,  recall score 0.462, which means their strength in predicting real news are weak, more than 50% were labeled not correctly.**\n",
    "\n",
    "**12. Method_1 Test_1 using Logistic Regression get worst results, test accuracy is 0.60, precision score is 0.8,  recall score 0.308. This is the worst in all tests**\n",
    "\n",
    "**Concluded that the Method_2 performs better than Method_1, which makes sense. Since the properties like character count, word count, date etc can NOT be generalized well, but the text vector can be generalized well.**"
   ]
  },
  {
   "cell_type": "markdown",
   "metadata": {},
   "source": [
    "# 6. Future Work"
   ]
  },
  {
   "cell_type": "markdown",
   "metadata": {},
   "source": [
    "**Try other vectorize methods using packages like spacy, gensim etc. Detail info will be discussed in report and separate notebook.**"
   ]
  },
  {
   "cell_type": "code",
   "execution_count": null,
   "metadata": {},
   "outputs": [],
   "source": []
  }
 ],
 "metadata": {
  "kernelspec": {
   "display_name": "Python 3 (ipykernel)",
   "language": "python",
   "name": "python3"
  },
  "language_info": {
   "codemirror_mode": {
    "name": "ipython",
    "version": 3
   },
   "file_extension": ".py",
   "mimetype": "text/x-python",
   "name": "python",
   "nbconvert_exporter": "python",
   "pygments_lexer": "ipython3",
   "version": "3.10.13"
  }
 },
 "nbformat": 4,
 "nbformat_minor": 4
}
